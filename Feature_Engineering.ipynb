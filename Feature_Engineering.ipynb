{
 "cells": [
  {
   "cell_type": "markdown",
   "id": "947a859d-4dbc-4a62-a45a-fa1ef262b6a0",
   "metadata": {},
   "source": [
    "<div style=\"float: block; text-align: center; line-height: 1.7em\">\n",
    "    <span style=\"font-size: 2em; font-weight: bold\"> Fatigue-Sleepiness in Irregular Workloads for Pilots </span><br>\n",
    "    <span style=\"font-size: 1.5em\"> Features Engineering </span><br>\n",
    "</div>"
   ]
  },
  {
   "cell_type": "markdown",
   "id": "3773e3eb-f31f-4fad-bfac-c9651d747a43",
   "metadata": {},
   "source": [
    "---"
   ]
  },
  {
   "cell_type": "markdown",
   "id": "66cfe7bd-ebc5-4089-97ae-bdf357c41a82",
   "metadata": {},
   "source": [
    "# 1. Loading Required Packages"
   ]
  },
  {
   "cell_type": "code",
   "execution_count": 1,
   "id": "955fa0f9-1dc5-4fcb-a50c-7cde5217fdb5",
   "metadata": {},
   "outputs": [],
   "source": [
    "import os as os\n",
    "import pandas as pd\n",
    "import numpy as np"
   ]
  },
  {
   "cell_type": "markdown",
   "id": "2557cbb6-b681-4953-b7b0-fee633582b6c",
   "metadata": {},
   "source": [
    "---"
   ]
  },
  {
   "cell_type": "markdown",
   "id": "8a6791b0-dee9-47da-994f-001dcf5ffd76",
   "metadata": {},
   "source": [
    "# 2. Reading Data"
   ]
  },
  {
   "cell_type": "markdown",
   "id": "29b3dfe2-8d9b-4e24-85c2-0ba6f5f5ed08",
   "metadata": {},
   "source": [
    "## 2.1. Karolinska, Sam-Perelli scales, Punch Clock and Actimetry data"
   ]
  },
  {
   "cell_type": "markdown",
   "id": "ce43e9c3-eec6-42ef-b699-9cda08ade463",
   "metadata": {},
   "source": [
    "This file consists of three measurements, fatigue-sleepiness scale, pucnh clock measurements and sleep measurement.\n",
    "\n",
    "    All of these measurements were taken in a longitudinal way along one and half semester, specifically during 06/2021 to 03/2022, with exception of punch clock and actimetry, the participant filled the karolinska and Sam-Perelli scales and other informations in a google questionnary form. \n",
    "\n",
    "* **Punch Clock Measurements**, consists of measurements where the participant starts and finnish its duties, so it register these monents in a punch clock\n",
    "\n",
    "* **Fatigue-Sleepiness scale**, consists of a questionnary where the participant scale its status relative to fatigue and sleepiness in three moments, in the beginning, in the middle and end of workload or duty period. \n",
    "\n",
    "* **Sleep Measurement**, here the time when the participant goes to sleep is taken and the moment where he awakes, the data are validated with a sleep diary filled by the participant and actimetric measurements such as arms movements and luminosity of surroundings and the sleep quality scale, also filled by the participant in a google questionnaries form."
   ]
  },
  {
   "cell_type": "code",
   "execution_count": 23,
   "id": "a36147b4-cfbd-4726-b556-6f779bf686bd",
   "metadata": {},
   "outputs": [
    {
     "data": {
      "text/html": [
       "<div>\n",
       "<style scoped>\n",
       "    .dataframe tbody tr th:only-of-type {\n",
       "        vertical-align: middle;\n",
       "    }\n",
       "\n",
       "    .dataframe tbody tr th {\n",
       "        vertical-align: top;\n",
       "    }\n",
       "\n",
       "    .dataframe thead th {\n",
       "        text-align: right;\n",
       "    }\n",
       "</style>\n",
       "<table border=\"1\" class=\"dataframe\">\n",
       "  <thead>\n",
       "    <tr style=\"text-align: right;\">\n",
       "      <th></th>\n",
       "      <th>ID</th>\n",
       "      <th>Record_Category</th>\n",
       "      <th>Record_time_stamp</th>\n",
       "      <th>Sam_Perelli</th>\n",
       "      <th>Karolinska</th>\n",
       "      <th>Workload_start</th>\n",
       "      <th>Workload_end</th>\n",
       "      <th>Workload_length</th>\n",
       "      <th>Workload_category</th>\n",
       "      <th>Sleep_begin</th>\n",
       "      <th>...</th>\n",
       "      <th>Sleep_quality</th>\n",
       "      <th>Time_awake_before_workload</th>\n",
       "      <th>Nap_1_begin</th>\n",
       "      <th>Nap_1_end</th>\n",
       "      <th>Nap_1_quality</th>\n",
       "      <th>Nap_1_length</th>\n",
       "      <th>Nap_2_start</th>\n",
       "      <th>Nap_2_end</th>\n",
       "      <th>Nap_2_length</th>\n",
       "      <th>Nap_2_quality</th>\n",
       "    </tr>\n",
       "  </thead>\n",
       "  <tbody>\n",
       "    <tr>\n",
       "      <th>0</th>\n",
       "      <td>P01</td>\n",
       "      <td>INÍCIO DE JORNADA</td>\n",
       "      <td>7/12/21 12:21</td>\n",
       "      <td>4. Um pouco cansado, não totalmente disposto</td>\n",
       "      <td>5. Nem alerta, nem sonolento</td>\n",
       "      <td>15:55:00</td>\n",
       "      <td>00:48:00</td>\n",
       "      <td>533</td>\n",
       "      <td>AFT</td>\n",
       "      <td>23:04</td>\n",
       "      <td>...</td>\n",
       "      <td>5</td>\n",
       "      <td>08:28</td>\n",
       "      <td>NaN</td>\n",
       "      <td>NaN</td>\n",
       "      <td>NaN</td>\n",
       "      <td>NaN</td>\n",
       "      <td>NaN</td>\n",
       "      <td>NaN</td>\n",
       "      <td>NaN</td>\n",
       "      <td>NaN</td>\n",
       "    </tr>\n",
       "    <tr>\n",
       "      <th>1</th>\n",
       "      <td>P01</td>\n",
       "      <td>MEIO DE JORNADA</td>\n",
       "      <td>7/12/21 19:57</td>\n",
       "      <td>5. Moderadamente cansado, enfraquecido</td>\n",
       "      <td>5. Nem alerta, nem sonolento</td>\n",
       "      <td>15:55:00</td>\n",
       "      <td>00:48:00</td>\n",
       "      <td>534</td>\n",
       "      <td>AFT</td>\n",
       "      <td>23:04</td>\n",
       "      <td>...</td>\n",
       "      <td>5</td>\n",
       "      <td>08:28</td>\n",
       "      <td>NaN</td>\n",
       "      <td>NaN</td>\n",
       "      <td>NaN</td>\n",
       "      <td>NaN</td>\n",
       "      <td>NaN</td>\n",
       "      <td>NaN</td>\n",
       "      <td>NaN</td>\n",
       "      <td>NaN</td>\n",
       "    </tr>\n",
       "  </tbody>\n",
       "</table>\n",
       "<p>2 rows × 22 columns</p>\n",
       "</div>"
      ],
      "text/plain": [
       "    ID    Record_Category Record_time_stamp  \\\n",
       "0  P01  INÍCIO DE JORNADA     7/12/21 12:21   \n",
       "1  P01    MEIO DE JORNADA     7/12/21 19:57   \n",
       "\n",
       "                                    Sam_Perelli                    Karolinska  \\\n",
       "0  4. Um pouco cansado, não totalmente disposto  5. Nem alerta, nem sonolento   \n",
       "1        5. Moderadamente cansado, enfraquecido  5. Nem alerta, nem sonolento   \n",
       "\n",
       "  Workload_start Workload_end Workload_length Workload_category Sleep_begin  \\\n",
       "0       15:55:00     00:48:00             533               AFT       23:04   \n",
       "1       15:55:00     00:48:00             534               AFT       23:04   \n",
       "\n",
       "   ... Sleep_quality Time_awake_before_workload Nap_1_begin Nap_1_end  \\\n",
       "0  ...             5                      08:28         NaN       NaN   \n",
       "1  ...             5                      08:28         NaN       NaN   \n",
       "\n",
       "  Nap_1_quality Nap_1_length Nap_2_start Nap_2_end Nap_2_length Nap_2_quality  \n",
       "0           NaN          NaN         NaN       NaN          NaN           NaN  \n",
       "1           NaN          NaN         NaN       NaN          NaN           NaN  \n",
       "\n",
       "[2 rows x 22 columns]"
      ]
     },
     "execution_count": 23,
     "metadata": {},
     "output_type": "execute_result"
    }
   ],
   "source": [
    "file = os.path.join('data','data_raw_questionnaire.csv')\n",
    "df1 = pd.read_csv(file)\n",
    "\n",
    "df1.head(2)"
   ]
  },
  {
   "cell_type": "markdown",
   "id": "82521186-120b-4d7a-a59d-2c0f3d94cd94",
   "metadata": {},
   "source": [
    "## 2.2. Socio-Economic Data"
   ]
  },
  {
   "cell_type": "markdown",
   "id": "cf6c474c-8cac-4628-a8c1-123215ea91bb",
   "metadata": {},
   "source": [
    "These data were takens just once, through a questionnary filled by the participants at the beginning of the study."
   ]
  },
  {
   "cell_type": "code",
   "execution_count": 24,
   "id": "33ebdfe2-9886-4094-a47d-65e65145f3c0",
   "metadata": {},
   "outputs": [
    {
     "data": {
      "text/html": [
       "<div>\n",
       "<style scoped>\n",
       "    .dataframe tbody tr th:only-of-type {\n",
       "        vertical-align: middle;\n",
       "    }\n",
       "\n",
       "    .dataframe tbody tr th {\n",
       "        vertical-align: top;\n",
       "    }\n",
       "\n",
       "    .dataframe thead th {\n",
       "        text-align: right;\n",
       "    }\n",
       "</style>\n",
       "<table border=\"1\" class=\"dataframe\">\n",
       "  <thead>\n",
       "    <tr style=\"text-align: right;\">\n",
       "      <th></th>\n",
       "      <th>Id</th>\n",
       "      <th>Sex</th>\n",
       "      <th>Position</th>\n",
       "      <th>Num_Sons</th>\n",
       "      <th>Age</th>\n",
       "      <th>rate_income</th>\n",
       "      <th>Number_sons</th>\n",
       "      <th>Younger_son_age</th>\n",
       "      <th>Son1</th>\n",
       "      <th>Son2</th>\n",
       "      <th>Son3</th>\n",
       "      <th>Flight_hours</th>\n",
       "      <th>Time_company</th>\n",
       "      <th>Time_aviation</th>\n",
       "      <th>Education</th>\n",
       "      <th>Marital_status</th>\n",
       "      <th>Number_residents</th>\n",
       "      <th>Time_displacement</th>\n",
       "    </tr>\n",
       "  </thead>\n",
       "  <tbody>\n",
       "    <tr>\n",
       "      <th>0</th>\n",
       "      <td>P01</td>\n",
       "      <td>MALE</td>\n",
       "      <td>CMTE</td>\n",
       "      <td>2</td>\n",
       "      <td>49</td>\n",
       "      <td>70.0</td>\n",
       "      <td>2</td>\n",
       "      <td>11.0</td>\n",
       "      <td>18.0</td>\n",
       "      <td>11.0</td>\n",
       "      <td>NaN</td>\n",
       "      <td>17000.0</td>\n",
       "      <td>19.5</td>\n",
       "      <td>25.0</td>\n",
       "      <td>PHD</td>\n",
       "      <td>MARRIED</td>\n",
       "      <td>3</td>\n",
       "      <td>60</td>\n",
       "    </tr>\n",
       "    <tr>\n",
       "      <th>1</th>\n",
       "      <td>P02</td>\n",
       "      <td>MALE</td>\n",
       "      <td>CMTE</td>\n",
       "      <td>2</td>\n",
       "      <td>57</td>\n",
       "      <td>80.0</td>\n",
       "      <td>2</td>\n",
       "      <td>0.0</td>\n",
       "      <td>NaN</td>\n",
       "      <td>NaN</td>\n",
       "      <td>NaN</td>\n",
       "      <td>17000.0</td>\n",
       "      <td>9.0</td>\n",
       "      <td>30.0</td>\n",
       "      <td>ESPEC</td>\n",
       "      <td>MARRIED</td>\n",
       "      <td>1</td>\n",
       "      <td>20</td>\n",
       "    </tr>\n",
       "    <tr>\n",
       "      <th>2</th>\n",
       "      <td>P03</td>\n",
       "      <td>MALE</td>\n",
       "      <td>CMTE</td>\n",
       "      <td>1</td>\n",
       "      <td>42</td>\n",
       "      <td>80.0</td>\n",
       "      <td>1</td>\n",
       "      <td>8.0</td>\n",
       "      <td>8.0</td>\n",
       "      <td>NaN</td>\n",
       "      <td>NaN</td>\n",
       "      <td>8000.0</td>\n",
       "      <td>12.0</td>\n",
       "      <td>12.0</td>\n",
       "      <td>ESPEC</td>\n",
       "      <td>NON_STABLE</td>\n",
       "      <td>2</td>\n",
       "      <td>420</td>\n",
       "    </tr>\n",
       "    <tr>\n",
       "      <th>3</th>\n",
       "      <td>P04</td>\n",
       "      <td>MALE</td>\n",
       "      <td>CMTE</td>\n",
       "      <td>0</td>\n",
       "      <td>34</td>\n",
       "      <td>60.0</td>\n",
       "      <td>0</td>\n",
       "      <td>0.0</td>\n",
       "      <td>NaN</td>\n",
       "      <td>NaN</td>\n",
       "      <td>NaN</td>\n",
       "      <td>5200.0</td>\n",
       "      <td>13.0</td>\n",
       "      <td>13.0</td>\n",
       "      <td>ESPEC</td>\n",
       "      <td>MARRIED</td>\n",
       "      <td>1</td>\n",
       "      <td>20</td>\n",
       "    </tr>\n",
       "  </tbody>\n",
       "</table>\n",
       "</div>"
      ],
      "text/plain": [
       "    Id   Sex Position  Num_Sons  Age  rate_income  Number_sons  \\\n",
       "0  P01  MALE     CMTE         2   49         70.0            2   \n",
       "1  P02  MALE     CMTE         2   57         80.0            2   \n",
       "2  P03  MALE     CMTE         1   42         80.0            1   \n",
       "3  P04  MALE     CMTE         0   34         60.0            0   \n",
       "\n",
       "   Younger_son_age  Son1  Son2  Son3  Flight_hours  Time_company  \\\n",
       "0             11.0  18.0  11.0   NaN       17000.0          19.5   \n",
       "1              0.0   NaN   NaN   NaN       17000.0           9.0   \n",
       "2              8.0   8.0   NaN   NaN        8000.0          12.0   \n",
       "3              0.0   NaN   NaN   NaN        5200.0          13.0   \n",
       "\n",
       "   Time_aviation Education Marital_status  Number_residents  Time_displacement  \n",
       "0           25.0       PHD        MARRIED                 3                 60  \n",
       "1           30.0     ESPEC        MARRIED                 1                 20  \n",
       "2           12.0     ESPEC     NON_STABLE                 2                420  \n",
       "3           13.0     ESPEC        MARRIED                 1                 20  "
      ]
     },
     "execution_count": 24,
     "metadata": {},
     "output_type": "execute_result"
    }
   ],
   "source": [
    "file = os.path.join('data','data_raw_sociodemo.csv')\n",
    "df2 = pd.read_csv(file)\n",
    "\n",
    "df2.head(4)"
   ]
  },
  {
   "cell_type": "markdown",
   "id": "0f0a1cdf-cb8e-467c-baef-58334b8c9b39",
   "metadata": {},
   "source": [
    "## 2.3. Chronotype data"
   ]
  },
  {
   "cell_type": "markdown",
   "id": "9e4eea42-a963-4945-94da-afbb82c2c0c5",
   "metadata": {},
   "source": [
    "These data were taken just once at the beginning of the study through a test to classify the chronotype of participant, if it is Matutine, Intermediary or Vespertine."
   ]
  },
  {
   "cell_type": "code",
   "execution_count": 25,
   "id": "82f668cb-e7cf-4212-872f-9604acf2b63c",
   "metadata": {},
   "outputs": [
    {
     "data": {
      "text/html": [
       "<div>\n",
       "<style scoped>\n",
       "    .dataframe tbody tr th:only-of-type {\n",
       "        vertical-align: middle;\n",
       "    }\n",
       "\n",
       "    .dataframe tbody tr th {\n",
       "        vertical-align: top;\n",
       "    }\n",
       "\n",
       "    .dataframe thead th {\n",
       "        text-align: right;\n",
       "    }\n",
       "</style>\n",
       "<table border=\"1\" class=\"dataframe\">\n",
       "  <thead>\n",
       "    <tr style=\"text-align: right;\">\n",
       "      <th></th>\n",
       "      <th>Id</th>\n",
       "      <th>S1</th>\n",
       "      <th>S2</th>\n",
       "      <th>S3</th>\n",
       "      <th>S4</th>\n",
       "      <th>S5</th>\n",
       "      <th>S6</th>\n",
       "      <th>S7</th>\n",
       "      <th>Score_sum</th>\n",
       "      <th>Result</th>\n",
       "      <th>Classification</th>\n",
       "    </tr>\n",
       "  </thead>\n",
       "  <tbody>\n",
       "    <tr>\n",
       "      <th>0</th>\n",
       "      <td>P01</td>\n",
       "      <td>3</td>\n",
       "      <td>2</td>\n",
       "      <td>4</td>\n",
       "      <td>2</td>\n",
       "      <td>2</td>\n",
       "      <td>4</td>\n",
       "      <td>4</td>\n",
       "      <td>21</td>\n",
       "      <td>3.00</td>\n",
       "      <td>INT</td>\n",
       "    </tr>\n",
       "    <tr>\n",
       "      <th>1</th>\n",
       "      <td>P02</td>\n",
       "      <td>3</td>\n",
       "      <td>2</td>\n",
       "      <td>3</td>\n",
       "      <td>3</td>\n",
       "      <td>2</td>\n",
       "      <td>3</td>\n",
       "      <td>3</td>\n",
       "      <td>19</td>\n",
       "      <td>2.71</td>\n",
       "      <td>INT</td>\n",
       "    </tr>\n",
       "    <tr>\n",
       "      <th>2</th>\n",
       "      <td>P03</td>\n",
       "      <td>3</td>\n",
       "      <td>3</td>\n",
       "      <td>3</td>\n",
       "      <td>4</td>\n",
       "      <td>4</td>\n",
       "      <td>4</td>\n",
       "      <td>4</td>\n",
       "      <td>25</td>\n",
       "      <td>3.57</td>\n",
       "      <td>MAT</td>\n",
       "    </tr>\n",
       "    <tr>\n",
       "      <th>3</th>\n",
       "      <td>P04</td>\n",
       "      <td>2</td>\n",
       "      <td>1</td>\n",
       "      <td>2</td>\n",
       "      <td>3</td>\n",
       "      <td>1</td>\n",
       "      <td>4</td>\n",
       "      <td>2</td>\n",
       "      <td>15</td>\n",
       "      <td>2.14</td>\n",
       "      <td>INT</td>\n",
       "    </tr>\n",
       "    <tr>\n",
       "      <th>4</th>\n",
       "      <td>P05</td>\n",
       "      <td>1</td>\n",
       "      <td>1</td>\n",
       "      <td>2</td>\n",
       "      <td>1</td>\n",
       "      <td>1</td>\n",
       "      <td>2</td>\n",
       "      <td>2</td>\n",
       "      <td>10</td>\n",
       "      <td>1.43</td>\n",
       "      <td>VES</td>\n",
       "    </tr>\n",
       "  </tbody>\n",
       "</table>\n",
       "</div>"
      ],
      "text/plain": [
       "    Id  S1  S2  S3  S4  S5  S6  S7  Score_sum  Result Classification\n",
       "0  P01   3   2   4   2   2   4   4         21    3.00            INT\n",
       "1  P02   3   2   3   3   2   3   3         19    2.71            INT\n",
       "2  P03   3   3   3   4   4   4   4         25    3.57            MAT\n",
       "3  P04   2   1   2   3   1   4   2         15    2.14            INT\n",
       "4  P05   1   1   2   1   1   2   2         10    1.43            VES"
      ]
     },
     "execution_count": 25,
     "metadata": {},
     "output_type": "execute_result"
    }
   ],
   "source": [
    "file = os.path.join('data','data_raw_chronotype.csv')\n",
    "df3 = pd.read_csv(file)\n",
    "\n",
    "df3.head(5)"
   ]
  },
  {
   "cell_type": "markdown",
   "id": "57549857-62f6-4ffa-b443-46c94d95c6ec",
   "metadata": {},
   "source": [
    "## 2.4. Karolinska 6 months sleep"
   ]
  },
  {
   "cell_type": "markdown",
   "id": "c5b03d5a-4264-4c2c-add8-9435b8a7a021",
   "metadata": {},
   "source": [
    "Here is the Karolinska and Sam Perelli index for sleep quality for the last 6 months. It consists of questionnary with more than 10 questions after some mathematical operations based on previous studies (factor analysis), provide us a serie of three factors, presented in this file."
   ]
  },
  {
   "cell_type": "code",
   "execution_count": 26,
   "id": "7cbf9486-8257-4095-a9d8-5e201896f133",
   "metadata": {},
   "outputs": [
    {
     "data": {
      "text/html": [
       "<div>\n",
       "<style scoped>\n",
       "    .dataframe tbody tr th:only-of-type {\n",
       "        vertical-align: middle;\n",
       "    }\n",
       "\n",
       "    .dataframe tbody tr th {\n",
       "        vertical-align: top;\n",
       "    }\n",
       "\n",
       "    .dataframe thead th {\n",
       "        text-align: right;\n",
       "    }\n",
       "</style>\n",
       "<table border=\"1\" class=\"dataframe\">\n",
       "  <thead>\n",
       "    <tr style=\"text-align: right;\">\n",
       "      <th></th>\n",
       "      <th>Id</th>\n",
       "      <th>Disturbed sleep index</th>\n",
       "      <th>Awakening index</th>\n",
       "      <th>Sleepiness/fatigue</th>\n",
       "    </tr>\n",
       "  </thead>\n",
       "  <tbody>\n",
       "    <tr>\n",
       "      <th>0</th>\n",
       "      <td>P01</td>\n",
       "      <td>13</td>\n",
       "      <td>9</td>\n",
       "      <td>14</td>\n",
       "    </tr>\n",
       "    <tr>\n",
       "      <th>1</th>\n",
       "      <td>P02</td>\n",
       "      <td>6</td>\n",
       "      <td>3</td>\n",
       "      <td>25</td>\n",
       "    </tr>\n",
       "    <tr>\n",
       "      <th>2</th>\n",
       "      <td>P03</td>\n",
       "      <td>11</td>\n",
       "      <td>7</td>\n",
       "      <td>10</td>\n",
       "    </tr>\n",
       "    <tr>\n",
       "      <th>3</th>\n",
       "      <td>P04</td>\n",
       "      <td>11</td>\n",
       "      <td>9</td>\n",
       "      <td>12</td>\n",
       "    </tr>\n",
       "    <tr>\n",
       "      <th>4</th>\n",
       "      <td>P05</td>\n",
       "      <td>18</td>\n",
       "      <td>11</td>\n",
       "      <td>18</td>\n",
       "    </tr>\n",
       "  </tbody>\n",
       "</table>\n",
       "</div>"
      ],
      "text/plain": [
       "    Id  Disturbed sleep index  Awakening index  Sleepiness/fatigue\n",
       "0  P01                     13                9                  14\n",
       "1  P02                      6                3                  25\n",
       "2  P03                     11                7                  10\n",
       "3  P04                     11                9                  12\n",
       "4  P05                     18               11                  18"
      ]
     },
     "execution_count": 26,
     "metadata": {},
     "output_type": "execute_result"
    }
   ],
   "source": [
    "file = os.path.join('data','data_raw_KSQ.csv')\n",
    "df4 = pd.read_csv(file)\n",
    "\n",
    "df4.head(5)"
   ]
  },
  {
   "cell_type": "markdown",
   "id": "110aad22-8800-44ca-a2e0-9d879ac2d40b",
   "metadata": {},
   "source": [
    "---"
   ]
  },
  {
   "cell_type": "markdown",
   "id": "e888e126-adc8-47f1-b845-a5d5b7769675",
   "metadata": {},
   "source": [
    "# 3. Features Engineering of Workloads Types and Scales"
   ]
  },
  {
   "cell_type": "markdown",
   "id": "80c7f6cf-b6f5-4d14-b202-7d18ac769e83",
   "metadata": {},
   "source": [
    "## 3.1. Function to create features based on substrings"
   ]
  },
  {
   "cell_type": "code",
   "execution_count": 51,
   "id": "8a55fbc8-a26c-43a7-ba85-2ddb0e46923b",
   "metadata": {},
   "outputs": [],
   "source": [
    "def func_wType(x):\n",
    "    # Not to be used in big data, too slow.\n",
    "    # Call as: df[new_col] = df[col].apply(func_wType)\n",
    "    \n",
    "    group = \"others\"\n",
    "    for key in category_dict:\n",
    "        if key in x:\n",
    "            group = category_dict[key]\n",
    "            break\n",
    "    return group"
   ]
  },
  {
   "cell_type": "markdown",
   "id": "9e1ef460-d1dc-45a7-b131-8d4f8fcc5787",
   "metadata": {},
   "source": [
    "## 3.2. Variables Derived from \"Record_Category\" Column"
   ]
  },
  {
   "cell_type": "markdown",
   "id": "018df18d-7372-4cff-b0e5-57d66079c485",
   "metadata": {},
   "source": [
    "### 3.2.1. Workload Moment"
   ]
  },
  {
   "cell_type": "markdown",
   "id": "b2e98571-b835-43f3-84e5-7fe7dd134c84",
   "metadata": {},
   "source": [
    "The variable workload moment will categorize the moment in workload wherein the Karolinska and Sam Perelly scales were filled."
   ]
  },
  {
   "cell_type": "code",
   "execution_count": 57,
   "id": "2bc867ea-d8ae-4deb-803b-6ac3fe1c627e",
   "metadata": {},
   "outputs": [],
   "source": [
    "category_dict = {'INÍCIO DE JORNADA':'begin', 'MEIO DE JORNADA':'middle', 'FIM DE JORNADA':'end',\n",
    "                 'FOLGA':'day_off', 'MONOFOLGA':'single_day_off', 'SOBREAVISO':'warning', \n",
    "                 'RESERVA':'reserve'}\n",
    "\n",
    "df1['workload_moment'] = df1['Record_Category'].apply(func_wType)"
   ]
  },
  {
   "cell_type": "markdown",
   "id": "5dbe96a1-5561-4769-8dca-2316896e1a9e",
   "metadata": {},
   "source": [
    "### 3.2.2. Workload Type"
   ]
  },
  {
   "cell_type": "markdown",
   "id": "707d94c8-4a04-4c3c-b4f5-8a1f87b549cc",
   "metadata": {},
   "source": [
    "The variables workload type identifies the aviation relevant type of workload based on the hour wherein the pilot begins its duties."
   ]
  },
  {
   "cell_type": "code",
   "execution_count": 58,
   "id": "3e32530e-e5be-4376-ac72-c259ec7b9993",
   "metadata": {},
   "outputs": [],
   "source": [
    "category_dict ={'EARLY-START':'early-start', 'MADRUGADA':'night'}\n",
    "\n",
    "df1['workload_type'] = df1['Record_Category'].apply(func_wType)"
   ]
  },
  {
   "cell_type": "markdown",
   "id": "e1f73468-1156-4653-a552-97af8ca8e6ed",
   "metadata": {},
   "source": [
    "### 3.2.3. Type of Previous Workload (Early Start, Night, Single Day-Off)"
   ]
  },
  {
   "cell_type": "markdown",
   "id": "7c5e7460-2e41-4276-9383-99dc06ac08e8",
   "metadata": {},
   "source": [
    "This variable identifies the previous workload types, we only selected three types of of previous workloads, Early-Start, Night and Single Day Off."
   ]
  },
  {
   "cell_type": "markdown",
   "id": "42de713f-010a-4c24-94cf-57220cdbb828",
   "metadata": {},
   "source": [
    "#### Previous Early-Start Workloads"
   ]
  },
  {
   "cell_type": "code",
   "execution_count": 65,
   "id": "b31e4846-d22c-4b28-ad5b-94874b75d154",
   "metadata": {},
   "outputs": [],
   "source": [
    "category_dict = {'APÓS EARLY-START':'1', 'TRÊS EARLY-START':'3', 'APÓS DOIS EARLY-START': '2',\n",
    "                 'APÓS DUAS JORNADAS EARLY-START': '2'}\n",
    "\n",
    "df1['workload_type_prev_es'] = df1['Record_Category'].apply(func_wType).replace('others','0')"
   ]
  },
  {
   "cell_type": "markdown",
   "id": "3fd33ad1-e147-4ac3-96f8-dba1b4d84f64",
   "metadata": {},
   "source": [
    "#### Previous Night Workloads"
   ]
  },
  {
   "cell_type": "code",
   "execution_count": 66,
   "id": "5b41d346-cc46-40eb-aa7b-799387d7945d",
   "metadata": {},
   "outputs": [],
   "source": [
    "category_dict = {'APÓS MADRUGADA':'1', 'APÓS DUAS MADRUGADAS':'2', 'APÓS JORNADA NA MADRUGADA':'1',\n",
    "                 'APÓS DUAS JORNADAS NA MADRUGADA' :'2', 'APÓS DUAS JORNADASNA MADRUGADA' :'2'}\n",
    "\n",
    "df1['workload_type_prev_nt'] = df1['Record_Category'].apply(func_wType).replace('others','0')"
   ]
  },
  {
   "cell_type": "code",
   "execution_count": 69,
   "id": "17d3e1e7-5359-43a5-86f9-e41139f7b3a7",
   "metadata": {},
   "outputs": [
    {
     "data": {
      "text/html": [
       "<div>\n",
       "<style scoped>\n",
       "    .dataframe tbody tr th:only-of-type {\n",
       "        vertical-align: middle;\n",
       "    }\n",
       "\n",
       "    .dataframe tbody tr th {\n",
       "        vertical-align: top;\n",
       "    }\n",
       "\n",
       "    .dataframe thead th {\n",
       "        text-align: right;\n",
       "    }\n",
       "</style>\n",
       "<table border=\"1\" class=\"dataframe\">\n",
       "  <thead>\n",
       "    <tr style=\"text-align: right;\">\n",
       "      <th></th>\n",
       "      <th>workload_type</th>\n",
       "      <th>workload_type_prev_nt</th>\n",
       "      <th>workload_type_prev_es</th>\n",
       "    </tr>\n",
       "  </thead>\n",
       "  <tbody>\n",
       "    <tr>\n",
       "      <th>0</th>\n",
       "      <td>others</td>\n",
       "      <td>0</td>\n",
       "      <td>0</td>\n",
       "    </tr>\n",
       "    <tr>\n",
       "      <th>3</th>\n",
       "      <td>early-start</td>\n",
       "      <td>0</td>\n",
       "      <td>0</td>\n",
       "    </tr>\n",
       "    <tr>\n",
       "      <th>5</th>\n",
       "      <td>early-start</td>\n",
       "      <td>0</td>\n",
       "      <td>1</td>\n",
       "    </tr>\n",
       "    <tr>\n",
       "      <th>37</th>\n",
       "      <td>night</td>\n",
       "      <td>0</td>\n",
       "      <td>0</td>\n",
       "    </tr>\n",
       "    <tr>\n",
       "      <th>38</th>\n",
       "      <td>night</td>\n",
       "      <td>1</td>\n",
       "      <td>0</td>\n",
       "    </tr>\n",
       "    <tr>\n",
       "      <th>41</th>\n",
       "      <td>night</td>\n",
       "      <td>2</td>\n",
       "      <td>0</td>\n",
       "    </tr>\n",
       "    <tr>\n",
       "      <th>46</th>\n",
       "      <td>early-start</td>\n",
       "      <td>1</td>\n",
       "      <td>0</td>\n",
       "    </tr>\n",
       "    <tr>\n",
       "      <th>127</th>\n",
       "      <td>early-start</td>\n",
       "      <td>0</td>\n",
       "      <td>2</td>\n",
       "    </tr>\n",
       "    <tr>\n",
       "      <th>210</th>\n",
       "      <td>early-start</td>\n",
       "      <td>0</td>\n",
       "      <td>3</td>\n",
       "    </tr>\n",
       "  </tbody>\n",
       "</table>\n",
       "</div>"
      ],
      "text/plain": [
       "    workload_type workload_type_prev_nt workload_type_prev_es\n",
       "0          others                     0                     0\n",
       "3     early-start                     0                     0\n",
       "5     early-start                     0                     1\n",
       "37          night                     0                     0\n",
       "38          night                     1                     0\n",
       "41          night                     2                     0\n",
       "46    early-start                     1                     0\n",
       "127   early-start                     0                     2\n",
       "210   early-start                     0                     3"
      ]
     },
     "execution_count": 69,
     "metadata": {},
     "output_type": "execute_result"
    }
   ],
   "source": [
    "df1[['workload_type','workload_type_prev_nt','workload_type_prev_es']].drop_duplicates().head(100)"
   ]
  }
 ],
 "metadata": {
  "kernelspec": {
   "display_name": "Python 3 (ipykernel)",
   "language": "python",
   "name": "python3"
  },
  "language_info": {
   "codemirror_mode": {
    "name": "ipython",
    "version": 3
   },
   "file_extension": ".py",
   "mimetype": "text/x-python",
   "name": "python",
   "nbconvert_exporter": "python",
   "pygments_lexer": "ipython3",
   "version": "3.9.7"
  }
 },
 "nbformat": 4,
 "nbformat_minor": 5
}
