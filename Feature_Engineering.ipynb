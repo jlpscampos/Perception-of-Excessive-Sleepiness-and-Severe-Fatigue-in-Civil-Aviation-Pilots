{
 "cells": [
  {
   "cell_type": "markdown",
   "id": "947a859d-4dbc-4a62-a45a-fa1ef262b6a0",
   "metadata": {},
   "source": [
    "<div style=\"float: block; text-align: center; line-height: 1.7em\">\n",
    "    <span style=\"font-size: 2em; font-weight: bold\"> Fatigue-Sleepiness in Irregular Workloads for Pilots </span><br>\n",
    "    <span style=\"font-size: 1.5em\"> Features Engineering </span><br>\n",
    "</div>"
   ]
  },
  {
   "cell_type": "markdown",
   "id": "3773e3eb-f31f-4fad-bfac-c9651d747a43",
   "metadata": {},
   "source": [
    "---"
   ]
  },
  {
   "cell_type": "markdown",
   "id": "66cfe7bd-ebc5-4089-97ae-bdf357c41a82",
   "metadata": {},
   "source": [
    "# 1. Loading Required Packages"
   ]
  },
  {
   "cell_type": "code",
   "execution_count": 1,
   "id": "955fa0f9-1dc5-4fcb-a50c-7cde5217fdb5",
   "metadata": {},
   "outputs": [],
   "source": [
    "import os as os\n",
    "import pandas as pd\n",
    "import numpy as np"
   ]
  },
  {
   "cell_type": "markdown",
   "id": "2557cbb6-b681-4953-b7b0-fee633582b6c",
   "metadata": {},
   "source": [
    "---"
   ]
  },
  {
   "cell_type": "markdown",
   "id": "8a6791b0-dee9-47da-994f-001dcf5ffd76",
   "metadata": {},
   "source": [
    "# 2. Reading Data"
   ]
  },
  {
   "cell_type": "markdown",
   "id": "29b3dfe2-8d9b-4e24-85c2-0ba6f5f5ed08",
   "metadata": {},
   "source": [
    "## 2.1. Karolinska, Sam-Perelli scales, Punch Clock and Actimetry data"
   ]
  },
  {
   "cell_type": "markdown",
   "id": "ce43e9c3-eec6-42ef-b699-9cda08ade463",
   "metadata": {},
   "source": [
    "This file consists of three measurements, fatigue-sleepiness scale, pucnh clock and actimetric or sleep diary measurements.\n",
    "\n",
    "    All of these measurements were taken longitudinally along one and half semester, specifically during 06/2021 to 03/2022, questionnaires based informations were taken in google questionnaire form. \n",
    "\n",
    "* **Punch Clock Measurements**, consists of measurements where the participant starts and finnish its labour duties in a punch clock.\n",
    "\n",
    "* **Fatigue-Sleepiness scale**, consists of a questionnary where the participant scale their status relative to fatigue and sleepiness in three moments along the duty period, at the start, at the middle and at the end. \n",
    "\n",
    "* **Sleep Measurements**, the time the participant goes to sleep and wake up is taken through actimetric measurements such as ammount of light in surroundings, arms movement and sleep diary."
   ]
  },
  {
   "cell_type": "code",
   "execution_count": 3,
   "id": "a36147b4-cfbd-4726-b556-6f779bf686bd",
   "metadata": {},
   "outputs": [
    {
     "data": {
      "text/html": [
       "<div>\n",
       "<style scoped>\n",
       "    .dataframe tbody tr th:only-of-type {\n",
       "        vertical-align: middle;\n",
       "    }\n",
       "\n",
       "    .dataframe tbody tr th {\n",
       "        vertical-align: top;\n",
       "    }\n",
       "\n",
       "    .dataframe thead th {\n",
       "        text-align: right;\n",
       "    }\n",
       "</style>\n",
       "<table border=\"1\" class=\"dataframe\">\n",
       "  <thead>\n",
       "    <tr style=\"text-align: right;\">\n",
       "      <th></th>\n",
       "      <th>Id</th>\n",
       "      <th>Record_Category</th>\n",
       "      <th>Record_time_stamp</th>\n",
       "      <th>Sam_Perelli</th>\n",
       "      <th>Karolinska</th>\n",
       "      <th>Duty_start</th>\n",
       "      <th>Duty_end</th>\n",
       "      <th>Duty_length</th>\n",
       "      <th>Duty_category</th>\n",
       "      <th>Bedtime_start</th>\n",
       "      <th>...</th>\n",
       "      <th>Sleep_quality</th>\n",
       "      <th>Time_awake_before_workload</th>\n",
       "      <th>Nap_1_begin</th>\n",
       "      <th>Nap_1_end</th>\n",
       "      <th>Nap_1_quality</th>\n",
       "      <th>Nap_1_length</th>\n",
       "      <th>Nap_2_start</th>\n",
       "      <th>Nap_2_end</th>\n",
       "      <th>Nap_2_length</th>\n",
       "      <th>Nap_2_quality</th>\n",
       "    </tr>\n",
       "  </thead>\n",
       "  <tbody>\n",
       "    <tr>\n",
       "      <th>0</th>\n",
       "      <td>P01</td>\n",
       "      <td>INÍCIO DE JORNADA</td>\n",
       "      <td>07/12/2021 12:21</td>\n",
       "      <td>4. Um pouco cansado, não totalmente disposto</td>\n",
       "      <td>5. Nem alerta, nem sonolento</td>\n",
       "      <td>15:55:00</td>\n",
       "      <td>00:48:00</td>\n",
       "      <td>533</td>\n",
       "      <td>AFT</td>\n",
       "      <td>23:04</td>\n",
       "      <td>...</td>\n",
       "      <td>5</td>\n",
       "      <td>08:28</td>\n",
       "      <td>NaN</td>\n",
       "      <td>NaN</td>\n",
       "      <td>NaN</td>\n",
       "      <td>NaN</td>\n",
       "      <td>NaN</td>\n",
       "      <td>NaN</td>\n",
       "      <td>NaN</td>\n",
       "      <td>NaN</td>\n",
       "    </tr>\n",
       "    <tr>\n",
       "      <th>1</th>\n",
       "      <td>P01</td>\n",
       "      <td>MEIO DE JORNADA</td>\n",
       "      <td>07/12/2021 19:57</td>\n",
       "      <td>5. Moderadamente cansado, enfraquecido</td>\n",
       "      <td>5. Nem alerta, nem sonolento</td>\n",
       "      <td>15:55:00</td>\n",
       "      <td>00:48:00</td>\n",
       "      <td>534</td>\n",
       "      <td>AFT</td>\n",
       "      <td>23:04</td>\n",
       "      <td>...</td>\n",
       "      <td>5</td>\n",
       "      <td>08:28</td>\n",
       "      <td>NaN</td>\n",
       "      <td>NaN</td>\n",
       "      <td>NaN</td>\n",
       "      <td>NaN</td>\n",
       "      <td>NaN</td>\n",
       "      <td>NaN</td>\n",
       "      <td>NaN</td>\n",
       "      <td>NaN</td>\n",
       "    </tr>\n",
       "  </tbody>\n",
       "</table>\n",
       "<p>2 rows × 22 columns</p>\n",
       "</div>"
      ],
      "text/plain": [
       "    Id    Record_Category Record_time_stamp  \\\n",
       "0  P01  INÍCIO DE JORNADA  07/12/2021 12:21   \n",
       "1  P01    MEIO DE JORNADA  07/12/2021 19:57   \n",
       "\n",
       "                                    Sam_Perelli                    Karolinska  \\\n",
       "0  4. Um pouco cansado, não totalmente disposto  5. Nem alerta, nem sonolento   \n",
       "1        5. Moderadamente cansado, enfraquecido  5. Nem alerta, nem sonolento   \n",
       "\n",
       "  Duty_start  Duty_end Duty_length Duty_category Bedtime_start  ...  \\\n",
       "0   15:55:00  00:48:00         533           AFT         23:04  ...   \n",
       "1   15:55:00  00:48:00         534           AFT         23:04  ...   \n",
       "\n",
       "  Sleep_quality Time_awake_before_workload Nap_1_begin Nap_1_end  \\\n",
       "0             5                      08:28         NaN       NaN   \n",
       "1             5                      08:28         NaN       NaN   \n",
       "\n",
       "  Nap_1_quality Nap_1_length Nap_2_start Nap_2_end Nap_2_length Nap_2_quality  \n",
       "0           NaN          NaN         NaN       NaN          NaN           NaN  \n",
       "1           NaN          NaN         NaN       NaN          NaN           NaN  \n",
       "\n",
       "[2 rows x 22 columns]"
      ]
     },
     "execution_count": 3,
     "metadata": {},
     "output_type": "execute_result"
    }
   ],
   "source": [
    "file = os.path.join('data','data_raw_questionnaire.csv')\n",
    "df1 = pd.read_csv(file)\n",
    "\n",
    "df1.head(2)"
   ]
  },
  {
   "cell_type": "markdown",
   "id": "82521186-120b-4d7a-a59d-2c0f3d94cd94",
   "metadata": {},
   "source": [
    "## 2.2. Socio-Economic Data"
   ]
  },
  {
   "cell_type": "markdown",
   "id": "cf6c474c-8cac-4628-a8c1-123215ea91bb",
   "metadata": {},
   "source": [
    "These data were taken just once, through a questionnary filled by the participants at the beginning of the study."
   ]
  },
  {
   "cell_type": "code",
   "execution_count": 5,
   "id": "33ebdfe2-9886-4094-a47d-65e65145f3c0",
   "metadata": {},
   "outputs": [
    {
     "data": {
      "text/html": [
       "<div>\n",
       "<style scoped>\n",
       "    .dataframe tbody tr th:only-of-type {\n",
       "        vertical-align: middle;\n",
       "    }\n",
       "\n",
       "    .dataframe tbody tr th {\n",
       "        vertical-align: top;\n",
       "    }\n",
       "\n",
       "    .dataframe thead th {\n",
       "        text-align: right;\n",
       "    }\n",
       "</style>\n",
       "<table border=\"1\" class=\"dataframe\">\n",
       "  <thead>\n",
       "    <tr style=\"text-align: right;\">\n",
       "      <th></th>\n",
       "      <th>Id</th>\n",
       "      <th>Sex</th>\n",
       "      <th>Position</th>\n",
       "      <th>Num_Sons</th>\n",
       "      <th>Age</th>\n",
       "      <th>rate_income</th>\n",
       "      <th>Number_sons</th>\n",
       "      <th>Younger_son_age</th>\n",
       "      <th>Son1</th>\n",
       "      <th>Son2</th>\n",
       "      <th>Son3</th>\n",
       "      <th>Flight_hours</th>\n",
       "      <th>Time_company</th>\n",
       "      <th>Time_aviation</th>\n",
       "      <th>Education</th>\n",
       "      <th>Marital_status</th>\n",
       "      <th>Number_residents</th>\n",
       "      <th>Time_displacement</th>\n",
       "    </tr>\n",
       "  </thead>\n",
       "  <tbody>\n",
       "    <tr>\n",
       "      <th>0</th>\n",
       "      <td>P01</td>\n",
       "      <td>MALE</td>\n",
       "      <td>CMTE</td>\n",
       "      <td>2</td>\n",
       "      <td>49</td>\n",
       "      <td>70.0</td>\n",
       "      <td>2</td>\n",
       "      <td>11.0</td>\n",
       "      <td>18.0</td>\n",
       "      <td>11.0</td>\n",
       "      <td>NaN</td>\n",
       "      <td>17000.0</td>\n",
       "      <td>19.5</td>\n",
       "      <td>25.0</td>\n",
       "      <td>PHD</td>\n",
       "      <td>MARRIED</td>\n",
       "      <td>3</td>\n",
       "      <td>60</td>\n",
       "    </tr>\n",
       "    <tr>\n",
       "      <th>1</th>\n",
       "      <td>P02</td>\n",
       "      <td>MALE</td>\n",
       "      <td>CMTE</td>\n",
       "      <td>2</td>\n",
       "      <td>57</td>\n",
       "      <td>80.0</td>\n",
       "      <td>2</td>\n",
       "      <td>0.0</td>\n",
       "      <td>NaN</td>\n",
       "      <td>NaN</td>\n",
       "      <td>NaN</td>\n",
       "      <td>17000.0</td>\n",
       "      <td>9.0</td>\n",
       "      <td>30.0</td>\n",
       "      <td>ESPEC</td>\n",
       "      <td>MARRIED</td>\n",
       "      <td>1</td>\n",
       "      <td>20</td>\n",
       "    </tr>\n",
       "    <tr>\n",
       "      <th>2</th>\n",
       "      <td>P03</td>\n",
       "      <td>MALE</td>\n",
       "      <td>CMTE</td>\n",
       "      <td>1</td>\n",
       "      <td>42</td>\n",
       "      <td>80.0</td>\n",
       "      <td>1</td>\n",
       "      <td>8.0</td>\n",
       "      <td>8.0</td>\n",
       "      <td>NaN</td>\n",
       "      <td>NaN</td>\n",
       "      <td>8000.0</td>\n",
       "      <td>12.0</td>\n",
       "      <td>12.0</td>\n",
       "      <td>ESPEC</td>\n",
       "      <td>NON_STABLE</td>\n",
       "      <td>2</td>\n",
       "      <td>420</td>\n",
       "    </tr>\n",
       "    <tr>\n",
       "      <th>3</th>\n",
       "      <td>P04</td>\n",
       "      <td>MALE</td>\n",
       "      <td>CMTE</td>\n",
       "      <td>0</td>\n",
       "      <td>34</td>\n",
       "      <td>60.0</td>\n",
       "      <td>0</td>\n",
       "      <td>0.0</td>\n",
       "      <td>NaN</td>\n",
       "      <td>NaN</td>\n",
       "      <td>NaN</td>\n",
       "      <td>5200.0</td>\n",
       "      <td>13.0</td>\n",
       "      <td>13.0</td>\n",
       "      <td>ESPEC</td>\n",
       "      <td>MARRIED</td>\n",
       "      <td>1</td>\n",
       "      <td>20</td>\n",
       "    </tr>\n",
       "  </tbody>\n",
       "</table>\n",
       "</div>"
      ],
      "text/plain": [
       "    Id   Sex Position  Num_Sons  Age  rate_income  Number_sons  \\\n",
       "0  P01  MALE     CMTE         2   49         70.0            2   \n",
       "1  P02  MALE     CMTE         2   57         80.0            2   \n",
       "2  P03  MALE     CMTE         1   42         80.0            1   \n",
       "3  P04  MALE     CMTE         0   34         60.0            0   \n",
       "\n",
       "   Younger_son_age  Son1  Son2  Son3  Flight_hours  Time_company  \\\n",
       "0             11.0  18.0  11.0   NaN       17000.0          19.5   \n",
       "1              0.0   NaN   NaN   NaN       17000.0           9.0   \n",
       "2              8.0   8.0   NaN   NaN        8000.0          12.0   \n",
       "3              0.0   NaN   NaN   NaN        5200.0          13.0   \n",
       "\n",
       "   Time_aviation Education Marital_status  Number_residents  Time_displacement  \n",
       "0           25.0       PHD        MARRIED                 3                 60  \n",
       "1           30.0     ESPEC        MARRIED                 1                 20  \n",
       "2           12.0     ESPEC     NON_STABLE                 2                420  \n",
       "3           13.0     ESPEC        MARRIED                 1                 20  "
      ]
     },
     "execution_count": 5,
     "metadata": {},
     "output_type": "execute_result"
    }
   ],
   "source": [
    "file = os.path.join('data','data_raw_sociodemo.csv')\n",
    "df2 = pd.read_csv(file)\n",
    "\n",
    "df2.head(4)"
   ]
  },
  {
   "cell_type": "markdown",
   "id": "0f0a1cdf-cb8e-467c-baef-58334b8c9b39",
   "metadata": {},
   "source": [
    "## 2.3. Chronotype data"
   ]
  },
  {
   "cell_type": "markdown",
   "id": "9e4eea42-a963-4945-94da-afbb82c2c0c5",
   "metadata": {},
   "source": [
    "These data were taken just once at the beginning of the study through a test to classify the chronotype of participant, if it is Matutine, Intermediary or Vespertine."
   ]
  },
  {
   "cell_type": "code",
   "execution_count": 7,
   "id": "82f668cb-e7cf-4212-872f-9604acf2b63c",
   "metadata": {},
   "outputs": [
    {
     "data": {
      "text/html": [
       "<div>\n",
       "<style scoped>\n",
       "    .dataframe tbody tr th:only-of-type {\n",
       "        vertical-align: middle;\n",
       "    }\n",
       "\n",
       "    .dataframe tbody tr th {\n",
       "        vertical-align: top;\n",
       "    }\n",
       "\n",
       "    .dataframe thead th {\n",
       "        text-align: right;\n",
       "    }\n",
       "</style>\n",
       "<table border=\"1\" class=\"dataframe\">\n",
       "  <thead>\n",
       "    <tr style=\"text-align: right;\">\n",
       "      <th></th>\n",
       "      <th>Id</th>\n",
       "      <th>S1</th>\n",
       "      <th>S2</th>\n",
       "      <th>S3</th>\n",
       "      <th>S4</th>\n",
       "      <th>S5</th>\n",
       "      <th>S6</th>\n",
       "      <th>S7</th>\n",
       "      <th>Score_sum</th>\n",
       "      <th>Result</th>\n",
       "      <th>Classification</th>\n",
       "    </tr>\n",
       "  </thead>\n",
       "  <tbody>\n",
       "    <tr>\n",
       "      <th>0</th>\n",
       "      <td>P01</td>\n",
       "      <td>3</td>\n",
       "      <td>2</td>\n",
       "      <td>4</td>\n",
       "      <td>2</td>\n",
       "      <td>2</td>\n",
       "      <td>4</td>\n",
       "      <td>4</td>\n",
       "      <td>21</td>\n",
       "      <td>3.00</td>\n",
       "      <td>INT</td>\n",
       "    </tr>\n",
       "    <tr>\n",
       "      <th>1</th>\n",
       "      <td>P02</td>\n",
       "      <td>3</td>\n",
       "      <td>2</td>\n",
       "      <td>3</td>\n",
       "      <td>3</td>\n",
       "      <td>2</td>\n",
       "      <td>3</td>\n",
       "      <td>3</td>\n",
       "      <td>19</td>\n",
       "      <td>2.71</td>\n",
       "      <td>INT</td>\n",
       "    </tr>\n",
       "    <tr>\n",
       "      <th>2</th>\n",
       "      <td>P03</td>\n",
       "      <td>3</td>\n",
       "      <td>3</td>\n",
       "      <td>3</td>\n",
       "      <td>4</td>\n",
       "      <td>4</td>\n",
       "      <td>4</td>\n",
       "      <td>4</td>\n",
       "      <td>25</td>\n",
       "      <td>3.57</td>\n",
       "      <td>MAT</td>\n",
       "    </tr>\n",
       "    <tr>\n",
       "      <th>3</th>\n",
       "      <td>P04</td>\n",
       "      <td>2</td>\n",
       "      <td>1</td>\n",
       "      <td>2</td>\n",
       "      <td>3</td>\n",
       "      <td>1</td>\n",
       "      <td>4</td>\n",
       "      <td>2</td>\n",
       "      <td>15</td>\n",
       "      <td>2.14</td>\n",
       "      <td>INT</td>\n",
       "    </tr>\n",
       "    <tr>\n",
       "      <th>4</th>\n",
       "      <td>P05</td>\n",
       "      <td>1</td>\n",
       "      <td>1</td>\n",
       "      <td>2</td>\n",
       "      <td>1</td>\n",
       "      <td>1</td>\n",
       "      <td>2</td>\n",
       "      <td>2</td>\n",
       "      <td>10</td>\n",
       "      <td>1.43</td>\n",
       "      <td>VES</td>\n",
       "    </tr>\n",
       "  </tbody>\n",
       "</table>\n",
       "</div>"
      ],
      "text/plain": [
       "    Id  S1  S2  S3  S4  S5  S6  S7  Score_sum  Result Classification\n",
       "0  P01   3   2   4   2   2   4   4         21    3.00            INT\n",
       "1  P02   3   2   3   3   2   3   3         19    2.71            INT\n",
       "2  P03   3   3   3   4   4   4   4         25    3.57            MAT\n",
       "3  P04   2   1   2   3   1   4   2         15    2.14            INT\n",
       "4  P05   1   1   2   1   1   2   2         10    1.43            VES"
      ]
     },
     "execution_count": 7,
     "metadata": {},
     "output_type": "execute_result"
    }
   ],
   "source": [
    "file = os.path.join('data','data_raw_chronotype.csv')\n",
    "df3 = pd.read_csv(file)\n",
    "\n",
    "df3.head(5)"
   ]
  },
  {
   "cell_type": "markdown",
   "id": "57549857-62f6-4ffa-b443-46c94d95c6ec",
   "metadata": {},
   "source": [
    "## 2.4. Karolinska 6 months sleep"
   ]
  },
  {
   "cell_type": "markdown",
   "id": "c5b03d5a-4264-4c2c-add8-9435b8a7a021",
   "metadata": {},
   "source": [
    "Here is the Karolinska and Sam Perelli index for sleep quality for the last 6 months. It consists of questionnary with more than 10 questions after some mathematical operations based on previous studies (factor analysis), provide us a serie of three factors, presented in this file."
   ]
  },
  {
   "cell_type": "code",
   "execution_count": 9,
   "id": "7cbf9486-8257-4095-a9d8-5e201896f133",
   "metadata": {},
   "outputs": [
    {
     "data": {
      "text/html": [
       "<div>\n",
       "<style scoped>\n",
       "    .dataframe tbody tr th:only-of-type {\n",
       "        vertical-align: middle;\n",
       "    }\n",
       "\n",
       "    .dataframe tbody tr th {\n",
       "        vertical-align: top;\n",
       "    }\n",
       "\n",
       "    .dataframe thead th {\n",
       "        text-align: right;\n",
       "    }\n",
       "</style>\n",
       "<table border=\"1\" class=\"dataframe\">\n",
       "  <thead>\n",
       "    <tr style=\"text-align: right;\">\n",
       "      <th></th>\n",
       "      <th>Id</th>\n",
       "      <th>Disturbed sleep index</th>\n",
       "      <th>Awakening index</th>\n",
       "      <th>Sleepiness/fatigue</th>\n",
       "    </tr>\n",
       "  </thead>\n",
       "  <tbody>\n",
       "    <tr>\n",
       "      <th>0</th>\n",
       "      <td>P01</td>\n",
       "      <td>13</td>\n",
       "      <td>9</td>\n",
       "      <td>14</td>\n",
       "    </tr>\n",
       "    <tr>\n",
       "      <th>1</th>\n",
       "      <td>P02</td>\n",
       "      <td>6</td>\n",
       "      <td>3</td>\n",
       "      <td>25</td>\n",
       "    </tr>\n",
       "    <tr>\n",
       "      <th>2</th>\n",
       "      <td>P03</td>\n",
       "      <td>11</td>\n",
       "      <td>7</td>\n",
       "      <td>10</td>\n",
       "    </tr>\n",
       "    <tr>\n",
       "      <th>3</th>\n",
       "      <td>P04</td>\n",
       "      <td>11</td>\n",
       "      <td>9</td>\n",
       "      <td>12</td>\n",
       "    </tr>\n",
       "    <tr>\n",
       "      <th>4</th>\n",
       "      <td>P05</td>\n",
       "      <td>18</td>\n",
       "      <td>11</td>\n",
       "      <td>18</td>\n",
       "    </tr>\n",
       "  </tbody>\n",
       "</table>\n",
       "</div>"
      ],
      "text/plain": [
       "    Id  Disturbed sleep index  Awakening index  Sleepiness/fatigue\n",
       "0  P01                     13                9                  14\n",
       "1  P02                      6                3                  25\n",
       "2  P03                     11                7                  10\n",
       "3  P04                     11                9                  12\n",
       "4  P05                     18               11                  18"
      ]
     },
     "execution_count": 9,
     "metadata": {},
     "output_type": "execute_result"
    }
   ],
   "source": [
    "file = os.path.join('data','data_raw_KSQ.csv')\n",
    "df4 = pd.read_csv(file)\n",
    "\n",
    "df4.head(5)"
   ]
  },
  {
   "cell_type": "markdown",
   "id": "110aad22-8800-44ca-a2e0-9d879ac2d40b",
   "metadata": {},
   "source": [
    "---"
   ]
  },
  {
   "cell_type": "markdown",
   "id": "e888e126-adc8-47f1-b845-a5d5b7769675",
   "metadata": {},
   "source": [
    "# 3. Features Engineering of Workloads Types, Scales and Sleep"
   ]
  },
  {
   "cell_type": "markdown",
   "id": "80c7f6cf-b6f5-4d14-b202-7d18ac769e83",
   "metadata": {},
   "source": [
    "## 3.1. Function to create features based on substrings"
   ]
  },
  {
   "cell_type": "code",
   "execution_count": 11,
   "id": "8a55fbc8-a26c-43a7-ba85-2ddb0e46923b",
   "metadata": {},
   "outputs": [],
   "source": [
    "def func_wType(x):\n",
    "    # Not to be used in big data, too slow.\n",
    "    # Call as: df[new_col] = df[col].apply(func_wType)\n",
    "    \n",
    "    group = \"others\"\n",
    "    for key in category_dict:\n",
    "        if key in x:\n",
    "            group = category_dict[key]\n",
    "            break\n",
    "    return group"
   ]
  },
  {
   "cell_type": "markdown",
   "id": "9e1ef460-d1dc-45a7-b131-8d4f8fcc5787",
   "metadata": {
    "tags": []
   },
   "source": [
    "## 3.2. Variables Derived from \"Record_Category\" Column"
   ]
  },
  {
   "cell_type": "markdown",
   "id": "018df18d-7372-4cff-b0e5-57d66079c485",
   "metadata": {},
   "source": [
    "### 3.2.1. Duty Moment"
   ]
  },
  {
   "cell_type": "markdown",
   "id": "b2e98571-b835-43f3-84e5-7fe7dd134c84",
   "metadata": {},
   "source": [
    "The variable workload moment will categorize the moment in workload wherein the Karolinska and Sam Perelly scales were filled."
   ]
  },
  {
   "cell_type": "code",
   "execution_count": 13,
   "id": "2bc867ea-d8ae-4deb-803b-6ac3fe1c627e",
   "metadata": {},
   "outputs": [],
   "source": [
    "category_dict = {'INÍCIO DE JORNADA':'start', 'MEIO DE JORNADA':'middle', 'FIM DE JORNADA':'end',\n",
    "                 'FOLGA':'day_off', 'MONOFOLGA':'single_day_off', 'SOBREAVISO':'warning', \n",
    "                 'RESERVA':'reserve'}\n",
    "\n",
    "df1['duty_moment'] = df1['Record_Category'].apply(func_wType)"
   ]
  },
  {
   "cell_type": "markdown",
   "id": "5dbe96a1-5561-4769-8dca-2316896e1a9e",
   "metadata": {},
   "source": [
    "### 3.2.2. Duty Period Type"
   ]
  },
  {
   "cell_type": "markdown",
   "id": "707d94c8-4a04-4c3c-b4f5-8a1f87b549cc",
   "metadata": {},
   "source": [
    "The variables workload type identifies the aviation relevant type of workload based on the hour the pilot starts its duties."
   ]
  },
  {
   "cell_type": "code",
   "execution_count": 15,
   "id": "3e32530e-e5be-4376-ac72-c259ec7b9993",
   "metadata": {},
   "outputs": [],
   "source": [
    "category_dict ={'EARLY-START':'early-start', 'MADRUGADA':'night'}\n",
    "\n",
    "df1['duty_type'] = df1['Record_Category'].apply(func_wType)"
   ]
  },
  {
   "cell_type": "markdown",
   "id": "e1f73468-1156-4653-a552-97af8ca8e6ed",
   "metadata": {},
   "source": [
    "### 3.2.3. Previous Duty Type (Early Start, Night or Single Day-Off)"
   ]
  },
  {
   "cell_type": "markdown",
   "id": "7c5e7460-2e41-4276-9383-99dc06ac08e8",
   "metadata": {},
   "source": [
    "This variable identifies the previous duty types, It was only selected three types of of previous duty periods, Early-Start, Night and Single Day Off."
   ]
  },
  {
   "cell_type": "markdown",
   "id": "42de713f-010a-4c24-94cf-57220cdbb828",
   "metadata": {},
   "source": [
    "#### Previous Early-Start Workloads"
   ]
  },
  {
   "cell_type": "code",
   "execution_count": 17,
   "id": "b31e4846-d22c-4b28-ad5b-94874b75d154",
   "metadata": {},
   "outputs": [],
   "source": [
    "category_dict = {'APÓS EARLY-START':'1', 'TRÊS EARLY-START':'3', 'APÓS DOIS EARLY-START': '2',\n",
    "                 'APÓS DUAS JORNADAS EARLY-START': '2'}\n",
    "\n",
    "df1['duty_type_prev_es'] = df1['Record_Category'].apply(func_wType).replace('others','0')"
   ]
  },
  {
   "cell_type": "markdown",
   "id": "3fd33ad1-e147-4ac3-96f8-dba1b4d84f64",
   "metadata": {},
   "source": [
    "#### Previous Night Workloads"
   ]
  },
  {
   "cell_type": "code",
   "execution_count": 19,
   "id": "5b41d346-cc46-40eb-aa7b-799387d7945d",
   "metadata": {},
   "outputs": [],
   "source": [
    "category_dict = {'APÓS MADRUGADA':'1', 'APÓS DUAS MADRUGADAS':'2', 'APÓS JORNADA NA MADRUGADA':'1',\n",
    "                 'APÓS DUAS JORNADAS NA MADRUGADA' :'2', 'APÓS DUAS JORNADASNA MADRUGADA' :'2'}\n",
    "\n",
    "df1['duty_type_prev_nt'] = df1['Record_Category'].apply(func_wType).replace('others','0')"
   ]
  },
  {
   "cell_type": "markdown",
   "id": "c871c261-5457-4aa2-bd46-88d818e14e4a",
   "metadata": {},
   "source": [
    "### 3.2.4. Adjusting Duty Type"
   ]
  },
  {
   "cell_type": "markdown",
   "id": "a0fb52ad-187f-464e-9b15-bee91cf49d33",
   "metadata": {},
   "source": [
    "Once, the duty query just identify words containing \"EARLY-START\", we need to remove occurreences of \"APÓS EARLY-START\" and etc, for night category as well."
   ]
  },
  {
   "cell_type": "code",
   "execution_count": 21,
   "id": "ef38c22c-d104-46f5-a6aa-1d0ee194b557",
   "metadata": {},
   "outputs": [],
   "source": [
    "df1.loc[(df1['duty_type_prev_es'] == 1) & (df1['duty_type'] == 'early_start'), 'duty_type' ] = 'others'\n",
    "df1.loc[(df1['duty_type_prev_nt'] == 1) & (df1['duty_type'] == 'night'), 'duty_type' ] = 'others'"
   ]
  },
  {
   "cell_type": "markdown",
   "id": "d9641b9e-06f4-4ab9-80c7-9e8c0c1ca2b2",
   "metadata": {},
   "source": [
    "### 3.2.5. Summary"
   ]
  },
  {
   "cell_type": "markdown",
   "id": "590884e6-258f-457b-8d26-b8e8a3d78fda",
   "metadata": {},
   "source": [
    "In summary, the following variables were extracted from the column \"Record-Category\"\n",
    "\n",
    "| Variable | Variable Long Name | Short Description |\n",
    "| --- | --- | --- |\n",
    "| duty_moment | Moment at the duty | Moment during the duty period the participant fills Karolinska or Samm-Perelli scales (start, middle, end, day-off) |\n",
    "| duty_type | Type of duty | Indentify if the current duty period comprehends early-start or night periods |\n",
    "| duty_type_prev_es | Type early-start of the previous duty period | Identify the number of previous duty periods comprehending early-start period |\n",
    "| duty_type_prev_nt | Type early-start of the previous duty period | Identify the number of previous duty period comprehending night period |"
   ]
  },
  {
   "cell_type": "markdown",
   "id": "f29df673-185b-460a-985d-822e95e6bd5b",
   "metadata": {},
   "source": [
    "## 3.3. Variables relative to Durations and Times"
   ]
  },
  {
   "cell_type": "markdown",
   "id": "b968404e-73b5-4a96-bc69-916e333a2142",
   "metadata": {},
   "source": [
    "### 3.3.1. Duty Length"
   ]
  },
  {
   "cell_type": "code",
   "execution_count": 25,
   "id": "d6753d76-8551-483e-a6a5-a4a0b680976d",
   "metadata": {},
   "outputs": [],
   "source": [
    "# Workload length in hours not in minutes\n",
    "df1['duty_length'] = pd.to_numeric( df1['Duty_length'], errors='coerce')/60"
   ]
  },
  {
   "cell_type": "markdown",
   "id": "40f4b9d3-d1fc-41da-8a7b-900c56185a55",
   "metadata": {},
   "source": [
    "### 3.3.2. Sleep Duration Before Workload"
   ]
  },
  {
   "cell_type": "code",
   "execution_count": 27,
   "id": "15b5ca9a-ef9b-4752-8d5a-7408eec0f8e0",
   "metadata": {},
   "outputs": [],
   "source": [
    "# Sleep duration in hours\n",
    "df1['sleep_duration'] = pd.to_numeric( df1['Sleep_duration_minutes'], errors='coerce')/60"
   ]
  },
  {
   "cell_type": "markdown",
   "id": "437fbdd1-54ad-4e6c-8a77-3bf79a23fd40",
   "metadata": {},
   "source": [
    "### 3.3.3. Time Awake Before Duty Period"
   ]
  },
  {
   "cell_type": "code",
   "execution_count": 32,
   "id": "941699a2-73e6-4983-ba20-8444288a0720",
   "metadata": {},
   "outputs": [],
   "source": [
    "def hr_mn_func(ts):\n",
    "    # function to return the duration in hpurs\n",
    "    # return ts.hour+ts.minute/60\n",
    "    try:\n",
    "        res = float(ts[0:2])+float(ts[3:5])/60\n",
    "    except:\n",
    "        res = np.nan\n",
    "    return res"
   ]
  },
  {
   "cell_type": "code",
   "execution_count": 34,
   "id": "d8da8697-b9cb-4332-a36e-50fc3819969d",
   "metadata": {},
   "outputs": [],
   "source": [
    "df1['time_awake'] = df1.Time_awake_before_workload.apply(hr_mn_func)"
   ]
  },
  {
   "cell_type": "markdown",
   "id": "60c52701-97a8-4599-bc6d-5cb4865193e4",
   "metadata": {},
   "source": [
    "### 3.3.4. Summary"
   ]
  },
  {
   "cell_type": "markdown",
   "id": "bf15b014-b160-4fab-8334-2a576584374f",
   "metadata": {},
   "source": [
    "The following variables realative to durations were transformed:\n",
    "\n",
    "\n",
    "| Variable | Variable Long Name | Short Description |\n",
    "| --- | --- | --- |\n",
    "| duty_length | Duty Period length | Total workload duration based on punch clock record |\n",
    "| sleep_duration | Sleep Duration before the duty period | Total sleep duration before the duty period based on sleep diary and wearable gadget measurement |\n",
    "| time_awake | Time Awake before the duty period | Time awake before the duty period based on sleep diary, actimetric measurements and punch clock record |\n"
   ]
  },
  {
   "cell_type": "markdown",
   "id": "a36722dd-0f66-479b-a419-3f1d00a50810",
   "metadata": {},
   "source": [
    "## 3.4. Variables Relatives to Naps"
   ]
  },
  {
   "cell_type": "markdown",
   "id": "32d738e5-37af-406b-91b2-8cb7cbd4ded0",
   "metadata": {},
   "source": [
    "### 3.4.1. Number of Naps During Workload"
   ]
  },
  {
   "cell_type": "code",
   "execution_count": 36,
   "id": "efce4908-9806-4159-b057-54588045f179",
   "metadata": {},
   "outputs": [],
   "source": [
    "df1.loc[df1['Nap_1_length'].apply(hr_mn_func) > 0, 'nap_number'] = 1\n",
    "df1.loc[df1['Nap_2_length'].apply(hr_mn_func) > 0, 'nap_number'] = 2\n",
    "df1['nap_number'] = df1['nap_number'].fillna(0).astype(int)"
   ]
  },
  {
   "cell_type": "markdown",
   "id": "9cd43e86-363d-4997-80f1-5a4ff350540e",
   "metadata": {},
   "source": [
    "### 3.4.2. Total Nap Duration"
   ]
  },
  {
   "cell_type": "code",
   "execution_count": 38,
   "id": "ece4f7f2-5cac-497d-88cd-9402c1568bc2",
   "metadata": {},
   "outputs": [],
   "source": [
    "df1['nap_duration'] = df1['Nap_1_length'].apply(hr_mn_func)\\\n",
    "                      + df1['Nap_2_length'].apply(hr_mn_func)\n",
    "df1['nap_duration'] = df1['nap_duration'].fillna(0)"
   ]
  },
  {
   "cell_type": "markdown",
   "id": "a7884756-a32a-47e3-9a47-a4618b6e84c8",
   "metadata": {},
   "source": [
    "### 3.4.3. Summary"
   ]
  },
  {
   "cell_type": "markdown",
   "id": "c48390df-28ad-441e-a309-59c39d9e8c85",
   "metadata": {},
   "source": [
    "The following variables had been produced:\n",
    "\n",
    "| Variable | Variable Long Name | Short Description |\n",
    "| --- | --- | --- |\n",
    "| nap_number | Number of naps | Number of naps during the duty period |\n",
    "| nap_duration | Total nap duration | Sum of duration of all naps during the duty period in hours |"
   ]
  },
  {
   "cell_type": "markdown",
   "id": "f2adfc5c-b35e-458b-a17c-de5c4f2e5e12",
   "metadata": {},
   "source": [
    "---"
   ]
  },
  {
   "cell_type": "markdown",
   "id": "ebfa1a7e-02f8-4f68-856e-818cddacb816",
   "metadata": {},
   "source": [
    "# 4. Retrieving Karolinska and Samm-Perelli scales from file"
   ]
  },
  {
   "cell_type": "markdown",
   "id": "86ceb702-36b2-4065-be00-6f65ab884c99",
   "metadata": {},
   "source": [
    "## 4.1. Karolinska and Sam-Perelli scales from text data"
   ]
  },
  {
   "cell_type": "code",
   "execution_count": 40,
   "id": "77bee752-a15e-4792-9be8-90f21ed794ea",
   "metadata": {},
   "outputs": [],
   "source": [
    "def kss_sps(x):\n",
    "    # The filled scale correponds to the first character in row\n",
    "    return x[0]\n",
    "\n",
    "df1['kss'] = df1['Karolinska'].fillna('0').apply(kss_sps).astype(int).replace(0,np.nan)\n",
    "df1['sps'] = df1['Sam_Perelli'].fillna('0').apply(kss_sps).astype(int).replace(0,np.nan)"
   ]
  },
  {
   "cell_type": "markdown",
   "id": "7cb6e837-88e3-4932-a584-4f83f5df6813",
   "metadata": {},
   "source": [
    "## 4.2. Time the Participant filled Karolinska and Sam-Perelli scales"
   ]
  },
  {
   "cell_type": "markdown",
   "id": "b4f468dc-15b0-4e27-8cb5-7a9b3a1d63a5",
   "metadata": {},
   "source": [
    "To categorize the time the participant filled both the karolinka and Sam-Perelli scales, we will follow an international aviation convention for some categories such as Early-Start or Early Mornings as shown in table bellow:\n",
    "\n",
    "| Category | Long Name | Rule |\n",
    "| --- | --- | --- |\n",
    "| **EM** | Early Morning (or Early Start) | Between 05:00 and 07:59 |\n",
    "| **MOR** | Morning | Between 08:00 and 11:59 |\n",
    "| **AFT** | Afternoon | Between 12:00 and 17:59 |\n",
    "| **EVE** | Evening | Between 18:00 and 23:59 |\n",
    "| **NI** | Night | Between 00:00 and 04:59 |\n"
   ]
  },
  {
   "cell_type": "code",
   "execution_count": 64,
   "id": "c542d1bf-d5cb-49ae-82be-302157d29470",
   "metadata": {},
   "outputs": [],
   "source": [
    "def get_hour(x):\n",
    "    return x.hour+x.minute/60\n",
    "\n",
    "def categorization_hour(x):\n",
    "    hr = 'not_apply'\n",
    "    if 0 <= x < 5:\n",
    "        hr = 'NI'\n",
    "    if 5 <= x < 8:\n",
    "        hr = 'EM'\n",
    "    elif 8 <= x < 12:\n",
    "        hr = 'MOR'\n",
    "    elif 12 <= x < 18:\n",
    "        hr = 'AFT'\n",
    "    elif 18 <= x < 24:\n",
    "        hr = 'EVE'\n",
    "    return hr"
   ]
  },
  {
   "cell_type": "code",
   "execution_count": 66,
   "id": "a77431fe-f096-42fb-9ead-b7f3a60657a6",
   "metadata": {},
   "outputs": [],
   "source": [
    "\n",
    "df1['time_fill_kss_sps'] = pd.to_datetime(df1['Record_time_stamp'], dayfirst=True, errors ='raise')\\\n",
    "                             .apply(get_hour).astype(float)\\\n",
    "                             .apply(categorization_hour)"
   ]
  },
  {
   "cell_type": "markdown",
   "id": "2b9bf211-2fb3-4160-a9d8-31c6163b7b29",
   "metadata": {},
   "source": [
    "## 4.3. Time of start and end of duty period"
   ]
  },
  {
   "cell_type": "code",
   "execution_count": 72,
   "id": "8ddc2966-bd2e-4430-8ee0-8c92852628c7",
   "metadata": {},
   "outputs": [],
   "source": [
    "df1['duty_start_time'] = df1['Duty_start'].apply(hr_mn_func).astype(float)\n",
    "df1['duty_end_time']   = df1['Duty_end'].apply(hr_mn_func).astype(float)\n",
    "\n",
    "df1['duty_start_cat'] = df1['duty_start_time'].apply(categorization_hour)\n",
    "df1['duty_end_cat']   = df1['duty_end_time'].apply(categorization_hour)"
   ]
  },
  {
   "cell_type": "code",
   "execution_count": 80,
   "id": "3e3240c0-519a-439b-aa4e-fff335f4c856",
   "metadata": {},
   "outputs": [],
   "source": [
    "# df1[['time_fill_kss_sps','duty_moment','duty_start_time','duty_start_cat','duty_end_time','duty_end_cat']].head(50)"
   ]
  },
  {
   "cell_type": "markdown",
   "id": "e37d0db8-1f0f-451d-87fd-a76c7e991bea",
   "metadata": {},
   "source": [
    "## 4.2. Summary"
   ]
  },
  {
   "cell_type": "markdown",
   "id": "a3ea9828-f82c-47c5-a993-31d205e54a06",
   "metadata": {},
   "source": [
    "| Variable | Variable Long Name | Short Description |\n",
    "| --- | --- | --- |\n",
    "| **kss** | Karolinska Scale | Karolinska sleepiness perception scale |\n",
    "| **sps** | Sam-Perelli Scale | Sam-Perelli fatigue perception scale |\n",
    "| **time_fill_kss_sps** | Time the participant filled kss and sps scales | Categorized Time the participant filled kss and sps scales |"
   ]
  },
  {
   "cell_type": "markdown",
   "id": "35a01de9-836b-402f-b672-4bd5ee679d24",
   "metadata": {},
   "source": [
    "---"
   ]
  },
  {
   "cell_type": "markdown",
   "id": "668de0d0-17f6-4d9e-b35f-61c9b64d87e7",
   "metadata": {},
   "source": [
    "# 5. Joning the Data Bases"
   ]
  },
  {
   "cell_type": "markdown",
   "id": "a719bcdc-2689-4a6d-a0ac-4cbfc651c543",
   "metadata": {},
   "source": [
    "The following variables will be used:\n",
    "\n",
    "| Number | Variable | Variable Long Name | Type | Short Description |\n",
    "| --- | --- | --- | --- | --- |\n",
    "| 1 | **Id** | Identification | Categorical | Participant's identification |\n",
    "| 2 | **kss** | Karolinska Scale | Categorical Ordinal | Karolinska sleepiness perception scale |\n",
    "| 3 | **sps** | Sam-Perelli Scale | Categorical Ordinal | Sam-Pereli fatigue perception scale |\n",
    "| 4 | **time_fill_kss_sps** | Time the participants filled kss and sps | Categorical | Time the participants filled kss and sps scales categorized in (EM, MOR, AFT, EVE, NI) |\n",
    "| 5 | **duty_moment** | Moment at duty period | Categorical | Moment of workload the participants fill kss and sps scales (start, middle, end) |\n",
    "| 6 | **duty_type** | Type of duty period | Categorical | Indentify if the current workload or duty period comprehends early-start or night periods |\n",
    "| 7 | **duty_type_prev_es** | Type of previous workload early-start | Categorical | Identify the number of previous workloads which copreehends early-start period |\n",
    "| 8 | **duty_type_prev_nt** | Type of previous workload night | Categorical | indicators of workloads comprehending early-morning, night or other periods |\n",
    "| 9 | **duty_length** | Workload Duration | Float | Total workload duration based on punch clock record |\n",
    "| 10 | **sleep_duration** | Sleep Duration before the workload | Float | Total sleep duration before the workload based on sleep diary and actimetric measurement |\n",
    "| 11 | **time_awake** | Time Awake before the workload | Float | Time awake before the workload based on sleep diary, actimetric measurements and punch clock record |\n",
    "| 12 | **nap_number** | Number of naps | Categorical Ordinal | Number of naps during the workload period |\n",
    "| 13 | **nap_duration** | Total nap duration | Float |Sum of duration of all naps during the workload period in hours |\n",
    "| 14 | **Sex** | Gender | Categorical | Gender of participant |\n",
    "| 15 | **Position** | Work position | Categorical | Work position if commander or co-pilot |\n",
    "| 16 | **Num_Sons** | Number of Sons | Categorical Ordinal | Number of dependent sons |\n",
    "| 17 | **Flight_hours** | Number of flight hours | Integer | Number of flight hours |\n",
    "| 18 | **Education** | Education level | Categorical Ordinal | Education level |\n",
    "| 19 | **Marital_status** | Marital status | Categorical | Marital status |\n",
    "| 20 | **Time_displacement** | Home to work time | float | time spent from Home to work |\n",
    "| 21 | **Classification** | Chronotype | Categorical | Chronotype based on test |\n",
    "| 22 | **Disturbed_sleep** | Disturbed sleep index | Integer | Perceived diturbed sleep index in past 6 months |\n",
    "| 23 | **Awakening** | Awakening index | Integer | Perceived mean awakening index in past 6 months |\n",
    "| 24 | **Sleep_Fatig** | Sleepiness Fatigue index | Integer | Perceived sleepiness/fatigue index in past 6 months |\n",
    "| 25 | **Age** | Participant's Age | Categorical Ordinal | Participant's Age |\n",
    "| 26 | **Bedtime_start** | Start of participants' bedtime | timestamp |Start of participants' bedtime prior the duty period in hours |\n",
    "| 27 | **Bedtime_end** | End of participants' bedtime |timestamp|End of participants' bedtime prior the duty period in hours |\n",
    "| 28 | **Sleep_quality**| Sleep quality index | timestamp |Perception of quality of the sleep prior the current duty period |"
   ]
  },
  {
   "cell_type": "code",
   "execution_count": 82,
   "id": "df6a7ecb-dfae-4291-b4b5-e7f1298b6cfa",
   "metadata": {},
   "outputs": [
    {
     "data": {
      "text/html": [
       "<div>\n",
       "<style scoped>\n",
       "    .dataframe tbody tr th:only-of-type {\n",
       "        vertical-align: middle;\n",
       "    }\n",
       "\n",
       "    .dataframe tbody tr th {\n",
       "        vertical-align: top;\n",
       "    }\n",
       "\n",
       "    .dataframe thead th {\n",
       "        text-align: right;\n",
       "    }\n",
       "</style>\n",
       "<table border=\"1\" class=\"dataframe\">\n",
       "  <thead>\n",
       "    <tr style=\"text-align: right;\">\n",
       "      <th></th>\n",
       "      <th>Id</th>\n",
       "      <th>kss</th>\n",
       "      <th>sps</th>\n",
       "      <th>time_fill_kss_sps</th>\n",
       "      <th>duty_moment</th>\n",
       "      <th>duty_moment</th>\n",
       "      <th>duty_start_time</th>\n",
       "      <th>duty_start_cat</th>\n",
       "      <th>duty_end_time</th>\n",
       "      <th>duty_end_cat</th>\n",
       "      <th>...</th>\n",
       "      <th>Num_Sons</th>\n",
       "      <th>Flight_hours</th>\n",
       "      <th>Education</th>\n",
       "      <th>Marital_status</th>\n",
       "      <th>Time_displacement</th>\n",
       "      <th>Age</th>\n",
       "      <th>Classification</th>\n",
       "      <th>Disturbed_sleep</th>\n",
       "      <th>Awakening</th>\n",
       "      <th>Sleep_Fatig</th>\n",
       "    </tr>\n",
       "  </thead>\n",
       "  <tbody>\n",
       "    <tr>\n",
       "      <th>0</th>\n",
       "      <td>P01</td>\n",
       "      <td>5</td>\n",
       "      <td>4.0</td>\n",
       "      <td>AFT</td>\n",
       "      <td>start</td>\n",
       "      <td>start</td>\n",
       "      <td>15.916667</td>\n",
       "      <td>AFT</td>\n",
       "      <td>0.800000</td>\n",
       "      <td>NI</td>\n",
       "      <td>...</td>\n",
       "      <td>2</td>\n",
       "      <td>17000.0</td>\n",
       "      <td>PHD</td>\n",
       "      <td>MARRIED</td>\n",
       "      <td>60</td>\n",
       "      <td>49</td>\n",
       "      <td>INT</td>\n",
       "      <td>13</td>\n",
       "      <td>9</td>\n",
       "      <td>14</td>\n",
       "    </tr>\n",
       "    <tr>\n",
       "      <th>1</th>\n",
       "      <td>P01</td>\n",
       "      <td>5</td>\n",
       "      <td>5.0</td>\n",
       "      <td>EVE</td>\n",
       "      <td>middle</td>\n",
       "      <td>middle</td>\n",
       "      <td>15.916667</td>\n",
       "      <td>AFT</td>\n",
       "      <td>0.800000</td>\n",
       "      <td>NI</td>\n",
       "      <td>...</td>\n",
       "      <td>2</td>\n",
       "      <td>17000.0</td>\n",
       "      <td>PHD</td>\n",
       "      <td>MARRIED</td>\n",
       "      <td>60</td>\n",
       "      <td>49</td>\n",
       "      <td>INT</td>\n",
       "      <td>13</td>\n",
       "      <td>9</td>\n",
       "      <td>14</td>\n",
       "    </tr>\n",
       "    <tr>\n",
       "      <th>2</th>\n",
       "      <td>P01</td>\n",
       "      <td>7</td>\n",
       "      <td>6.0</td>\n",
       "      <td>NI</td>\n",
       "      <td>end</td>\n",
       "      <td>end</td>\n",
       "      <td>15.916667</td>\n",
       "      <td>AFT</td>\n",
       "      <td>0.800000</td>\n",
       "      <td>NI</td>\n",
       "      <td>...</td>\n",
       "      <td>2</td>\n",
       "      <td>17000.0</td>\n",
       "      <td>PHD</td>\n",
       "      <td>MARRIED</td>\n",
       "      <td>60</td>\n",
       "      <td>49</td>\n",
       "      <td>INT</td>\n",
       "      <td>13</td>\n",
       "      <td>9</td>\n",
       "      <td>14</td>\n",
       "    </tr>\n",
       "    <tr>\n",
       "      <th>3</th>\n",
       "      <td>P01</td>\n",
       "      <td>7</td>\n",
       "      <td>5.0</td>\n",
       "      <td>EM</td>\n",
       "      <td>start</td>\n",
       "      <td>start</td>\n",
       "      <td>5.666667</td>\n",
       "      <td>EM</td>\n",
       "      <td>11.116667</td>\n",
       "      <td>MOR</td>\n",
       "      <td>...</td>\n",
       "      <td>2</td>\n",
       "      <td>17000.0</td>\n",
       "      <td>PHD</td>\n",
       "      <td>MARRIED</td>\n",
       "      <td>60</td>\n",
       "      <td>49</td>\n",
       "      <td>INT</td>\n",
       "      <td>13</td>\n",
       "      <td>9</td>\n",
       "      <td>14</td>\n",
       "    </tr>\n",
       "    <tr>\n",
       "      <th>4</th>\n",
       "      <td>P01</td>\n",
       "      <td>4</td>\n",
       "      <td>3.0</td>\n",
       "      <td>MOR</td>\n",
       "      <td>middle</td>\n",
       "      <td>middle</td>\n",
       "      <td>5.666667</td>\n",
       "      <td>EM</td>\n",
       "      <td>11.116667</td>\n",
       "      <td>MOR</td>\n",
       "      <td>...</td>\n",
       "      <td>2</td>\n",
       "      <td>17000.0</td>\n",
       "      <td>PHD</td>\n",
       "      <td>MARRIED</td>\n",
       "      <td>60</td>\n",
       "      <td>49</td>\n",
       "      <td>INT</td>\n",
       "      <td>13</td>\n",
       "      <td>9</td>\n",
       "      <td>14</td>\n",
       "    </tr>\n",
       "  </tbody>\n",
       "</table>\n",
       "<p>5 rows × 34 columns</p>\n",
       "</div>"
      ],
      "text/plain": [
       "    Id  kss  sps time_fill_kss_sps duty_moment duty_moment  duty_start_time  \\\n",
       "0  P01    5  4.0               AFT       start       start        15.916667   \n",
       "1  P01    5  5.0               EVE      middle      middle        15.916667   \n",
       "2  P01    7  6.0                NI         end         end        15.916667   \n",
       "3  P01    7  5.0                EM       start       start         5.666667   \n",
       "4  P01    4  3.0               MOR      middle      middle         5.666667   \n",
       "\n",
       "  duty_start_cat  duty_end_time duty_end_cat  ... Num_Sons Flight_hours  \\\n",
       "0            AFT       0.800000           NI  ...        2      17000.0   \n",
       "1            AFT       0.800000           NI  ...        2      17000.0   \n",
       "2            AFT       0.800000           NI  ...        2      17000.0   \n",
       "3             EM      11.116667          MOR  ...        2      17000.0   \n",
       "4             EM      11.116667          MOR  ...        2      17000.0   \n",
       "\n",
       "  Education  Marital_status  Time_displacement  Age  Classification  \\\n",
       "0       PHD         MARRIED                 60   49             INT   \n",
       "1       PHD         MARRIED                 60   49             INT   \n",
       "2       PHD         MARRIED                 60   49             INT   \n",
       "3       PHD         MARRIED                 60   49             INT   \n",
       "4       PHD         MARRIED                 60   49             INT   \n",
       "\n",
       "   Disturbed_sleep Awakening Sleep_Fatig  \n",
       "0               13         9          14  \n",
       "1               13         9          14  \n",
       "2               13         9          14  \n",
       "3               13         9          14  \n",
       "4               13         9          14  \n",
       "\n",
       "[5 rows x 34 columns]"
      ]
     },
     "execution_count": 82,
     "metadata": {},
     "output_type": "execute_result"
    }
   ],
   "source": [
    "# Merging (Joining) the data bases\n",
    "\n",
    "cols1 = ['Id', 'kss', 'sps', 'time_fill_kss_sps', 'duty_moment', 'duty_moment',\n",
    "         'duty_start_time','duty_start_cat','duty_end_time','duty_end_cat',\n",
    "         'duty_type', 'duty_type_prev_es',\n",
    "         'duty_type_prev_nt', 'duty_length', 'sleep_duration', 'time_awake', 'nap_number', 'nap_duration',\n",
    "         'Record_time_stamp', 'Bedtime_start','Bedtime_end','Sleep_quality']\n",
    "cols2 = ['Id', 'Sex', 'Position', 'Num_Sons', 'Flight_hours', 'Education', 'Marital_status', 'Time_displacement','Age']\n",
    "cols3 = ['Id', 'Classification']\n",
    "cols4 = ['Id', 'Disturbed sleep index', 'Awakening index', 'Sleepiness/fatigue']\n",
    "\n",
    "dict_rename = {'Disturbed sleep index':'Disturbed_sleep',\n",
    "               'Awakening index':'Awakening',\n",
    "               'Sleepiness/fatigue':'Sleep_Fatig'}\n",
    "\n",
    "df = df1[cols1].merge(df2[cols2], how='inner', on = 'Id')\\\n",
    "               .merge(df3[cols3], how='inner', on = 'Id')\\\n",
    "               .merge(df4[cols4].rename(columns = dict_rename), how='inner', on = 'Id')\n",
    "df.head(5)"
   ]
  },
  {
   "cell_type": "code",
   "execution_count": 84,
   "id": "15419d45-af3b-4561-a1b1-7f71bf91f3dc",
   "metadata": {},
   "outputs": [
    {
     "name": "stdout",
     "output_type": "stream",
     "text": [
      "---------------------------------------------\n",
      "Success! Data recorded in file: data/processed_features.csv\n",
      "---------------------------------------------\n"
     ]
    }
   ],
   "source": [
    "ofile = os.path.join('data/processed_features.csv')\n",
    "try:\n",
    "    df.to_csv(ofile, index=False)\n",
    "    print('---------------------------------------------')\n",
    "    print(f'Success! Data recorded in file: {ofile}')\n",
    "    print('---------------------------------------------')\n",
    "except:\n",
    "    print('---------------------------------------------')\n",
    "    print(f'Data not recorded in file: {ofile}, verify!')\n",
    "    print('---------------------------------------------')"
   ]
  }
 ],
 "metadata": {
  "kernelspec": {
   "display_name": "pymer4",
   "language": "python",
   "name": "pymer4"
  },
  "language_info": {
   "codemirror_mode": {
    "name": "ipython",
    "version": 3
   },
   "file_extension": ".py",
   "mimetype": "text/x-python",
   "name": "python",
   "nbconvert_exporter": "python",
   "pygments_lexer": "ipython3",
   "version": "3.12.5"
  }
 },
 "nbformat": 4,
 "nbformat_minor": 5
}
