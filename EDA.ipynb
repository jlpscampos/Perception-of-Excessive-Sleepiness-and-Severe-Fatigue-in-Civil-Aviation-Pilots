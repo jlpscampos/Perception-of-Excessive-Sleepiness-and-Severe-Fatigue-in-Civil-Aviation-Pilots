{
 "cells": [
  {
   "cell_type": "markdown",
   "id": "b4352808-9bbe-4bd7-bcb1-c20c2f68f315",
   "metadata": {},
   "source": [
    "<div style=\"float: block; text-align: center; line-height: 1.7em\">\n",
    "    <span style=\"font-size: 2em; font-weight: bold\"> Fatigue-Sleepiness in Irregular Workloads for Pilots </span><br>\n",
    "    <span style=\"font-size: 1.5em\"> Exploratory Data Analysis </span><br>\n",
    "</div>"
   ]
  },
  {
   "cell_type": "markdown",
   "id": "80bcd2a3-3226-4765-a826-0d9c9a6a783c",
   "metadata": {},
   "source": [
    "---"
   ]
  },
  {
   "cell_type": "markdown",
   "id": "2711b9d6-0e7a-4604-aa11-f6ba26ba2d66",
   "metadata": {},
   "source": [
    "# 1. Loading Required Libraries and Data"
   ]
  },
  {
   "cell_type": "code",
   "execution_count": 1,
   "id": "06b0237c-129a-4474-8dc0-2fe95a6fc959",
   "metadata": {},
   "outputs": [],
   "source": [
    "import os as os\n",
    "import pandas as pd\n",
    "import numpy as np\n",
    "import matplotlib.pyplot as plt\n",
    "import seaborn as sns"
   ]
  },
  {
   "cell_type": "markdown",
   "id": "3eb6442a-2d42-44e8-ad8d-5f8e77731518",
   "metadata": {},
   "source": [
    "## 1.1. Loading data"
   ]
  },
  {
   "cell_type": "code",
   "execution_count": 2,
   "id": "650a8245-611b-4b3a-aa0e-a1abbde4255d",
   "metadata": {},
   "outputs": [
    {
     "data": {
      "text/html": [
       "<div>\n",
       "<style scoped>\n",
       "    .dataframe tbody tr th:only-of-type {\n",
       "        vertical-align: middle;\n",
       "    }\n",
       "\n",
       "    .dataframe tbody tr th {\n",
       "        vertical-align: top;\n",
       "    }\n",
       "\n",
       "    .dataframe thead th {\n",
       "        text-align: right;\n",
       "    }\n",
       "</style>\n",
       "<table border=\"1\" class=\"dataframe\">\n",
       "  <thead>\n",
       "    <tr style=\"text-align: right;\">\n",
       "      <th></th>\n",
       "      <th>Id</th>\n",
       "      <th>kss</th>\n",
       "      <th>sps</th>\n",
       "      <th>quest_fill_hour</th>\n",
       "      <th>workload_moment</th>\n",
       "      <th>workload_type</th>\n",
       "      <th>workload_type_prev_es</th>\n",
       "      <th>workload_type_prev_nt</th>\n",
       "      <th>workload_length</th>\n",
       "      <th>sleep_duration</th>\n",
       "      <th>...</th>\n",
       "      <th>Num_Sons</th>\n",
       "      <th>Flight_hours</th>\n",
       "      <th>Education</th>\n",
       "      <th>Marital_status</th>\n",
       "      <th>Time_displacement</th>\n",
       "      <th>Age</th>\n",
       "      <th>Classification</th>\n",
       "      <th>Disturbed_sleep</th>\n",
       "      <th>Awakening</th>\n",
       "      <th>Sleep_Fatig</th>\n",
       "    </tr>\n",
       "  </thead>\n",
       "  <tbody>\n",
       "    <tr>\n",
       "      <th>0</th>\n",
       "      <td>P01</td>\n",
       "      <td>5</td>\n",
       "      <td>4.0</td>\n",
       "      <td>AFT</td>\n",
       "      <td>start</td>\n",
       "      <td>others</td>\n",
       "      <td>0</td>\n",
       "      <td>0</td>\n",
       "      <td>8.883333</td>\n",
       "      <td>8.383333</td>\n",
       "      <td>...</td>\n",
       "      <td>2</td>\n",
       "      <td>17000.0</td>\n",
       "      <td>PHD</td>\n",
       "      <td>MARRIED</td>\n",
       "      <td>60</td>\n",
       "      <td>49</td>\n",
       "      <td>INT</td>\n",
       "      <td>13</td>\n",
       "      <td>9</td>\n",
       "      <td>14</td>\n",
       "    </tr>\n",
       "    <tr>\n",
       "      <th>1</th>\n",
       "      <td>P01</td>\n",
       "      <td>5</td>\n",
       "      <td>5.0</td>\n",
       "      <td>EVE</td>\n",
       "      <td>middle</td>\n",
       "      <td>others</td>\n",
       "      <td>0</td>\n",
       "      <td>0</td>\n",
       "      <td>8.900000</td>\n",
       "      <td>8.383333</td>\n",
       "      <td>...</td>\n",
       "      <td>2</td>\n",
       "      <td>17000.0</td>\n",
       "      <td>PHD</td>\n",
       "      <td>MARRIED</td>\n",
       "      <td>60</td>\n",
       "      <td>49</td>\n",
       "      <td>INT</td>\n",
       "      <td>13</td>\n",
       "      <td>9</td>\n",
       "      <td>14</td>\n",
       "    </tr>\n",
       "    <tr>\n",
       "      <th>2</th>\n",
       "      <td>P01</td>\n",
       "      <td>7</td>\n",
       "      <td>6.0</td>\n",
       "      <td>NI</td>\n",
       "      <td>end</td>\n",
       "      <td>others</td>\n",
       "      <td>0</td>\n",
       "      <td>0</td>\n",
       "      <td>8.916667</td>\n",
       "      <td>8.383333</td>\n",
       "      <td>...</td>\n",
       "      <td>2</td>\n",
       "      <td>17000.0</td>\n",
       "      <td>PHD</td>\n",
       "      <td>MARRIED</td>\n",
       "      <td>60</td>\n",
       "      <td>49</td>\n",
       "      <td>INT</td>\n",
       "      <td>13</td>\n",
       "      <td>9</td>\n",
       "      <td>14</td>\n",
       "    </tr>\n",
       "    <tr>\n",
       "      <th>3</th>\n",
       "      <td>P01</td>\n",
       "      <td>7</td>\n",
       "      <td>5.0</td>\n",
       "      <td>NI</td>\n",
       "      <td>start</td>\n",
       "      <td>early-start</td>\n",
       "      <td>0</td>\n",
       "      <td>0</td>\n",
       "      <td>5.450000</td>\n",
       "      <td>7.200000</td>\n",
       "      <td>...</td>\n",
       "      <td>2</td>\n",
       "      <td>17000.0</td>\n",
       "      <td>PHD</td>\n",
       "      <td>MARRIED</td>\n",
       "      <td>60</td>\n",
       "      <td>49</td>\n",
       "      <td>INT</td>\n",
       "      <td>13</td>\n",
       "      <td>9</td>\n",
       "      <td>14</td>\n",
       "    </tr>\n",
       "    <tr>\n",
       "      <th>4</th>\n",
       "      <td>P01</td>\n",
       "      <td>4</td>\n",
       "      <td>3.0</td>\n",
       "      <td>MOR</td>\n",
       "      <td>middle</td>\n",
       "      <td>early-start</td>\n",
       "      <td>0</td>\n",
       "      <td>0</td>\n",
       "      <td>5.466667</td>\n",
       "      <td>7.200000</td>\n",
       "      <td>...</td>\n",
       "      <td>2</td>\n",
       "      <td>17000.0</td>\n",
       "      <td>PHD</td>\n",
       "      <td>MARRIED</td>\n",
       "      <td>60</td>\n",
       "      <td>49</td>\n",
       "      <td>INT</td>\n",
       "      <td>13</td>\n",
       "      <td>9</td>\n",
       "      <td>14</td>\n",
       "    </tr>\n",
       "  </tbody>\n",
       "</table>\n",
       "<p>5 rows × 26 columns</p>\n",
       "</div>"
      ],
      "text/plain": [
       "    Id  kss  sps quest_fill_hour workload_moment workload_type  \\\n",
       "0  P01    5  4.0             AFT           start        others   \n",
       "1  P01    5  5.0             EVE          middle        others   \n",
       "2  P01    7  6.0              NI             end        others   \n",
       "3  P01    7  5.0              NI           start   early-start   \n",
       "4  P01    4  3.0             MOR          middle   early-start   \n",
       "\n",
       "   workload_type_prev_es  workload_type_prev_nt  workload_length  \\\n",
       "0                      0                      0         8.883333   \n",
       "1                      0                      0         8.900000   \n",
       "2                      0                      0         8.916667   \n",
       "3                      0                      0         5.450000   \n",
       "4                      0                      0         5.466667   \n",
       "\n",
       "   sleep_duration  ...  Num_Sons  Flight_hours  Education Marital_status  \\\n",
       "0        8.383333  ...         2       17000.0        PHD        MARRIED   \n",
       "1        8.383333  ...         2       17000.0        PHD        MARRIED   \n",
       "2        8.383333  ...         2       17000.0        PHD        MARRIED   \n",
       "3        7.200000  ...         2       17000.0        PHD        MARRIED   \n",
       "4        7.200000  ...         2       17000.0        PHD        MARRIED   \n",
       "\n",
       "  Time_displacement Age  Classification  Disturbed_sleep Awakening Sleep_Fatig  \n",
       "0                60  49             INT               13         9          14  \n",
       "1                60  49             INT               13         9          14  \n",
       "2                60  49             INT               13         9          14  \n",
       "3                60  49             INT               13         9          14  \n",
       "4                60  49             INT               13         9          14  \n",
       "\n",
       "[5 rows x 26 columns]"
      ]
     },
     "execution_count": 2,
     "metadata": {},
     "output_type": "execute_result"
    }
   ],
   "source": [
    "file = os.path.join('data/processed_features.csv')\n",
    "df = pd.read_csv(file)\n",
    "df.head(5)"
   ]
  },
  {
   "cell_type": "markdown",
   "id": "8ac8c08f-b1c1-4c11-ba7e-f4dacadf95c7",
   "metadata": {},
   "source": [
    "---"
   ]
  },
  {
   "cell_type": "markdown",
   "id": "505dcf7b-6df6-4f99-a045-fc260fe5afce",
   "metadata": {},
   "source": [
    "# 2. Response Variables or Targets"
   ]
  },
  {
   "cell_type": "markdown",
   "id": "6d0edc80-3023-4908-b217-02b8a80847e4",
   "metadata": {},
   "source": [
    "The aim of this work is to quantify sleepiness and fatigue in pilots. So, this problem presents us two response or target variable, Karolinska Sleepiness Scale (kss) and Sam-Perelli fatigue Scale(sps). Both variables are obtained through the use of questionnaries filled in either start, middle and end of workload or duty periods. The tables shown bellow give us what the scales mean.\n",
    "\n",
    "* **Karolinska Sleepiness Scale (kss)**\n",
    "\n",
    "| Scale | Original meaning as in google questionnary (Portuguese) | English Translation |\n",
    "| --- | --- | --- |\n",
    "| 1 | Muito Alerta | Extremely alert |\n",
    "| 2 - 3 | Alerta | Alert |\n",
    "| 4 - 5 | Nem sonolento, nem alerta | Nor sleepy, nor alert |\n",
    "| 6 - 7 | Sonolento, mas consigo ficar acordado | Drowsy, but I can stay awake |\n",
    "| 8 - 9 | Muito sonolento, brigando com o sono | Very drowsy, fighting with sleep |\n",
    "\n",
    "* **Sam-Perelli Fatigue Scale (sps)**\n",
    "\n",
    "| Scale | Original meaning as in google questionnary (Portuguese) | English Translation |\n",
    "| --- | --- | --- |\n",
    "| 1 | Totalmente alerta, bem desperto, extremamente disposto | Fully alert, wide awake, extremely willing |\n",
    "| 2 | Muito ativo, responsivo, mas não em nível máximo | Very active, responsive, but not at maximum level |\n",
    "| 3 | Bem, relativamente revigorado | Well, relatively refreshed |\n",
    "| 4 | Um pouco cansado, não totalmente disposto | A little tired, not quite in the mood |\n",
    "| 5 | Moderadamente cansado, enfraquecido | Moderately tired, weakened | \n",
    "| 6 | Muito cansado, com dificuldade de concentração | Very tired, with difficulty concentrating |\n",
    "| 7 | Completamente exausto, incapaz de trabalhar efetivamente | Completely exhausted, unable to work effectively |\n"
   ]
  },
  {
   "cell_type": "markdown",
   "id": "7bf7c5eb-8798-4b06-b403-34a847b91ffa",
   "metadata": {},
   "source": [
    "## 2.2. Experimental Design"
   ]
  },
  {
   "cell_type": "markdown",
   "id": "b87c65f1-d78e-4946-8900-f5d1a327a296",
   "metadata": {},
   "source": [
    "Both the sps and kss measurements were taken along three moments of the workloads (start, middle, end and in days-off) and these workloads moments can happen along the some moments along the day (EM, MOR, AFT, EVE, NI). So, the workload are crossed with the moments along the day. Thus, we propose, the following experimental design, depicted bellow:\n",
    "\n",
    "| | EM | MOR | AFT | EVE | NI |\n",
    "| --- | -- | --- | --- | --- | --- |\n",
    "| start | | | | |\n",
    "| middle | | | | |\n",
    "| end | | | | |\n",
    "\n",
    "The measurements were took irregularly, in other words, some participants filled the kss and sps more times than others and not necessarily in consecutive workloads.\n",
    "\n",
    "However, some measurements, as will be shown bellow, are taken just once per workload, such as variables related to sleep previous workload, time awake before, previous workload modality before the current workload and etc. So, thinking in terms of regression analysis, beyond the dependency of participant, one can think in dependency of the moments along the day as well, acting like a random intercept or even a random slope."
   ]
  },
  {
   "cell_type": "markdown",
   "id": "34ceb8ae-ded4-4a69-a0eb-40f8420ff8ad",
   "metadata": {},
   "source": [
    "## 2.3. Recategorization of Response Variables"
   ]
  },
  {
   "cell_type": "markdown",
   "id": "97e01e28-2def-48da-be6b-6b0607535d6b",
   "metadata": {},
   "source": [
    "Kss and sps scales consists of integer numbers ranging from 1 to 9 and 1 to 7 respectively, that cannot be taken as a continuous result (but as categorical ordinal). Thinking in terms of modelling it is simpler to reduce this result from 9 or 7 categories to 2 categories. Previous works using the same scales, but for railway workers, use the same approach, due to simplicity, assertiveness and easy interpretation of results.\n",
    "\n",
    "In this approach we obtain the following:\n",
    "\n",
    "* **Karolinska scale dichotomized ( Excessive Sleepiness indicator - kssd)**\n",
    "\n",
    "| Scale Range | Meaning | New Value |\n",
    "| --- | --- | --- |\n",
    "| 1 - 6 | Normal | 0 |\n",
    "| 7 - 9 | Excessive Sleepiness | 1 |\n",
    "\n",
    "* **Sam-Perelli scale dichotomized (Severe Fatigue indicator - spsd)**\n",
    "\n",
    "| Scale Range | Meaning | New Value |\n",
    "| --- | --- | --- |\n",
    "| 1 - 4 | Normal | 0 |\n",
    "| 5 - 7 | Severe Fatigue | 1 |\n",
    "\n"
   ]
  },
  {
   "cell_type": "code",
   "execution_count": 3,
   "id": "8aecab7c-5977-4e42-922e-7bcad4ee3d4f",
   "metadata": {},
   "outputs": [],
   "source": [
    "# Applying the rule\n",
    "\n",
    "df['kssd'] = df['kss'].apply(lambda x: 1 if x >= 7 else 0)\n",
    "df['spsd'] = df['sps'].apply(lambda x: 1 if x >= 5 else 0)"
   ]
  },
  {
   "cell_type": "markdown",
   "id": "6ca5675c-556b-4777-ad86-cef6bcacce22",
   "metadata": {},
   "source": [
    "## 2.4. Getting only working days"
   ]
  },
  {
   "cell_type": "markdown",
   "id": "94369f07-133b-4e17-b946-e7fc2dab7db6",
   "metadata": {},
   "source": [
    "The measurements were taken in both workings days and days-off, so the data base were divided to analyze only working days and days off."
   ]
  },
  {
   "cell_type": "code",
   "execution_count": 4,
   "id": "498c16a5-a965-4e33-98e9-b401fbe73a3e",
   "metadata": {},
   "outputs": [
    {
     "data": {
      "text/html": [
       "<div>\n",
       "<style scoped>\n",
       "    .dataframe tbody tr th:only-of-type {\n",
       "        vertical-align: middle;\n",
       "    }\n",
       "\n",
       "    .dataframe tbody tr th {\n",
       "        vertical-align: top;\n",
       "    }\n",
       "\n",
       "    .dataframe thead th {\n",
       "        text-align: right;\n",
       "    }\n",
       "</style>\n",
       "<table border=\"1\" class=\"dataframe\">\n",
       "  <thead>\n",
       "    <tr style=\"text-align: right;\">\n",
       "      <th></th>\n",
       "      <th>Id</th>\n",
       "      <th>kss</th>\n",
       "      <th>sps</th>\n",
       "      <th>quest_fill_hour</th>\n",
       "      <th>workload_moment</th>\n",
       "      <th>workload_type</th>\n",
       "      <th>workload_type_prev_es</th>\n",
       "      <th>workload_type_prev_nt</th>\n",
       "      <th>workload_length</th>\n",
       "      <th>sleep_duration</th>\n",
       "      <th>...</th>\n",
       "      <th>Education</th>\n",
       "      <th>Marital_status</th>\n",
       "      <th>Time_displacement</th>\n",
       "      <th>Age</th>\n",
       "      <th>Classification</th>\n",
       "      <th>Disturbed_sleep</th>\n",
       "      <th>Awakening</th>\n",
       "      <th>Sleep_Fatig</th>\n",
       "      <th>kssd</th>\n",
       "      <th>spsd</th>\n",
       "    </tr>\n",
       "  </thead>\n",
       "  <tbody>\n",
       "    <tr>\n",
       "      <th>0</th>\n",
       "      <td>P01</td>\n",
       "      <td>5</td>\n",
       "      <td>4.0</td>\n",
       "      <td>AFT</td>\n",
       "      <td>start</td>\n",
       "      <td>others</td>\n",
       "      <td>0</td>\n",
       "      <td>0</td>\n",
       "      <td>8.883333</td>\n",
       "      <td>8.383333</td>\n",
       "      <td>...</td>\n",
       "      <td>PHD</td>\n",
       "      <td>MARRIED</td>\n",
       "      <td>60</td>\n",
       "      <td>49</td>\n",
       "      <td>INT</td>\n",
       "      <td>13</td>\n",
       "      <td>9</td>\n",
       "      <td>14</td>\n",
       "      <td>0</td>\n",
       "      <td>0</td>\n",
       "    </tr>\n",
       "    <tr>\n",
       "      <th>1</th>\n",
       "      <td>P01</td>\n",
       "      <td>5</td>\n",
       "      <td>5.0</td>\n",
       "      <td>EVE</td>\n",
       "      <td>middle</td>\n",
       "      <td>others</td>\n",
       "      <td>0</td>\n",
       "      <td>0</td>\n",
       "      <td>8.900000</td>\n",
       "      <td>8.383333</td>\n",
       "      <td>...</td>\n",
       "      <td>PHD</td>\n",
       "      <td>MARRIED</td>\n",
       "      <td>60</td>\n",
       "      <td>49</td>\n",
       "      <td>INT</td>\n",
       "      <td>13</td>\n",
       "      <td>9</td>\n",
       "      <td>14</td>\n",
       "      <td>0</td>\n",
       "      <td>1</td>\n",
       "    </tr>\n",
       "    <tr>\n",
       "      <th>2</th>\n",
       "      <td>P01</td>\n",
       "      <td>7</td>\n",
       "      <td>6.0</td>\n",
       "      <td>NI</td>\n",
       "      <td>end</td>\n",
       "      <td>others</td>\n",
       "      <td>0</td>\n",
       "      <td>0</td>\n",
       "      <td>8.916667</td>\n",
       "      <td>8.383333</td>\n",
       "      <td>...</td>\n",
       "      <td>PHD</td>\n",
       "      <td>MARRIED</td>\n",
       "      <td>60</td>\n",
       "      <td>49</td>\n",
       "      <td>INT</td>\n",
       "      <td>13</td>\n",
       "      <td>9</td>\n",
       "      <td>14</td>\n",
       "      <td>1</td>\n",
       "      <td>1</td>\n",
       "    </tr>\n",
       "    <tr>\n",
       "      <th>3</th>\n",
       "      <td>P01</td>\n",
       "      <td>7</td>\n",
       "      <td>5.0</td>\n",
       "      <td>NI</td>\n",
       "      <td>start</td>\n",
       "      <td>early-start</td>\n",
       "      <td>0</td>\n",
       "      <td>0</td>\n",
       "      <td>5.450000</td>\n",
       "      <td>7.200000</td>\n",
       "      <td>...</td>\n",
       "      <td>PHD</td>\n",
       "      <td>MARRIED</td>\n",
       "      <td>60</td>\n",
       "      <td>49</td>\n",
       "      <td>INT</td>\n",
       "      <td>13</td>\n",
       "      <td>9</td>\n",
       "      <td>14</td>\n",
       "      <td>1</td>\n",
       "      <td>1</td>\n",
       "    </tr>\n",
       "    <tr>\n",
       "      <th>4</th>\n",
       "      <td>P01</td>\n",
       "      <td>4</td>\n",
       "      <td>3.0</td>\n",
       "      <td>MOR</td>\n",
       "      <td>middle</td>\n",
       "      <td>early-start</td>\n",
       "      <td>0</td>\n",
       "      <td>0</td>\n",
       "      <td>5.466667</td>\n",
       "      <td>7.200000</td>\n",
       "      <td>...</td>\n",
       "      <td>PHD</td>\n",
       "      <td>MARRIED</td>\n",
       "      <td>60</td>\n",
       "      <td>49</td>\n",
       "      <td>INT</td>\n",
       "      <td>13</td>\n",
       "      <td>9</td>\n",
       "      <td>14</td>\n",
       "      <td>0</td>\n",
       "      <td>0</td>\n",
       "    </tr>\n",
       "  </tbody>\n",
       "</table>\n",
       "<p>5 rows × 28 columns</p>\n",
       "</div>"
      ],
      "text/plain": [
       "    Id  kss  sps quest_fill_hour workload_moment workload_type  \\\n",
       "0  P01    5  4.0             AFT           start        others   \n",
       "1  P01    5  5.0             EVE          middle        others   \n",
       "2  P01    7  6.0              NI             end        others   \n",
       "3  P01    7  5.0              NI           start   early-start   \n",
       "4  P01    4  3.0             MOR          middle   early-start   \n",
       "\n",
       "   workload_type_prev_es  workload_type_prev_nt  workload_length  \\\n",
       "0                      0                      0         8.883333   \n",
       "1                      0                      0         8.900000   \n",
       "2                      0                      0         8.916667   \n",
       "3                      0                      0         5.450000   \n",
       "4                      0                      0         5.466667   \n",
       "\n",
       "   sleep_duration  ...  Education  Marital_status  Time_displacement Age  \\\n",
       "0        8.383333  ...        PHD         MARRIED                 60  49   \n",
       "1        8.383333  ...        PHD         MARRIED                 60  49   \n",
       "2        8.383333  ...        PHD         MARRIED                 60  49   \n",
       "3        7.200000  ...        PHD         MARRIED                 60  49   \n",
       "4        7.200000  ...        PHD         MARRIED                 60  49   \n",
       "\n",
       "  Classification Disturbed_sleep  Awakening  Sleep_Fatig kssd spsd  \n",
       "0            INT              13          9           14    0    0  \n",
       "1            INT              13          9           14    0    1  \n",
       "2            INT              13          9           14    1    1  \n",
       "3            INT              13          9           14    1    1  \n",
       "4            INT              13          9           14    0    0  \n",
       "\n",
       "[5 rows x 28 columns]"
      ]
     },
     "execution_count": 4,
     "metadata": {},
     "output_type": "execute_result"
    }
   ],
   "source": [
    "working_df = df[df['workload_moment'].isin(['start','middle','end'])]\n",
    "working_df.head(5)"
   ]
  },
  {
   "cell_type": "markdown",
   "id": "01386ddc-dfe8-46ea-897e-035bea0729c0",
   "metadata": {},
   "source": [
    "### 2.4.1. Getting the number of times wherein the kss and sps were filled"
   ]
  },
  {
   "cell_type": "code",
   "execution_count": 5,
   "id": "451b0bd6-dfc6-47a2-b889-00be38045573",
   "metadata": {},
   "outputs": [
    {
     "name": "stdout",
     "output_type": "stream",
     "text": [
      "---------------------------------------------------------------------------------------\n",
      "number of times during working days wherein the kss and sps scales were filled, 1079\n",
      "---------------------------------------------------------------------------------------\n"
     ]
    }
   ],
   "source": [
    "print('---------------------------------------------------------------------------------------')\n",
    "print(f'number of times during working days wherein the kss and sps scales were filled, {len(working_df)}')\n",
    "print('---------------------------------------------------------------------------------------')"
   ]
  },
  {
   "cell_type": "code",
   "execution_count": 35,
   "id": "ca59fcc1-cfdd-4935-b73e-af63b8e46449",
   "metadata": {},
   "outputs": [
    {
     "data": {
      "text/plain": [
       "Text(0, 0.5, 'Times wherein filled kss+sps')"
      ]
     },
     "execution_count": 35,
     "metadata": {},
     "output_type": "execute_result"
    },
    {
     "data": {
      "image/png": "[encoded data removed]",
      "text/plain": [
       "<Figure size 1152x288 with 1 Axes>"
      ]
     },
     "metadata": {
      "needs_background": "light"
     },
     "output_type": "display_data"
    }
   ],
   "source": [
    "temp = working_df.groupby('Id').agg('count')\n",
    "\n",
    "fig, ax = plt.subplots(nrows = 1, ncols = 1, figsize=(16,4))\n",
    "temp.plot.bar(y = 'kss', ax = ax, color = 'green')\n",
    "ax.set_xlabel('Participant Id')\n",
    "ax.set_ylabel('Times wherein filled kss+sps')"
   ]
  },
  {
   "cell_type": "markdown",
   "id": "53494d6f-6d8b-4fa6-8118-aeaa72d6b67e",
   "metadata": {},
   "source": [
    "Figure above shows the number of times wherein one participant filled the kss and sps scales. As we can see some participants as \"P09' and others as \"P14\" had different behaviours in filling the scales, evidencing the irregularity of our experimental design.\n",
    "\n",
    "In face of this result, we will only retain participants that filled the scales at least 10 times"
   ]
  },
  {
   "cell_type": "code",
   "execution_count": 72,
   "id": "2eb0484b-ce9b-4f53-a0ae-3a2a8c9e6421",
   "metadata": {},
   "outputs": [],
   "source": [
    "# This dataframe is only composed by the participants Id which filled kss and sps scales more than 10 times.\n",
    "# to be joined with the final dataframe\n",
    "\n",
    "selected = pd.DataFrame( temp['kss'].copy().loc[temp.kss > 10].index )\n",
    "selected['select'] = 1"
   ]
  },
  {
   "cell_type": "markdown",
   "id": "bef43fdf-8c31-449f-93bc-0ee867e93ee3",
   "metadata": {},
   "source": [
    "## 2.5. Occurrences of Excessive Sleepiness and Severe Fatigue"
   ]
  },
  {
   "cell_type": "markdown",
   "id": "a02de1b0-5c59-47b6-a13f-e9e3ddd34abd",
   "metadata": {},
   "source": [
    "### 2.5.1. Function Display Side-by-side"
   ]
  },
  {
   "cell_type": "code",
   "execution_count": 7,
   "id": "c4544379-2040-451c-adda-e3bada752c7f",
   "metadata": {},
   "outputs": [],
   "source": [
    "from IPython.core.display import display, HTML\n",
    "\n",
    "def display_side_by_side(dfs:list, captions:list):\n",
    "    \"\"\"Display tables side by side to save vertical space\n",
    "    Input:\n",
    "        dfs: list of pandas.DataFrame\n",
    "        captions: list of table captions\n",
    "    \"\"\"\n",
    "    output = \"\"\n",
    "    combined = dict(zip(captions, dfs))\n",
    "    for caption, df in combined.items():\n",
    "        output += df.style.set_table_attributes(\"style='display:inline'\").format(precision=2)\\\n",
    "                          .set_caption(caption)._repr_html_()\n",
    "        output += \"\\xa0\\xa0\\xa0\"\n",
    "    display(HTML(output))"
   ]
  },
  {
   "cell_type": "markdown",
   "id": "4f1f3bc8-cba8-49f2-a513-8c83addb6755",
   "metadata": {},
   "source": [
    "### 2.5.2. Workload Moment & Filling Time"
   ]
  },
  {
   "cell_type": "code",
   "execution_count": 8,
   "id": "e9184b0d-ccff-400b-82af-698c8ce8e119",
   "metadata": {},
   "outputs": [
    {
     "data": {
      "text/html": [
       "<style type=\"text/css\">\n",
       "</style>\n",
       "<table id=\"T_dadd9_\" style='display:inline'>\n",
       "  <caption>(a) Workload Moment-Excessive Sleepiness</caption>\n",
       "  <thead>\n",
       "    <tr>\n",
       "      <th class=\"index_name level0\" >Workload</th>\n",
       "      <th class=\"col_heading level0 col0\" >end</th>\n",
       "      <th class=\"col_heading level0 col1\" >middle</th>\n",
       "      <th class=\"col_heading level0 col2\" >start</th>\n",
       "      <th class=\"col_heading level0 col3\" >All</th>\n",
       "    </tr>\n",
       "    <tr>\n",
       "      <th class=\"index_name level0\" >Sleepiness</th>\n",
       "      <th class=\"blank col0\" >&nbsp;</th>\n",
       "      <th class=\"blank col1\" >&nbsp;</th>\n",
       "      <th class=\"blank col2\" >&nbsp;</th>\n",
       "      <th class=\"blank col3\" >&nbsp;</th>\n",
       "    </tr>\n",
       "  </thead>\n",
       "  <tbody>\n",
       "    <tr>\n",
       "      <th id=\"T_dadd9_level0_row0\" class=\"row_heading level0 row0\" >0</th>\n",
       "      <td id=\"T_dadd9_row0_col0\" class=\"data row0 col0\" >0.66</td>\n",
       "      <td id=\"T_dadd9_row0_col1\" class=\"data row0 col1\" >0.87</td>\n",
       "      <td id=\"T_dadd9_row0_col2\" class=\"data row0 col2\" >0.92</td>\n",
       "      <td id=\"T_dadd9_row0_col3\" class=\"data row0 col3\" >0.81</td>\n",
       "    </tr>\n",
       "    <tr>\n",
       "      <th id=\"T_dadd9_level0_row1\" class=\"row_heading level0 row1\" >1</th>\n",
       "      <td id=\"T_dadd9_row1_col0\" class=\"data row1 col0\" >0.34</td>\n",
       "      <td id=\"T_dadd9_row1_col1\" class=\"data row1 col1\" >0.13</td>\n",
       "      <td id=\"T_dadd9_row1_col2\" class=\"data row1 col2\" >0.08</td>\n",
       "      <td id=\"T_dadd9_row1_col3\" class=\"data row1 col3\" >0.19</td>\n",
       "    </tr>\n",
       "  </tbody>\n",
       "</table>\n",
       "   <style type=\"text/css\">\n",
       "</style>\n",
       "<table id=\"T_99760_\" style='display:inline'>\n",
       "  <caption>(b) Workload Moment-Severe Fatigue</caption>\n",
       "  <thead>\n",
       "    <tr>\n",
       "      <th class=\"index_name level0\" >Workload</th>\n",
       "      <th class=\"col_heading level0 col0\" >end</th>\n",
       "      <th class=\"col_heading level0 col1\" >middle</th>\n",
       "      <th class=\"col_heading level0 col2\" >start</th>\n",
       "      <th class=\"col_heading level0 col3\" >All</th>\n",
       "    </tr>\n",
       "    <tr>\n",
       "      <th class=\"index_name level0\" >Fatigue</th>\n",
       "      <th class=\"blank col0\" >&nbsp;</th>\n",
       "      <th class=\"blank col1\" >&nbsp;</th>\n",
       "      <th class=\"blank col2\" >&nbsp;</th>\n",
       "      <th class=\"blank col3\" >&nbsp;</th>\n",
       "    </tr>\n",
       "  </thead>\n",
       "  <tbody>\n",
       "    <tr>\n",
       "      <th id=\"T_99760_level0_row0\" class=\"row_heading level0 row0\" >0</th>\n",
       "      <td id=\"T_99760_row0_col0\" class=\"data row0 col0\" >0.57</td>\n",
       "      <td id=\"T_99760_row0_col1\" class=\"data row0 col1\" >0.83</td>\n",
       "      <td id=\"T_99760_row0_col2\" class=\"data row0 col2\" >0.92</td>\n",
       "      <td id=\"T_99760_row0_col3\" class=\"data row0 col3\" >0.77</td>\n",
       "    </tr>\n",
       "    <tr>\n",
       "      <th id=\"T_99760_level0_row1\" class=\"row_heading level0 row1\" >1</th>\n",
       "      <td id=\"T_99760_row1_col0\" class=\"data row1 col0\" >0.43</td>\n",
       "      <td id=\"T_99760_row1_col1\" class=\"data row1 col1\" >0.17</td>\n",
       "      <td id=\"T_99760_row1_col2\" class=\"data row1 col2\" >0.08</td>\n",
       "      <td id=\"T_99760_row1_col3\" class=\"data row1 col3\" >0.23</td>\n",
       "    </tr>\n",
       "  </tbody>\n",
       "</table>\n",
       "   "
      ],
      "text/plain": [
       "<IPython.core.display.HTML object>"
      ]
     },
     "metadata": {},
     "output_type": "display_data"
    },
    {
     "name": "stdout",
     "output_type": "stream",
     "text": [
      "\n",
      "\n"
     ]
    },
    {
     "data": {
      "text/html": [
       "<style type=\"text/css\">\n",
       "</style>\n",
       "<table id=\"T_bb479_\" style='display:inline'>\n",
       "  <caption>(c) Filling Time Excessive Sleepiness</caption>\n",
       "  <thead>\n",
       "    <tr>\n",
       "      <th class=\"index_name level0\" >Filling Time</th>\n",
       "      <th class=\"col_heading level0 col0\" >AFT</th>\n",
       "      <th class=\"col_heading level0 col1\" >EM</th>\n",
       "      <th class=\"col_heading level0 col2\" >EVE</th>\n",
       "      <th class=\"col_heading level0 col3\" >MOR</th>\n",
       "      <th class=\"col_heading level0 col4\" >NI</th>\n",
       "      <th class=\"col_heading level0 col5\" >All</th>\n",
       "    </tr>\n",
       "    <tr>\n",
       "      <th class=\"index_name level0\" >Sleepiness</th>\n",
       "      <th class=\"blank col0\" >&nbsp;</th>\n",
       "      <th class=\"blank col1\" >&nbsp;</th>\n",
       "      <th class=\"blank col2\" >&nbsp;</th>\n",
       "      <th class=\"blank col3\" >&nbsp;</th>\n",
       "      <th class=\"blank col4\" >&nbsp;</th>\n",
       "      <th class=\"blank col5\" >&nbsp;</th>\n",
       "    </tr>\n",
       "  </thead>\n",
       "  <tbody>\n",
       "    <tr>\n",
       "      <th id=\"T_bb479_level0_row0\" class=\"row_heading level0 row0\" >0</th>\n",
       "      <td id=\"T_bb479_row0_col0\" class=\"data row0 col0\" >0.89</td>\n",
       "      <td id=\"T_bb479_row0_col1\" class=\"data row0 col1\" >0.84</td>\n",
       "      <td id=\"T_bb479_row0_col2\" class=\"data row0 col2\" >0.80</td>\n",
       "      <td id=\"T_bb479_row0_col3\" class=\"data row0 col3\" >0.85</td>\n",
       "      <td id=\"T_bb479_row0_col4\" class=\"data row0 col4\" >0.67</td>\n",
       "      <td id=\"T_bb479_row0_col5\" class=\"data row0 col5\" >0.81</td>\n",
       "    </tr>\n",
       "    <tr>\n",
       "      <th id=\"T_bb479_level0_row1\" class=\"row_heading level0 row1\" >1</th>\n",
       "      <td id=\"T_bb479_row1_col0\" class=\"data row1 col0\" >0.11</td>\n",
       "      <td id=\"T_bb479_row1_col1\" class=\"data row1 col1\" >0.16</td>\n",
       "      <td id=\"T_bb479_row1_col2\" class=\"data row1 col2\" >0.20</td>\n",
       "      <td id=\"T_bb479_row1_col3\" class=\"data row1 col3\" >0.15</td>\n",
       "      <td id=\"T_bb479_row1_col4\" class=\"data row1 col4\" >0.33</td>\n",
       "      <td id=\"T_bb479_row1_col5\" class=\"data row1 col5\" >0.19</td>\n",
       "    </tr>\n",
       "  </tbody>\n",
       "</table>\n",
       "   <style type=\"text/css\">\n",
       "</style>\n",
       "<table id=\"T_506e7_\" style='display:inline'>\n",
       "  <caption>(d) Filling Time Severe Fatigue</caption>\n",
       "  <thead>\n",
       "    <tr>\n",
       "      <th class=\"index_name level0\" >Filling Time</th>\n",
       "      <th class=\"col_heading level0 col0\" >AFT</th>\n",
       "      <th class=\"col_heading level0 col1\" >EM</th>\n",
       "      <th class=\"col_heading level0 col2\" >EVE</th>\n",
       "      <th class=\"col_heading level0 col3\" >MOR</th>\n",
       "      <th class=\"col_heading level0 col4\" >NI</th>\n",
       "      <th class=\"col_heading level0 col5\" >All</th>\n",
       "    </tr>\n",
       "    <tr>\n",
       "      <th class=\"index_name level0\" >Fatigue</th>\n",
       "      <th class=\"blank col0\" >&nbsp;</th>\n",
       "      <th class=\"blank col1\" >&nbsp;</th>\n",
       "      <th class=\"blank col2\" >&nbsp;</th>\n",
       "      <th class=\"blank col3\" >&nbsp;</th>\n",
       "      <th class=\"blank col4\" >&nbsp;</th>\n",
       "      <th class=\"blank col5\" >&nbsp;</th>\n",
       "    </tr>\n",
       "  </thead>\n",
       "  <tbody>\n",
       "    <tr>\n",
       "      <th id=\"T_506e7_level0_row0\" class=\"row_heading level0 row0\" >0</th>\n",
       "      <td id=\"T_506e7_row0_col0\" class=\"data row0 col0\" >0.87</td>\n",
       "      <td id=\"T_506e7_row0_col1\" class=\"data row0 col1\" >0.83</td>\n",
       "      <td id=\"T_506e7_row0_col2\" class=\"data row0 col2\" >0.71</td>\n",
       "      <td id=\"T_506e7_row0_col3\" class=\"data row0 col3\" >0.81</td>\n",
       "      <td id=\"T_506e7_row0_col4\" class=\"data row0 col4\" >0.63</td>\n",
       "      <td id=\"T_506e7_row0_col5\" class=\"data row0 col5\" >0.77</td>\n",
       "    </tr>\n",
       "    <tr>\n",
       "      <th id=\"T_506e7_level0_row1\" class=\"row_heading level0 row1\" >1</th>\n",
       "      <td id=\"T_506e7_row1_col0\" class=\"data row1 col0\" >0.13</td>\n",
       "      <td id=\"T_506e7_row1_col1\" class=\"data row1 col1\" >0.17</td>\n",
       "      <td id=\"T_506e7_row1_col2\" class=\"data row1 col2\" >0.29</td>\n",
       "      <td id=\"T_506e7_row1_col3\" class=\"data row1 col3\" >0.19</td>\n",
       "      <td id=\"T_506e7_row1_col4\" class=\"data row1 col4\" >0.37</td>\n",
       "      <td id=\"T_506e7_row1_col5\" class=\"data row1 col5\" >0.23</td>\n",
       "    </tr>\n",
       "  </tbody>\n",
       "</table>\n",
       "   "
      ],
      "text/plain": [
       "<IPython.core.display.HTML object>"
      ]
     },
     "metadata": {},
     "output_type": "display_data"
    },
    {
     "name": "stdout",
     "output_type": "stream",
     "text": [
      "\n",
      "\n"
     ]
    }
   ],
   "source": [
    "# Workload Moment\n",
    "x1 = pd.crosstab(working_df['kssd'], working_df['workload_moment'], rownames=['Sleepiness'], colnames=['Workload'], margins=True, normalize='columns')\n",
    "x2 = pd.crosstab(working_df['spsd'], working_df['workload_moment'], rownames=['Fatigue'], colnames=['Workload'], margins=True, normalize='columns')\n",
    "\n",
    "# Display\n",
    "display_side_by_side( [x1,x2], ['(a) Workload Moment-Excessive Sleepiness', '(b) Workload Moment-Severe Fatigue'] )\n",
    "print(''); print('')\n",
    "\n",
    "# filling time\n",
    "x1 = pd.crosstab(working_df['kssd'], working_df['quest_fill_hour'], rownames=['Sleepiness'], colnames=['Filling Time'], margins=True, normalize='columns')\n",
    "x2 = pd.crosstab(working_df['spsd'], working_df['quest_fill_hour'], rownames=['Fatigue'], colnames=['Filling Time'], margins=True, normalize='columns')\n",
    "\n",
    "# Display\n",
    "display_side_by_side( [x1,x2], ['(c) Filling Time Excessive Sleepiness', '(d) Filling Time Severe Fatigue'] )\n",
    "print(''); print('')"
   ]
  },
  {
   "cell_type": "markdown",
   "id": "2633681b-7904-48c1-b25b-cc6be8ca7381",
   "metadata": {},
   "source": [
    "Contingencies tables between Excessive Sleepiness (a & c) and Severe Fatigue (b & d) with Workload Moment (a & b) and Filling Time (c & d) are shown above in terms of relative frequency. We can see the following patterns:\n",
    "\n",
    "* Both excessive sleepiness and severe fatigue tend to be more frequently during the end of workload than in the middle or start;\n",
    "\n",
    "* Both excessive sleepiness and severe fatigue tend to be more frequently during the NI (Night period, between 00:00 and 05:59) period than in oher periods;\n",
    "\n",
    "* The severity of fatigue and excessiveness of sleepiness rises from start to the end of workload;"
   ]
  },
  {
   "cell_type": "markdown",
   "id": "208191ef-ac00-4d08-92b9-47acc2926b19",
   "metadata": {},
   "source": [
    "### 2.5.3 - Workload Types"
   ]
  },
  {
   "cell_type": "code",
   "execution_count": 9,
   "id": "15e7e94b-559d-41a6-b3a0-ab5357c12ce9",
   "metadata": {},
   "outputs": [
    {
     "name": "stdout",
     "output_type": "stream",
     "text": [
      "\n",
      "\n"
     ]
    },
    {
     "data": {
      "text/html": [
       "<style type=\"text/css\">\n",
       "</style>\n",
       "<table id=\"T_60ad0_\" style='display:inline'>\n",
       "  <caption>(a) Workload Type Excessive Sleepiness</caption>\n",
       "  <thead>\n",
       "    <tr>\n",
       "      <th class=\"index_name level0\" >workload_type</th>\n",
       "      <th class=\"col_heading level0 col0\" >early-start</th>\n",
       "      <th class=\"col_heading level0 col1\" >night</th>\n",
       "      <th class=\"col_heading level0 col2\" >others</th>\n",
       "      <th class=\"col_heading level0 col3\" >All</th>\n",
       "    </tr>\n",
       "    <tr>\n",
       "      <th class=\"index_name level0\" >Sleepiness</th>\n",
       "      <th class=\"blank col0\" >&nbsp;</th>\n",
       "      <th class=\"blank col1\" >&nbsp;</th>\n",
       "      <th class=\"blank col2\" >&nbsp;</th>\n",
       "      <th class=\"blank col3\" >&nbsp;</th>\n",
       "    </tr>\n",
       "  </thead>\n",
       "  <tbody>\n",
       "    <tr>\n",
       "      <th id=\"T_60ad0_level0_row0\" class=\"row_heading level0 row0\" >0</th>\n",
       "      <td id=\"T_60ad0_row0_col0\" class=\"data row0 col0\" >0.87</td>\n",
       "      <td id=\"T_60ad0_row0_col1\" class=\"data row0 col1\" >0.74</td>\n",
       "      <td id=\"T_60ad0_row0_col2\" class=\"data row0 col2\" >0.86</td>\n",
       "      <td id=\"T_60ad0_row0_col3\" class=\"data row0 col3\" >0.81</td>\n",
       "    </tr>\n",
       "    <tr>\n",
       "      <th id=\"T_60ad0_level0_row1\" class=\"row_heading level0 row1\" >1</th>\n",
       "      <td id=\"T_60ad0_row1_col0\" class=\"data row1 col0\" >0.13</td>\n",
       "      <td id=\"T_60ad0_row1_col1\" class=\"data row1 col1\" >0.26</td>\n",
       "      <td id=\"T_60ad0_row1_col2\" class=\"data row1 col2\" >0.14</td>\n",
       "      <td id=\"T_60ad0_row1_col3\" class=\"data row1 col3\" >0.19</td>\n",
       "    </tr>\n",
       "  </tbody>\n",
       "</table>\n",
       "   <style type=\"text/css\">\n",
       "</style>\n",
       "<table id=\"T_1ffed_\" style='display:inline'>\n",
       "  <caption>(d) Workload Type Severe Fatigue</caption>\n",
       "  <thead>\n",
       "    <tr>\n",
       "      <th class=\"index_name level0\" >workload_type</th>\n",
       "      <th class=\"col_heading level0 col0\" >early-start</th>\n",
       "      <th class=\"col_heading level0 col1\" >night</th>\n",
       "      <th class=\"col_heading level0 col2\" >others</th>\n",
       "      <th class=\"col_heading level0 col3\" >All</th>\n",
       "    </tr>\n",
       "    <tr>\n",
       "      <th class=\"index_name level0\" >Fatigue</th>\n",
       "      <th class=\"blank col0\" >&nbsp;</th>\n",
       "      <th class=\"blank col1\" >&nbsp;</th>\n",
       "      <th class=\"blank col2\" >&nbsp;</th>\n",
       "      <th class=\"blank col3\" >&nbsp;</th>\n",
       "    </tr>\n",
       "  </thead>\n",
       "  <tbody>\n",
       "    <tr>\n",
       "      <th id=\"T_1ffed_level0_row0\" class=\"row_heading level0 row0\" >0</th>\n",
       "      <td id=\"T_1ffed_row0_col0\" class=\"data row0 col0\" >0.87</td>\n",
       "      <td id=\"T_1ffed_row0_col1\" class=\"data row0 col1\" >0.68</td>\n",
       "      <td id=\"T_1ffed_row0_col2\" class=\"data row0 col2\" >0.80</td>\n",
       "      <td id=\"T_1ffed_row0_col3\" class=\"data row0 col3\" >0.77</td>\n",
       "    </tr>\n",
       "    <tr>\n",
       "      <th id=\"T_1ffed_level0_row1\" class=\"row_heading level0 row1\" >1</th>\n",
       "      <td id=\"T_1ffed_row1_col0\" class=\"data row1 col0\" >0.13</td>\n",
       "      <td id=\"T_1ffed_row1_col1\" class=\"data row1 col1\" >0.32</td>\n",
       "      <td id=\"T_1ffed_row1_col2\" class=\"data row1 col2\" >0.20</td>\n",
       "      <td id=\"T_1ffed_row1_col3\" class=\"data row1 col3\" >0.23</td>\n",
       "    </tr>\n",
       "  </tbody>\n",
       "</table>\n",
       "   "
      ],
      "text/plain": [
       "<IPython.core.display.HTML object>"
      ]
     },
     "metadata": {},
     "output_type": "display_data"
    },
    {
     "name": "stdout",
     "output_type": "stream",
     "text": [
      "\n",
      "\n"
     ]
    }
   ],
   "source": [
    "# filling time\n",
    "x1 = pd.crosstab(working_df['kssd'], working_df['workload_type'], rownames=['Sleepiness'], colnames=['workload_type'], margins=True, normalize='columns')\n",
    "x2 = pd.crosstab(working_df['spsd'], working_df['workload_type'], rownames=['Fatigue'], colnames=['workload_type'], margins=True, normalize='columns')\n",
    "\n",
    "# Display\n",
    "print(''); print('')\n",
    "display_side_by_side( [x1,x2], ['(a) Workload Type Excessive Sleepiness', '(d) Workload Type Severe Fatigue'] )\n",
    "print(''); print('')"
   ]
  },
  {
   "cell_type": "markdown",
   "id": "50699e45-e667-4e3c-a611-36e41d9543ab",
   "metadata": {},
   "source": [
    "The table above shows contingencies tables between excessive sleepiness (a) and severe fatigue (b) with workload types. The following patterns can be seen:\n",
    "\n",
    "* Night routines (Workloads comprehending the night period or between 00:00 and 05:59), presents the greater frequency of both, excessive sleepiness and severe fatigue;\n",
    "\n",
    "* In terms of occurrence of excessiveness of slepiness, no diffeerences is found between early-start and others modalities;\n",
    "\n",
    "* However, for occurrence of severity of fatigue, early-start (workloads comprehending early-start period or between 06:00 and 07:59) routine have the small relative frequency of occurrence."
   ]
  },
  {
   "cell_type": "markdown",
   "id": "2ffaeabd-f2b8-46ea-84c7-6c57e3e98c9d",
   "metadata": {},
   "source": [
    "### 2.5.4. Previous Workload Types"
   ]
  },
  {
   "cell_type": "code",
   "execution_count": 10,
   "id": "bc63f1c8-6d8f-4a6b-9e63-26e0878fd5a9",
   "metadata": {},
   "outputs": [
    {
     "name": "stdout",
     "output_type": "stream",
     "text": [
      "\n",
      "\n"
     ]
    },
    {
     "data": {
      "text/html": [
       "<style type=\"text/css\">\n",
       "</style>\n",
       "<table id=\"T_49a6b_\" style='display:inline'>\n",
       "  <caption>(a) Previous ES Excessive Sleepiness</caption>\n",
       "  <thead>\n",
       "    <tr>\n",
       "      <th class=\"index_name level0\" >workload_type</th>\n",
       "      <th class=\"col_heading level0 col0\" >0</th>\n",
       "      <th class=\"col_heading level0 col1\" >1</th>\n",
       "      <th class=\"col_heading level0 col2\" >2</th>\n",
       "      <th class=\"col_heading level0 col3\" >3</th>\n",
       "      <th class=\"col_heading level0 col4\" >All</th>\n",
       "    </tr>\n",
       "    <tr>\n",
       "      <th class=\"index_name level0\" >Sleepiness</th>\n",
       "      <th class=\"blank col0\" >&nbsp;</th>\n",
       "      <th class=\"blank col1\" >&nbsp;</th>\n",
       "      <th class=\"blank col2\" >&nbsp;</th>\n",
       "      <th class=\"blank col3\" >&nbsp;</th>\n",
       "      <th class=\"blank col4\" >&nbsp;</th>\n",
       "    </tr>\n",
       "  </thead>\n",
       "  <tbody>\n",
       "    <tr>\n",
       "      <th id=\"T_49a6b_level0_row0\" class=\"row_heading level0 row0\" >0</th>\n",
       "      <td id=\"T_49a6b_row0_col0\" class=\"data row0 col0\" >0.81</td>\n",
       "      <td id=\"T_49a6b_row0_col1\" class=\"data row0 col1\" >0.80</td>\n",
       "      <td id=\"T_49a6b_row0_col2\" class=\"data row0 col2\" >0.97</td>\n",
       "      <td id=\"T_49a6b_row0_col3\" class=\"data row0 col3\" >0.92</td>\n",
       "      <td id=\"T_49a6b_row0_col4\" class=\"data row0 col4\" >0.81</td>\n",
       "    </tr>\n",
       "    <tr>\n",
       "      <th id=\"T_49a6b_level0_row1\" class=\"row_heading level0 row1\" >1</th>\n",
       "      <td id=\"T_49a6b_row1_col0\" class=\"data row1 col0\" >0.19</td>\n",
       "      <td id=\"T_49a6b_row1_col1\" class=\"data row1 col1\" >0.20</td>\n",
       "      <td id=\"T_49a6b_row1_col2\" class=\"data row1 col2\" >0.03</td>\n",
       "      <td id=\"T_49a6b_row1_col3\" class=\"data row1 col3\" >0.08</td>\n",
       "      <td id=\"T_49a6b_row1_col4\" class=\"data row1 col4\" >0.19</td>\n",
       "    </tr>\n",
       "  </tbody>\n",
       "</table>\n",
       "   <style type=\"text/css\">\n",
       "</style>\n",
       "<table id=\"T_6bd8e_\" style='display:inline'>\n",
       "  <caption>(b) Previous ES Type Severe Fatigue</caption>\n",
       "  <thead>\n",
       "    <tr>\n",
       "      <th class=\"index_name level0\" >workload_type</th>\n",
       "      <th class=\"col_heading level0 col0\" >0</th>\n",
       "      <th class=\"col_heading level0 col1\" >1</th>\n",
       "      <th class=\"col_heading level0 col2\" >2</th>\n",
       "      <th class=\"col_heading level0 col3\" >3</th>\n",
       "      <th class=\"col_heading level0 col4\" >All</th>\n",
       "    </tr>\n",
       "    <tr>\n",
       "      <th class=\"index_name level0\" >Fatigue</th>\n",
       "      <th class=\"blank col0\" >&nbsp;</th>\n",
       "      <th class=\"blank col1\" >&nbsp;</th>\n",
       "      <th class=\"blank col2\" >&nbsp;</th>\n",
       "      <th class=\"blank col3\" >&nbsp;</th>\n",
       "      <th class=\"blank col4\" >&nbsp;</th>\n",
       "    </tr>\n",
       "  </thead>\n",
       "  <tbody>\n",
       "    <tr>\n",
       "      <th id=\"T_6bd8e_level0_row0\" class=\"row_heading level0 row0\" >0</th>\n",
       "      <td id=\"T_6bd8e_row0_col0\" class=\"data row0 col0\" >0.76</td>\n",
       "      <td id=\"T_6bd8e_row0_col1\" class=\"data row0 col1\" >0.82</td>\n",
       "      <td id=\"T_6bd8e_row0_col2\" class=\"data row0 col2\" >0.86</td>\n",
       "      <td id=\"T_6bd8e_row0_col3\" class=\"data row0 col3\" >0.92</td>\n",
       "      <td id=\"T_6bd8e_row0_col4\" class=\"data row0 col4\" >0.77</td>\n",
       "    </tr>\n",
       "    <tr>\n",
       "      <th id=\"T_6bd8e_level0_row1\" class=\"row_heading level0 row1\" >1</th>\n",
       "      <td id=\"T_6bd8e_row1_col0\" class=\"data row1 col0\" >0.24</td>\n",
       "      <td id=\"T_6bd8e_row1_col1\" class=\"data row1 col1\" >0.18</td>\n",
       "      <td id=\"T_6bd8e_row1_col2\" class=\"data row1 col2\" >0.14</td>\n",
       "      <td id=\"T_6bd8e_row1_col3\" class=\"data row1 col3\" >0.08</td>\n",
       "      <td id=\"T_6bd8e_row1_col4\" class=\"data row1 col4\" >0.23</td>\n",
       "    </tr>\n",
       "  </tbody>\n",
       "</table>\n",
       "   "
      ],
      "text/plain": [
       "<IPython.core.display.HTML object>"
      ]
     },
     "metadata": {},
     "output_type": "display_data"
    },
    {
     "name": "stdout",
     "output_type": "stream",
     "text": [
      "\n",
      "\n"
     ]
    },
    {
     "data": {
      "text/html": [
       "<style type=\"text/css\">\n",
       "</style>\n",
       "<table id=\"T_383cb_\" style='display:inline'>\n",
       "  <caption>(c) Previous NT Excessive Sleepiness</caption>\n",
       "  <thead>\n",
       "    <tr>\n",
       "      <th class=\"index_name level0\" >workload_type</th>\n",
       "      <th class=\"col_heading level0 col0\" >0</th>\n",
       "      <th class=\"col_heading level0 col1\" >1</th>\n",
       "      <th class=\"col_heading level0 col2\" >2</th>\n",
       "      <th class=\"col_heading level0 col3\" >All</th>\n",
       "    </tr>\n",
       "    <tr>\n",
       "      <th class=\"index_name level0\" >Sleepiness</th>\n",
       "      <th class=\"blank col0\" >&nbsp;</th>\n",
       "      <th class=\"blank col1\" >&nbsp;</th>\n",
       "      <th class=\"blank col2\" >&nbsp;</th>\n",
       "      <th class=\"blank col3\" >&nbsp;</th>\n",
       "    </tr>\n",
       "  </thead>\n",
       "  <tbody>\n",
       "    <tr>\n",
       "      <th id=\"T_383cb_level0_row0\" class=\"row_heading level0 row0\" >0</th>\n",
       "      <td id=\"T_383cb_row0_col0\" class=\"data row0 col0\" >0.82</td>\n",
       "      <td id=\"T_383cb_row0_col1\" class=\"data row0 col1\" >0.78</td>\n",
       "      <td id=\"T_383cb_row0_col2\" class=\"data row0 col2\" >0.82</td>\n",
       "      <td id=\"T_383cb_row0_col3\" class=\"data row0 col3\" >0.81</td>\n",
       "    </tr>\n",
       "    <tr>\n",
       "      <th id=\"T_383cb_level0_row1\" class=\"row_heading level0 row1\" >1</th>\n",
       "      <td id=\"T_383cb_row1_col0\" class=\"data row1 col0\" >0.18</td>\n",
       "      <td id=\"T_383cb_row1_col1\" class=\"data row1 col1\" >0.22</td>\n",
       "      <td id=\"T_383cb_row1_col2\" class=\"data row1 col2\" >0.18</td>\n",
       "      <td id=\"T_383cb_row1_col3\" class=\"data row1 col3\" >0.19</td>\n",
       "    </tr>\n",
       "  </tbody>\n",
       "</table>\n",
       "   <style type=\"text/css\">\n",
       "</style>\n",
       "<table id=\"T_9560b_\" style='display:inline'>\n",
       "  <caption>(d) Previous NT Type Severe Fatigue</caption>\n",
       "  <thead>\n",
       "    <tr>\n",
       "      <th class=\"index_name level0\" >workload_type</th>\n",
       "      <th class=\"col_heading level0 col0\" >0</th>\n",
       "      <th class=\"col_heading level0 col1\" >1</th>\n",
       "      <th class=\"col_heading level0 col2\" >2</th>\n",
       "      <th class=\"col_heading level0 col3\" >All</th>\n",
       "    </tr>\n",
       "    <tr>\n",
       "      <th class=\"index_name level0\" >Fatigue</th>\n",
       "      <th class=\"blank col0\" >&nbsp;</th>\n",
       "      <th class=\"blank col1\" >&nbsp;</th>\n",
       "      <th class=\"blank col2\" >&nbsp;</th>\n",
       "      <th class=\"blank col3\" >&nbsp;</th>\n",
       "    </tr>\n",
       "  </thead>\n",
       "  <tbody>\n",
       "    <tr>\n",
       "      <th id=\"T_9560b_level0_row0\" class=\"row_heading level0 row0\" >0</th>\n",
       "      <td id=\"T_9560b_row0_col0\" class=\"data row0 col0\" >0.79</td>\n",
       "      <td id=\"T_9560b_row0_col1\" class=\"data row0 col1\" >0.70</td>\n",
       "      <td id=\"T_9560b_row0_col2\" class=\"data row0 col2\" >0.76</td>\n",
       "      <td id=\"T_9560b_row0_col3\" class=\"data row0 col3\" >0.77</td>\n",
       "    </tr>\n",
       "    <tr>\n",
       "      <th id=\"T_9560b_level0_row1\" class=\"row_heading level0 row1\" >1</th>\n",
       "      <td id=\"T_9560b_row1_col0\" class=\"data row1 col0\" >0.21</td>\n",
       "      <td id=\"T_9560b_row1_col1\" class=\"data row1 col1\" >0.30</td>\n",
       "      <td id=\"T_9560b_row1_col2\" class=\"data row1 col2\" >0.24</td>\n",
       "      <td id=\"T_9560b_row1_col3\" class=\"data row1 col3\" >0.23</td>\n",
       "    </tr>\n",
       "  </tbody>\n",
       "</table>\n",
       "   "
      ],
      "text/plain": [
       "<IPython.core.display.HTML object>"
      ]
     },
     "metadata": {},
     "output_type": "display_data"
    },
    {
     "name": "stdout",
     "output_type": "stream",
     "text": [
      "\n",
      "\n"
     ]
    }
   ],
   "source": [
    "# filling time\n",
    "x1 = pd.crosstab(working_df['kssd'], working_df['workload_type_prev_es'], rownames=['Sleepiness'], colnames=['workload_type'], margins=True, normalize='columns')\n",
    "x2 = pd.crosstab(working_df['spsd'], working_df['workload_type_prev_es'], rownames=['Fatigue'], colnames=['workload_type'], margins=True, normalize='columns')\n",
    "\n",
    "# Display\n",
    "print(''); print('')\n",
    "display_side_by_side( [x1,x2], ['(a) Previous ES Excessive Sleepiness', '(b) Previous ES Type Severe Fatigue'] )\n",
    "print(''); print('')\n",
    "\n",
    "# filling time\n",
    "x1 = pd.crosstab(working_df['kssd'], working_df['workload_type_prev_nt'], rownames=['Sleepiness'], colnames=['workload_type'], margins=True, normalize='columns')\n",
    "x2 = pd.crosstab(working_df['spsd'], working_df['workload_type_prev_nt'], rownames=['Fatigue'], colnames=['workload_type'], margins=True, normalize='columns')\n",
    "\n",
    "# Display\n",
    "display_side_by_side( [x1,x2], ['(c) Previous NT Excessive Sleepiness', '(d) Previous NT Type Severe Fatigue'] )\n",
    "print(''); print('')"
   ]
  },
  {
   "cell_type": "markdown",
   "id": "31e15f12-baae-42cc-bb8b-be298362d4d6",
   "metadata": {},
   "source": [
    "* For previous Early-Start modality (a & b) we not found relative frequencies for excessive sleepiness or sever fatigue that are above non previous early-start modality (0);\n",
    "\n",
    "* For previous Night modality (c & d), we found that for workloads preceded by one previous night (1) workloads the relative frequency of excessive sleepiness and severe fatigue are greater than non previos night modality (0)."
   ]
  },
  {
   "cell_type": "markdown",
   "id": "216d27bf-c71b-429c-9a3b-fa0e5b76f583",
   "metadata": {},
   "source": [
    "# 3. Variables relative to durations"
   ]
  },
  {
   "cell_type": "markdown",
   "id": "c22ebfc7-a0ed-4f95-884b-f476ca789c31",
   "metadata": {},
   "source": [
    "Differently from kss and sps, variables relative to time durations or peridos, were taken just once in a workload period. So, to analyze them, some data manipulation is needed to extract a single value, instead of three as previously."
   ]
  },
  {
   "cell_type": "code",
   "execution_count": 12,
   "id": "56907aab-1864-4194-b205-e3a212da0fe3",
   "metadata": {},
   "outputs": [
    {
     "data": {
      "text/html": [
       "<div>\n",
       "<style scoped>\n",
       "    .dataframe tbody tr th:only-of-type {\n",
       "        vertical-align: middle;\n",
       "    }\n",
       "\n",
       "    .dataframe tbody tr th {\n",
       "        vertical-align: top;\n",
       "    }\n",
       "\n",
       "    .dataframe thead th {\n",
       "        text-align: right;\n",
       "    }\n",
       "</style>\n",
       "<table border=\"1\" class=\"dataframe\">\n",
       "  <thead>\n",
       "    <tr style=\"text-align: right;\">\n",
       "      <th></th>\n",
       "      <th>Id</th>\n",
       "      <th>sleep_duration</th>\n",
       "      <th>time_awake</th>\n",
       "      <th>workload_length</th>\n",
       "    </tr>\n",
       "  </thead>\n",
       "  <tbody>\n",
       "    <tr>\n",
       "      <th>0</th>\n",
       "      <td>P01</td>\n",
       "      <td>8.38</td>\n",
       "      <td>8.47</td>\n",
       "      <td>8.88</td>\n",
       "    </tr>\n",
       "    <tr>\n",
       "      <th>1</th>\n",
       "      <td>P01</td>\n",
       "      <td>8.38</td>\n",
       "      <td>8.47</td>\n",
       "      <td>8.90</td>\n",
       "    </tr>\n",
       "    <tr>\n",
       "      <th>2</th>\n",
       "      <td>P01</td>\n",
       "      <td>8.38</td>\n",
       "      <td>8.47</td>\n",
       "      <td>8.92</td>\n",
       "    </tr>\n",
       "    <tr>\n",
       "      <th>3</th>\n",
       "      <td>P01</td>\n",
       "      <td>7.20</td>\n",
       "      <td>1.90</td>\n",
       "      <td>5.45</td>\n",
       "    </tr>\n",
       "    <tr>\n",
       "      <th>4</th>\n",
       "      <td>P01</td>\n",
       "      <td>7.20</td>\n",
       "      <td>1.90</td>\n",
       "      <td>5.47</td>\n",
       "    </tr>\n",
       "  </tbody>\n",
       "</table>\n",
       "</div>"
      ],
      "text/plain": [
       "    Id  sleep_duration  time_awake  workload_length\n",
       "0  P01            8.38        8.47             8.88\n",
       "1  P01            8.38        8.47             8.90\n",
       "2  P01            8.38        8.47             8.92\n",
       "3  P01            7.20        1.90             5.45\n",
       "4  P01            7.20        1.90             5.47"
      ]
     },
     "execution_count": 12,
     "metadata": {},
     "output_type": "execute_result"
    }
   ],
   "source": [
    "temp = working_df[['Id', 'sleep_duration', 'time_awake', 'workload_length']].copy().drop_duplicates()\n",
    "temp.head(5).round(2)"
   ]
  },
  {
   "cell_type": "code",
   "execution_count": 158,
   "id": "715dec02-31d7-4e31-9e00-82e801dd92da",
   "metadata": {},
   "outputs": [
    {
     "name": "stdout",
     "output_type": "stream",
     "text": [
      "----------------------------------------------------------------\n",
      "Number of workloads: 432\n",
      "----------------------------------------------------------------\n"
     ]
    }
   ],
   "source": [
    "print('----------------------------------------------------------------')\n",
    "print(f'Number of workloads: {len(temp)}')\n",
    "print('----------------------------------------------------------------')"
   ]
  },
  {
   "cell_type": "markdown",
   "id": "c9a03cba-7f9c-4c74-898f-4eaa20364c3e",
   "metadata": {},
   "source": [
    "## 3.1. Distributions of variables relative to duration"
   ]
  },
  {
   "cell_type": "code",
   "execution_count": 13,
   "id": "68eb757b-b5b7-4d55-8e90-f0c311164135",
   "metadata": {},
   "outputs": [
    {
     "data": {
      "image/png": "[encoded data removed]",
      "text/plain": [
       "<Figure size 864x288 with 3 Axes>"
      ]
     },
     "metadata": {
      "needs_background": "light"
     },
     "output_type": "display_data"
    },
    {
     "data": {
      "text/html": [
       "<div>\n",
       "<style scoped>\n",
       "    .dataframe tbody tr th:only-of-type {\n",
       "        vertical-align: middle;\n",
       "    }\n",
       "\n",
       "    .dataframe tbody tr th {\n",
       "        vertical-align: top;\n",
       "    }\n",
       "\n",
       "    .dataframe thead th {\n",
       "        text-align: right;\n",
       "    }\n",
       "</style>\n",
       "<table border=\"1\" class=\"dataframe\">\n",
       "  <thead>\n",
       "    <tr style=\"text-align: right;\">\n",
       "      <th></th>\n",
       "      <th>sleep_duration</th>\n",
       "      <th>time_awake</th>\n",
       "      <th>workload_length</th>\n",
       "    </tr>\n",
       "  </thead>\n",
       "  <tbody>\n",
       "    <tr>\n",
       "      <th>count</th>\n",
       "      <td>431.00</td>\n",
       "      <td>429.00</td>\n",
       "      <td>429.00</td>\n",
       "    </tr>\n",
       "    <tr>\n",
       "      <th>mean</th>\n",
       "      <td>7.17</td>\n",
       "      <td>4.05</td>\n",
       "      <td>7.17</td>\n",
       "    </tr>\n",
       "    <tr>\n",
       "      <th>std</th>\n",
       "      <td>1.77</td>\n",
       "      <td>3.69</td>\n",
       "      <td>2.38</td>\n",
       "    </tr>\n",
       "    <tr>\n",
       "      <th>min</th>\n",
       "      <td>2.47</td>\n",
       "      <td>0.25</td>\n",
       "      <td>1.68</td>\n",
       "    </tr>\n",
       "    <tr>\n",
       "      <th>25%</th>\n",
       "      <td>6.17</td>\n",
       "      <td>1.53</td>\n",
       "      <td>5.80</td>\n",
       "    </tr>\n",
       "    <tr>\n",
       "      <th>50%</th>\n",
       "      <td>7.20</td>\n",
       "      <td>2.50</td>\n",
       "      <td>7.37</td>\n",
       "    </tr>\n",
       "    <tr>\n",
       "      <th>75%</th>\n",
       "      <td>8.38</td>\n",
       "      <td>5.40</td>\n",
       "      <td>8.78</td>\n",
       "    </tr>\n",
       "    <tr>\n",
       "      <th>max</th>\n",
       "      <td>12.42</td>\n",
       "      <td>17.40</td>\n",
       "      <td>11.58</td>\n",
       "    </tr>\n",
       "  </tbody>\n",
       "</table>\n",
       "</div>"
      ],
      "text/plain": [
       "       sleep_duration  time_awake  workload_length\n",
       "count          431.00      429.00           429.00\n",
       "mean             7.17        4.05             7.17\n",
       "std              1.77        3.69             2.38\n",
       "min              2.47        0.25             1.68\n",
       "25%              6.17        1.53             5.80\n",
       "50%              7.20        2.50             7.37\n",
       "75%              8.38        5.40             8.78\n",
       "max             12.42       17.40            11.58"
      ]
     },
     "execution_count": 13,
     "metadata": {},
     "output_type": "execute_result"
    }
   ],
   "source": [
    "fig, ax = plt.subplots(nrows = 1, ncols = 3, figsize=(12,4))\n",
    "sns.boxplot(data = temp, y='sleep_duration', ax = ax[0])\n",
    "ax[0].set_title('Prev. workload sleep duration  (Hours)')\n",
    "ax[0].set_ylabel('')\n",
    "sns.boxplot(data = temp, y='time_awake', ax = ax[1], color = 'orange')\n",
    "ax[1].set_title('Time awake prev. workload  (Hours)')\n",
    "ax[1].set_ylabel('')\n",
    "sns.boxplot(data = temp, y='workload_length', ax = ax[2], color = 'green')\n",
    "ax[2].set_title('Workload Length  (Hours)')\n",
    "ax[2].set_ylabel('')\n",
    "plt.show()\n",
    "\n",
    "temp.describe().round(2)"
   ]
  },
  {
   "cell_type": "markdown",
   "id": "82a9d292-5616-406b-bfc0-67a57c648177",
   "metadata": {},
   "source": [
    "Resume measurements and boxplots of duration variables are presented above. We can see that the variables sleep duration before workload and workload length, approximately have a symetric behaviour, presenting mean and media near to each other, indicating that:\n",
    "\n",
    "* The participants in mean sleep about 7 hours before the workload;\n",
    "\n",
    "* The workload length in mean is about 7 hours.\n",
    "\n",
    "The variable time awake before the workload has an assimetric behaviour, so the median is more representative of the average participants behaviour than the mean, thus,\n",
    "\n",
    "* Before the workload, the participants in average were about 2 hours and 30 min awake."
   ]
  },
  {
   "cell_type": "markdown",
   "id": "cc680f6a-8292-4200-b510-4f067baf7181",
   "metadata": {},
   "source": [
    "## 3.2. Distribution of Duration Variables with kss (Perception of Sleepiness)"
   ]
  },
  {
   "cell_type": "code",
   "execution_count": 14,
   "id": "86749515-3c6c-4b2a-9c6d-419df76d11e6",
   "metadata": {},
   "outputs": [
    {
     "data": {
      "image/png": "[encoded data removed]",
      "text/plain": [
       "<Figure size 1152x288 with 3 Axes>"
      ]
     },
     "metadata": {
      "needs_background": "light"
     },
     "output_type": "display_data"
    }
   ],
   "source": [
    "temp = working_df[['kssd','spsd','quest_fill_hour', 'workload_moment', 'sleep_duration', \n",
    "                   'time_awake', 'workload_length']].copy()\n",
    "\n",
    "fig, ax = plt.subplots(nrows = 1, ncols = 3, figsize=(16,4))\n",
    "sns.boxplot(data = temp, x = 'quest_fill_hour', y = 'sleep_duration', hue = 'kssd', order = ['EM','MOR','AFT','EVE','NI'], ax = ax[0])\n",
    "sns.boxplot(data = temp, x = 'quest_fill_hour', y = 'time_awake', hue = 'kssd', order = ['EM','MOR','AFT','EVE','NI'], ax = ax[1])\n",
    "sns.boxplot(data = temp, x = 'quest_fill_hour', y = 'workload_length', hue = 'kssd', order = ['EM','MOR','AFT','EVE','NI'], ax = ax[2])\n",
    "plt.show()"
   ]
  },
  {
   "cell_type": "markdown",
   "id": "4535b5d7-6f66-416b-95aa-fa331702c21b",
   "metadata": {},
   "source": [
    "Above is shown boxplots representing the duration variables with perception of sleepiness and the evolution of time discretized. We can conclude that:\n",
    "\n",
    "* Moring period is associated with less sleep duration previous workload, indicating that pilots who probably start their routine at MOR period, sleep less than in other periods.\n",
    "\n",
    "* As day evolves from EM to NI, both for excessive and non excessive sleepiness, the time awake before rises, except for the night period (NI), probably due to the wide range (00:00 to 05:59).\n",
    "\n",
    "* For workload length, routines comprehending periods Early-Morning (or Early-Start) and Night (NI) tend to be shorter, in terms of excessive sleepiness, shorter EM and longer EVE workloads stand-out. "
   ]
  },
  {
   "cell_type": "markdown",
   "id": "61811ca0-0aee-4ad4-bbeb-185d95b0f4ce",
   "metadata": {},
   "source": [
    "## 3.3. Distribution of Duration Variables with sps (Perception of fatigue)"
   ]
  },
  {
   "cell_type": "code",
   "execution_count": 15,
   "id": "dd0abf0e-9d2a-467f-ac33-31c9e3ec8e2d",
   "metadata": {},
   "outputs": [
    {
     "data": {
      "image/png": "[encoded data removed]",
      "text/plain": [
       "<Figure size 1152x288 with 3 Axes>"
      ]
     },
     "metadata": {
      "needs_background": "light"
     },
     "output_type": "display_data"
    }
   ],
   "source": [
    "fig, ax = plt.subplots(nrows = 1, ncols = 3, figsize=(16,4))\n",
    "sns.boxplot(data = temp, x = 'quest_fill_hour', y = 'sleep_duration', hue = 'spsd', order = ['EM','MOR','AFT','EVE','NI'], ax = ax[0])\n",
    "sns.boxplot(data = temp, x = 'quest_fill_hour', y = 'time_awake', hue = 'spsd', order = ['EM','MOR','AFT','EVE','NI'], ax = ax[1])\n",
    "sns.boxplot(data = temp, x = 'quest_fill_hour', y = 'workload_length', hue = 'spsd', order = ['EM','MOR','AFT','EVE','NI'], ax = ax[2])\n",
    "plt.show()"
   ]
  },
  {
   "cell_type": "markdown",
   "id": "9282d5e8-00b4-4ce2-b57f-4a8f5b9d29f1",
   "metadata": {},
   "source": [
    "It is shown above the evolution of sleep duration, time awake before workload and workload length with time for severe and non severe fatigue.\n",
    "\n",
    "* The same patterns as observed for perception sleepines is found for perception of fatigue."
   ]
  },
  {
   "cell_type": "markdown",
   "id": "b0221e2f-1b00-47ab-a979-83888a07be06",
   "metadata": {},
   "source": [
    "# 4. Relative to Naps"
   ]
  },
  {
   "cell_type": "markdown",
   "id": "a77406c8-829c-4ed5-a997-3effdb1a7569",
   "metadata": {},
   "source": [
    "## 4.1. Number of Naps"
   ]
  },
  {
   "cell_type": "code",
   "execution_count": 16,
   "id": "4fdf4633-7bc5-44c7-91a5-3c493c95379b",
   "metadata": {},
   "outputs": [
    {
     "name": "stdout",
     "output_type": "stream",
     "text": [
      "\n",
      "\n"
     ]
    },
    {
     "data": {
      "text/html": [
       "<style type=\"text/css\">\n",
       "</style>\n",
       "<table id=\"T_d8db5_\" style='display:inline'>\n",
       "  <caption>(a) # Naps During Workload - Excessive Sleepiness</caption>\n",
       "  <thead>\n",
       "    <tr>\n",
       "      <th class=\"index_name level0\" >nap_number</th>\n",
       "      <th class=\"col_heading level0 col0\" >0</th>\n",
       "      <th class=\"col_heading level0 col1\" >1</th>\n",
       "      <th class=\"col_heading level0 col2\" >2</th>\n",
       "      <th class=\"col_heading level0 col3\" >All</th>\n",
       "    </tr>\n",
       "    <tr>\n",
       "      <th class=\"index_name level0\" >Sleepiness</th>\n",
       "      <th class=\"blank col0\" >&nbsp;</th>\n",
       "      <th class=\"blank col1\" >&nbsp;</th>\n",
       "      <th class=\"blank col2\" >&nbsp;</th>\n",
       "      <th class=\"blank col3\" >&nbsp;</th>\n",
       "    </tr>\n",
       "  </thead>\n",
       "  <tbody>\n",
       "    <tr>\n",
       "      <th id=\"T_d8db5_level0_row0\" class=\"row_heading level0 row0\" >0</th>\n",
       "      <td id=\"T_d8db5_row0_col0\" class=\"data row0 col0\" >0.85</td>\n",
       "      <td id=\"T_d8db5_row0_col1\" class=\"data row0 col1\" >0.73</td>\n",
       "      <td id=\"T_d8db5_row0_col2\" class=\"data row0 col2\" >0.79</td>\n",
       "      <td id=\"T_d8db5_row0_col3\" class=\"data row0 col3\" >0.81</td>\n",
       "    </tr>\n",
       "    <tr>\n",
       "      <th id=\"T_d8db5_level0_row1\" class=\"row_heading level0 row1\" >1</th>\n",
       "      <td id=\"T_d8db5_row1_col0\" class=\"data row1 col0\" >0.15</td>\n",
       "      <td id=\"T_d8db5_row1_col1\" class=\"data row1 col1\" >0.27</td>\n",
       "      <td id=\"T_d8db5_row1_col2\" class=\"data row1 col2\" >0.21</td>\n",
       "      <td id=\"T_d8db5_row1_col3\" class=\"data row1 col3\" >0.19</td>\n",
       "    </tr>\n",
       "  </tbody>\n",
       "</table>\n",
       "   <style type=\"text/css\">\n",
       "</style>\n",
       "<table id=\"T_a9989_\" style='display:inline'>\n",
       "  <caption>(b) # Naps During Workload - Severe Fatigue</caption>\n",
       "  <thead>\n",
       "    <tr>\n",
       "      <th class=\"index_name level0\" >nap_number</th>\n",
       "      <th class=\"col_heading level0 col0\" >0</th>\n",
       "      <th class=\"col_heading level0 col1\" >1</th>\n",
       "      <th class=\"col_heading level0 col2\" >2</th>\n",
       "      <th class=\"col_heading level0 col3\" >All</th>\n",
       "    </tr>\n",
       "    <tr>\n",
       "      <th class=\"index_name level0\" >Fatigue</th>\n",
       "      <th class=\"blank col0\" >&nbsp;</th>\n",
       "      <th class=\"blank col1\" >&nbsp;</th>\n",
       "      <th class=\"blank col2\" >&nbsp;</th>\n",
       "      <th class=\"blank col3\" >&nbsp;</th>\n",
       "    </tr>\n",
       "  </thead>\n",
       "  <tbody>\n",
       "    <tr>\n",
       "      <th id=\"T_a9989_level0_row0\" class=\"row_heading level0 row0\" >0</th>\n",
       "      <td id=\"T_a9989_row0_col0\" class=\"data row0 col0\" >0.80</td>\n",
       "      <td id=\"T_a9989_row0_col1\" class=\"data row0 col1\" >0.71</td>\n",
       "      <td id=\"T_a9989_row0_col2\" class=\"data row0 col2\" >0.66</td>\n",
       "      <td id=\"T_a9989_row0_col3\" class=\"data row0 col3\" >0.77</td>\n",
       "    </tr>\n",
       "    <tr>\n",
       "      <th id=\"T_a9989_level0_row1\" class=\"row_heading level0 row1\" >1</th>\n",
       "      <td id=\"T_a9989_row1_col0\" class=\"data row1 col0\" >0.20</td>\n",
       "      <td id=\"T_a9989_row1_col1\" class=\"data row1 col1\" >0.29</td>\n",
       "      <td id=\"T_a9989_row1_col2\" class=\"data row1 col2\" >0.34</td>\n",
       "      <td id=\"T_a9989_row1_col3\" class=\"data row1 col3\" >0.23</td>\n",
       "    </tr>\n",
       "  </tbody>\n",
       "</table>\n",
       "   "
      ],
      "text/plain": [
       "<IPython.core.display.HTML object>"
      ]
     },
     "metadata": {},
     "output_type": "display_data"
    },
    {
     "name": "stdout",
     "output_type": "stream",
     "text": [
      "\n",
      "\n"
     ]
    }
   ],
   "source": [
    "x1 = pd.crosstab(working_df['kssd'], working_df['nap_number'], rownames=['Sleepiness'], \n",
    "                 colnames=['nap_number'], margins=True, normalize='columns')\n",
    "\n",
    "x2 = pd.crosstab(working_df['spsd'], working_df['nap_number'], rownames=['Fatigue'], \n",
    "                 colnames=['nap_number'], margins=True, normalize='columns')\n",
    "\n",
    "print(''); print('')\n",
    "display_side_by_side( [x1,x2], ['(a) # Naps During Workload - Excessive Sleepiness', '(b) # Naps During Workload - Severe Fatigue'] )\n",
    "print(''); print('')"
   ]
  },
  {
   "cell_type": "markdown",
   "id": "4e8a6921-8274-4d8c-bf75-8b0db84082ea",
   "metadata": {},
   "source": [
    "* The relative frequency for excessive sleepiness for pilots who took at least 1 nap is greater than for whom didn't take. This can indicate that as drowsy is the pilot during its workload or duty period more prone is he/she to take a nap.\n",
    "\n",
    "* For severe fatigue, we found a pattern of raise in relative frequencies as the number of naps raise, this indicates that as fatigated is the pilot during its workload or duty period more prone is he/she to take a nap.\n",
    "\n",
    "* **To study the effectiveness of naps during workloads, we need to observe the kss and sps before and after the nap**"
   ]
  },
  {
   "cell_type": "markdown",
   "id": "c26c64a3-d154-4375-af13-7336e3a43822",
   "metadata": {},
   "source": [
    "# 5. Sociodemographic Variables"
   ]
  },
  {
   "cell_type": "code",
   "execution_count": 17,
   "id": "163e9399-27f7-4a83-937a-7ae7673ce1f3",
   "metadata": {},
   "outputs": [
    {
     "data": {
      "text/html": [
       "<div>\n",
       "<style scoped>\n",
       "    .dataframe tbody tr th:only-of-type {\n",
       "        vertical-align: middle;\n",
       "    }\n",
       "\n",
       "    .dataframe tbody tr th {\n",
       "        vertical-align: top;\n",
       "    }\n",
       "\n",
       "    .dataframe thead th {\n",
       "        text-align: right;\n",
       "    }\n",
       "</style>\n",
       "<table border=\"1\" class=\"dataframe\">\n",
       "  <thead>\n",
       "    <tr style=\"text-align: right;\">\n",
       "      <th></th>\n",
       "      <th>Id</th>\n",
       "      <th>Sex</th>\n",
       "      <th>Position</th>\n",
       "      <th>Num_Sons</th>\n",
       "      <th>Education</th>\n",
       "      <th>Marital_status</th>\n",
       "      <th>Time_displacement</th>\n",
       "      <th>Flight_hours</th>\n",
       "      <th>Age</th>\n",
       "    </tr>\n",
       "  </thead>\n",
       "  <tbody>\n",
       "    <tr>\n",
       "      <th>0</th>\n",
       "      <td>P01</td>\n",
       "      <td>MALE</td>\n",
       "      <td>CMTE</td>\n",
       "      <td>2</td>\n",
       "      <td>PHD</td>\n",
       "      <td>MARRIED</td>\n",
       "      <td>1.00</td>\n",
       "      <td>17.0</td>\n",
       "      <td>49</td>\n",
       "    </tr>\n",
       "    <tr>\n",
       "      <th>43</th>\n",
       "      <td>P02</td>\n",
       "      <td>MALE</td>\n",
       "      <td>CMTE</td>\n",
       "      <td>2</td>\n",
       "      <td>ESPEC</td>\n",
       "      <td>MARRIED</td>\n",
       "      <td>0.33</td>\n",
       "      <td>17.0</td>\n",
       "      <td>57</td>\n",
       "    </tr>\n",
       "    <tr>\n",
       "      <th>78</th>\n",
       "      <td>P03</td>\n",
       "      <td>MALE</td>\n",
       "      <td>CMTE</td>\n",
       "      <td>1</td>\n",
       "      <td>ESPEC</td>\n",
       "      <td>NON_STABLE</td>\n",
       "      <td>7.00</td>\n",
       "      <td>8.0</td>\n",
       "      <td>42</td>\n",
       "    </tr>\n",
       "    <tr>\n",
       "      <th>114</th>\n",
       "      <td>P04</td>\n",
       "      <td>MALE</td>\n",
       "      <td>CMTE</td>\n",
       "      <td>0</td>\n",
       "      <td>ESPEC</td>\n",
       "      <td>MARRIED</td>\n",
       "      <td>0.33</td>\n",
       "      <td>5.2</td>\n",
       "      <td>34</td>\n",
       "    </tr>\n",
       "    <tr>\n",
       "      <th>124</th>\n",
       "      <td>P05</td>\n",
       "      <td>MALE</td>\n",
       "      <td>COPIL</td>\n",
       "      <td>0</td>\n",
       "      <td>UNIV_INC</td>\n",
       "      <td>DIVORCED</td>\n",
       "      <td>0.50</td>\n",
       "      <td>11.0</td>\n",
       "      <td>41</td>\n",
       "    </tr>\n",
       "  </tbody>\n",
       "</table>\n",
       "</div>"
      ],
      "text/plain": [
       "      Id   Sex Position  Num_Sons Education Marital_status  Time_displacement  \\\n",
       "0    P01  MALE     CMTE         2       PHD        MARRIED               1.00   \n",
       "43   P02  MALE     CMTE         2     ESPEC        MARRIED               0.33   \n",
       "78   P03  MALE     CMTE         1     ESPEC     NON_STABLE               7.00   \n",
       "114  P04  MALE     CMTE         0     ESPEC        MARRIED               0.33   \n",
       "124  P05  MALE    COPIL         0  UNIV_INC       DIVORCED               0.50   \n",
       "\n",
       "     Flight_hours  Age  \n",
       "0            17.0   49  \n",
       "43           17.0   57  \n",
       "78            8.0   42  \n",
       "114           5.2   34  \n",
       "124          11.0   41  "
      ]
     },
     "execution_count": 17,
     "metadata": {},
     "output_type": "execute_result"
    }
   ],
   "source": [
    "temp = working_df[['Id','Sex','Position','Num_Sons','Education','Marital_status','Time_displacement', 'Flight_hours', 'Age']].copy().drop_duplicates()\n",
    "temp['Flight_hours'] = temp['Flight_hours']/1000             # each 1k hour\n",
    "temp['Time_displacement'] = temp['Time_displacement']/60     # each 1 hour\n",
    "temp.head(5).round(2)"
   ]
  },
  {
   "cell_type": "markdown",
   "id": "e70d4fda-e23e-44d4-a0ad-97e47524df87",
   "metadata": {},
   "source": [
    "## 5.1. Continuous variables"
   ]
  },
  {
   "cell_type": "code",
   "execution_count": 18,
   "id": "c117f448-fd72-4e0b-a586-d2958a978df0",
   "metadata": {},
   "outputs": [
    {
     "data": {
      "text/html": [
       "<div>\n",
       "<style scoped>\n",
       "    .dataframe tbody tr th:only-of-type {\n",
       "        vertical-align: middle;\n",
       "    }\n",
       "\n",
       "    .dataframe tbody tr th {\n",
       "        vertical-align: top;\n",
       "    }\n",
       "\n",
       "    .dataframe thead th {\n",
       "        text-align: right;\n",
       "    }\n",
       "</style>\n",
       "<table border=\"1\" class=\"dataframe\">\n",
       "  <thead>\n",
       "    <tr style=\"text-align: right;\">\n",
       "      <th></th>\n",
       "      <th>Time_displacement</th>\n",
       "      <th>Flight_hours</th>\n",
       "      <th>Age</th>\n",
       "    </tr>\n",
       "  </thead>\n",
       "  <tbody>\n",
       "    <tr>\n",
       "      <th>count</th>\n",
       "      <td>48.00</td>\n",
       "      <td>47.00</td>\n",
       "      <td>48.00</td>\n",
       "    </tr>\n",
       "    <tr>\n",
       "      <th>mean</th>\n",
       "      <td>1.96</td>\n",
       "      <td>8.08</td>\n",
       "      <td>40.56</td>\n",
       "    </tr>\n",
       "    <tr>\n",
       "      <th>std</th>\n",
       "      <td>1.78</td>\n",
       "      <td>5.89</td>\n",
       "      <td>10.21</td>\n",
       "    </tr>\n",
       "    <tr>\n",
       "      <th>min</th>\n",
       "      <td>0.17</td>\n",
       "      <td>1.50</td>\n",
       "      <td>25.00</td>\n",
       "    </tr>\n",
       "    <tr>\n",
       "      <th>25%</th>\n",
       "      <td>0.50</td>\n",
       "      <td>3.50</td>\n",
       "      <td>32.00</td>\n",
       "    </tr>\n",
       "    <tr>\n",
       "      <th>50%</th>\n",
       "      <td>1.04</td>\n",
       "      <td>6.50</td>\n",
       "      <td>39.50</td>\n",
       "    </tr>\n",
       "    <tr>\n",
       "      <th>75%</th>\n",
       "      <td>3.50</td>\n",
       "      <td>11.50</td>\n",
       "      <td>48.25</td>\n",
       "    </tr>\n",
       "    <tr>\n",
       "      <th>max</th>\n",
       "      <td>7.00</td>\n",
       "      <td>29.00</td>\n",
       "      <td>66.00</td>\n",
       "    </tr>\n",
       "  </tbody>\n",
       "</table>\n",
       "</div>"
      ],
      "text/plain": [
       "       Time_displacement  Flight_hours    Age\n",
       "count              48.00         47.00  48.00\n",
       "mean                1.96          8.08  40.56\n",
       "std                 1.78          5.89  10.21\n",
       "min                 0.17          1.50  25.00\n",
       "25%                 0.50          3.50  32.00\n",
       "50%                 1.04          6.50  39.50\n",
       "75%                 3.50         11.50  48.25\n",
       "max                 7.00         29.00  66.00"
      ]
     },
     "execution_count": 18,
     "metadata": {},
     "output_type": "execute_result"
    }
   ],
   "source": [
    "temp[['Time_displacement', 'Flight_hours', 'Age']].describe().round(2)"
   ]
  },
  {
   "cell_type": "markdown",
   "id": "0f624c75-dffd-40ba-99a6-3cb79b1822dd",
   "metadata": {},
   "source": [
    "* Resume measurements for flight hours and time displacement is shown above. As we can see both the variables are assimetric toward low values, presenting the median less than the mean, with the median of about 6.5k and 1 hours respectively."
   ]
  },
  {
   "cell_type": "markdown",
   "id": "837e986b-75df-447f-b2e6-6ef4bfadad60",
   "metadata": {},
   "source": [
    "## 5.2. Categorical features"
   ]
  },
  {
   "cell_type": "code",
   "execution_count": 19,
   "id": "9e448471-a6e7-43cd-aa83-7ffb40dba646",
   "metadata": {},
   "outputs": [
    {
     "name": "stdout",
     "output_type": "stream",
     "text": [
      "\n",
      "\n"
     ]
    },
    {
     "data": {
      "text/html": [
       "<style type=\"text/css\">\n",
       "</style>\n",
       "<table id=\"T_16a74_\" style='display:inline'>\n",
       "  <caption>(a)</caption>\n",
       "  <thead>\n",
       "    <tr>\n",
       "      <th class=\"blank level0\" >&nbsp;</th>\n",
       "      <th class=\"col_heading level0 col0\" >Sex</th>\n",
       "    </tr>\n",
       "  </thead>\n",
       "  <tbody>\n",
       "    <tr>\n",
       "      <th id=\"T_16a74_level0_row0\" class=\"row_heading level0 row0\" >MALE</th>\n",
       "      <td id=\"T_16a74_row0_col0\" class=\"data row0 col0\" >41</td>\n",
       "    </tr>\n",
       "    <tr>\n",
       "      <th id=\"T_16a74_level0_row1\" class=\"row_heading level0 row1\" >FEMALE</th>\n",
       "      <td id=\"T_16a74_row1_col0\" class=\"data row1 col0\" >7</td>\n",
       "    </tr>\n",
       "  </tbody>\n",
       "</table>\n",
       "   <style type=\"text/css\">\n",
       "</style>\n",
       "<table id=\"T_2cf1b_\" style='display:inline'>\n",
       "  <caption>(b)</caption>\n",
       "  <thead>\n",
       "    <tr>\n",
       "      <th class=\"blank level0\" >&nbsp;</th>\n",
       "      <th class=\"col_heading level0 col0\" >Position</th>\n",
       "    </tr>\n",
       "  </thead>\n",
       "  <tbody>\n",
       "    <tr>\n",
       "      <th id=\"T_2cf1b_level0_row0\" class=\"row_heading level0 row0\" >CMTE</th>\n",
       "      <td id=\"T_2cf1b_row0_col0\" class=\"data row0 col0\" >25</td>\n",
       "    </tr>\n",
       "    <tr>\n",
       "      <th id=\"T_2cf1b_level0_row1\" class=\"row_heading level0 row1\" >COPIL</th>\n",
       "      <td id=\"T_2cf1b_row1_col0\" class=\"data row1 col0\" >23</td>\n",
       "    </tr>\n",
       "  </tbody>\n",
       "</table>\n",
       "   <style type=\"text/css\">\n",
       "</style>\n",
       "<table id=\"T_1e868_\" style='display:inline'>\n",
       "  <caption>(c)</caption>\n",
       "  <thead>\n",
       "    <tr>\n",
       "      <th class=\"blank level0\" >&nbsp;</th>\n",
       "      <th class=\"col_heading level0 col0\" >Education</th>\n",
       "    </tr>\n",
       "  </thead>\n",
       "  <tbody>\n",
       "    <tr>\n",
       "      <th id=\"T_1e868_level0_row0\" class=\"row_heading level0 row0\" >UNIV_COMP</th>\n",
       "      <td id=\"T_1e868_row0_col0\" class=\"data row0 col0\" >21</td>\n",
       "    </tr>\n",
       "    <tr>\n",
       "      <th id=\"T_1e868_level0_row1\" class=\"row_heading level0 row1\" >ESPEC</th>\n",
       "      <td id=\"T_1e868_row1_col0\" class=\"data row1 col0\" >16</td>\n",
       "    </tr>\n",
       "    <tr>\n",
       "      <th id=\"T_1e868_level0_row2\" class=\"row_heading level0 row2\" >UNIV_INC</th>\n",
       "      <td id=\"T_1e868_row2_col0\" class=\"data row2 col0\" >6</td>\n",
       "    </tr>\n",
       "    <tr>\n",
       "      <th id=\"T_1e868_level0_row3\" class=\"row_heading level0 row3\" >ENS_MED_COMP</th>\n",
       "      <td id=\"T_1e868_row3_col0\" class=\"data row3 col0\" >3</td>\n",
       "    </tr>\n",
       "    <tr>\n",
       "      <th id=\"T_1e868_level0_row4\" class=\"row_heading level0 row4\" >PHD</th>\n",
       "      <td id=\"T_1e868_row4_col0\" class=\"data row4 col0\" >1</td>\n",
       "    </tr>\n",
       "    <tr>\n",
       "      <th id=\"T_1e868_level0_row5\" class=\"row_heading level0 row5\" >ME</th>\n",
       "      <td id=\"T_1e868_row5_col0\" class=\"data row5 col0\" >1</td>\n",
       "    </tr>\n",
       "  </tbody>\n",
       "</table>\n",
       "   <style type=\"text/css\">\n",
       "</style>\n",
       "<table id=\"T_11900_\" style='display:inline'>\n",
       "  <caption>(d)</caption>\n",
       "  <thead>\n",
       "    <tr>\n",
       "      <th class=\"blank level0\" >&nbsp;</th>\n",
       "      <th class=\"col_heading level0 col0\" >Marital_status</th>\n",
       "    </tr>\n",
       "  </thead>\n",
       "  <tbody>\n",
       "    <tr>\n",
       "      <th id=\"T_11900_level0_row0\" class=\"row_heading level0 row0\" >MARRIED</th>\n",
       "      <td id=\"T_11900_row0_col0\" class=\"data row0 col0\" >24</td>\n",
       "    </tr>\n",
       "    <tr>\n",
       "      <th id=\"T_11900_level0_row1\" class=\"row_heading level0 row1\" >SINGLE</th>\n",
       "      <td id=\"T_11900_row1_col0\" class=\"data row1 col0\" >10</td>\n",
       "    </tr>\n",
       "    <tr>\n",
       "      <th id=\"T_11900_level0_row2\" class=\"row_heading level0 row2\" >NON_STABLE</th>\n",
       "      <td id=\"T_11900_row2_col0\" class=\"data row2 col0\" >5</td>\n",
       "    </tr>\n",
       "    <tr>\n",
       "      <th id=\"T_11900_level0_row3\" class=\"row_heading level0 row3\" >STABLE_UNION</th>\n",
       "      <td id=\"T_11900_row3_col0\" class=\"data row3 col0\" >5</td>\n",
       "    </tr>\n",
       "    <tr>\n",
       "      <th id=\"T_11900_level0_row4\" class=\"row_heading level0 row4\" >DIVORCED</th>\n",
       "      <td id=\"T_11900_row4_col0\" class=\"data row4 col0\" >4</td>\n",
       "    </tr>\n",
       "  </tbody>\n",
       "</table>\n",
       "   <style type=\"text/css\">\n",
       "</style>\n",
       "<table id=\"T_ee778_\" style='display:inline'>\n",
       "  <caption>(e)</caption>\n",
       "  <thead>\n",
       "    <tr>\n",
       "      <th class=\"blank level0\" >&nbsp;</th>\n",
       "      <th class=\"col_heading level0 col0\" >Num_Sons</th>\n",
       "    </tr>\n",
       "  </thead>\n",
       "  <tbody>\n",
       "    <tr>\n",
       "      <th id=\"T_ee778_level0_row0\" class=\"row_heading level0 row0\" >0</th>\n",
       "      <td id=\"T_ee778_row0_col0\" class=\"data row0 col0\" >21</td>\n",
       "    </tr>\n",
       "    <tr>\n",
       "      <th id=\"T_ee778_level0_row1\" class=\"row_heading level0 row1\" >2</th>\n",
       "      <td id=\"T_ee778_row1_col0\" class=\"data row1 col0\" >18</td>\n",
       "    </tr>\n",
       "    <tr>\n",
       "      <th id=\"T_ee778_level0_row2\" class=\"row_heading level0 row2\" >1</th>\n",
       "      <td id=\"T_ee778_row2_col0\" class=\"data row2 col0\" >9</td>\n",
       "    </tr>\n",
       "  </tbody>\n",
       "</table>\n",
       "   "
      ],
      "text/plain": [
       "<IPython.core.display.HTML object>"
      ]
     },
     "metadata": {},
     "output_type": "display_data"
    },
    {
     "name": "stdout",
     "output_type": "stream",
     "text": [
      "\n",
      "\n"
     ]
    }
   ],
   "source": [
    "x1 = temp['Sex'].value_counts().to_frame()\n",
    "x2 = temp['Position'].value_counts().to_frame()\n",
    "x3 = temp['Education'].value_counts().to_frame()\n",
    "x4 = temp['Marital_status'].value_counts().to_frame()\n",
    "x5 = temp['Num_Sons'].astype(str).value_counts().to_frame()\n",
    "\n",
    "print(''); print('')\n",
    "display_side_by_side( [x1,x2,x3,x4,x5], ['(a)', '(b)', '(c)', '(d)', '(e)'] )\n",
    "print(''); print('')"
   ]
  },
  {
   "cell_type": "markdown",
   "id": "00aec303-cfe3-483b-b477-d5171aaf343e",
   "metadata": {},
   "source": [
    "A summary for categorical sociodemographic variables is shown above. Some variables can be recategorized, such as:\n",
    "\n",
    "* Education into High (higher education) and N_High (non-higher education),so categories such as UNIV_COMP, ESPEC, PHD and ME categorized into High and ENS_MED_COMP, UNIV_INC into N_High.\n",
    "\n",
    "* Marital Status in to Married and single, where MARRIED, STABLE_UNION into Married and SINGLE, NON_STABLE and DIVORCED into Single."
   ]
  },
  {
   "cell_type": "markdown",
   "id": "15ba2ca0-385e-4807-a683-a1712926072e",
   "metadata": {},
   "source": [
    "## 5.3. Description of an Average Participant"
   ]
  },
  {
   "cell_type": "markdown",
   "id": "dce98387-d8ad-4ecc-b680-58b2b2ed0f45",
   "metadata": {},
   "source": [
    "The sample is composed of 48 participants, where 41 are males and 7 females, 25 commanders and 23 co-pilots. Their mean age are around 40 years old and they have around 6500 hours of flight, 39 of them have higher education and 29 of them are married or in stable unions. 27 of them have at least one children and the average time from home to work is 6:30 hours. "
   ]
  },
  {
   "cell_type": "markdown",
   "id": "1058846c-d80c-4125-b632-f17664b0677f",
   "metadata": {},
   "source": [
    "# 6. Other Variables"
   ]
  },
  {
   "cell_type": "code",
   "execution_count": 20,
   "id": "5d979f2b-992f-40f0-a8d0-eb45e31deb56",
   "metadata": {},
   "outputs": [
    {
     "data": {
      "text/html": [
       "<div>\n",
       "<style scoped>\n",
       "    .dataframe tbody tr th:only-of-type {\n",
       "        vertical-align: middle;\n",
       "    }\n",
       "\n",
       "    .dataframe tbody tr th {\n",
       "        vertical-align: top;\n",
       "    }\n",
       "\n",
       "    .dataframe thead th {\n",
       "        text-align: right;\n",
       "    }\n",
       "</style>\n",
       "<table border=\"1\" class=\"dataframe\">\n",
       "  <thead>\n",
       "    <tr style=\"text-align: right;\">\n",
       "      <th></th>\n",
       "      <th>Id</th>\n",
       "      <th>Classification</th>\n",
       "      <th>Disturbed_sleep</th>\n",
       "      <th>Awakening</th>\n",
       "      <th>Sleep_Fatig</th>\n",
       "    </tr>\n",
       "  </thead>\n",
       "  <tbody>\n",
       "    <tr>\n",
       "      <th>0</th>\n",
       "      <td>P01</td>\n",
       "      <td>INT</td>\n",
       "      <td>13</td>\n",
       "      <td>9</td>\n",
       "      <td>14</td>\n",
       "    </tr>\n",
       "    <tr>\n",
       "      <th>43</th>\n",
       "      <td>P02</td>\n",
       "      <td>INT</td>\n",
       "      <td>6</td>\n",
       "      <td>3</td>\n",
       "      <td>25</td>\n",
       "    </tr>\n",
       "    <tr>\n",
       "      <th>78</th>\n",
       "      <td>P03</td>\n",
       "      <td>MAT</td>\n",
       "      <td>11</td>\n",
       "      <td>7</td>\n",
       "      <td>10</td>\n",
       "    </tr>\n",
       "    <tr>\n",
       "      <th>114</th>\n",
       "      <td>P04</td>\n",
       "      <td>INT</td>\n",
       "      <td>11</td>\n",
       "      <td>9</td>\n",
       "      <td>12</td>\n",
       "    </tr>\n",
       "    <tr>\n",
       "      <th>124</th>\n",
       "      <td>P05</td>\n",
       "      <td>VES</td>\n",
       "      <td>18</td>\n",
       "      <td>11</td>\n",
       "      <td>18</td>\n",
       "    </tr>\n",
       "  </tbody>\n",
       "</table>\n",
       "</div>"
      ],
      "text/plain": [
       "      Id Classification  Disturbed_sleep  Awakening  Sleep_Fatig\n",
       "0    P01            INT               13          9           14\n",
       "43   P02            INT                6          3           25\n",
       "78   P03            MAT               11          7           10\n",
       "114  P04            INT               11          9           12\n",
       "124  P05            VES               18         11           18"
      ]
     },
     "execution_count": 20,
     "metadata": {},
     "output_type": "execute_result"
    }
   ],
   "source": [
    "temp = working_df[['Id','Classification','Disturbed_sleep','Awakening','Sleep_Fatig']].copy().drop_duplicates()\n",
    "temp.head(5)"
   ]
  },
  {
   "cell_type": "markdown",
   "id": "c0158459-d223-4b3f-8d2b-ca5582857c0e",
   "metadata": {},
   "source": [
    "## 6.1. Chronotype"
   ]
  },
  {
   "cell_type": "code",
   "execution_count": 21,
   "id": "c33e3b5d-d935-404c-8895-7ad5681a509e",
   "metadata": {},
   "outputs": [
    {
     "data": {
      "text/html": [
       "<div>\n",
       "<style scoped>\n",
       "    .dataframe tbody tr th:only-of-type {\n",
       "        vertical-align: middle;\n",
       "    }\n",
       "\n",
       "    .dataframe tbody tr th {\n",
       "        vertical-align: top;\n",
       "    }\n",
       "\n",
       "    .dataframe thead th {\n",
       "        text-align: right;\n",
       "    }\n",
       "</style>\n",
       "<table border=\"1\" class=\"dataframe\">\n",
       "  <thead>\n",
       "    <tr style=\"text-align: right;\">\n",
       "      <th></th>\n",
       "      <th>Classification</th>\n",
       "    </tr>\n",
       "  </thead>\n",
       "  <tbody>\n",
       "    <tr>\n",
       "      <th>INT</th>\n",
       "      <td>24</td>\n",
       "    </tr>\n",
       "    <tr>\n",
       "      <th>MAT</th>\n",
       "      <td>16</td>\n",
       "    </tr>\n",
       "    <tr>\n",
       "      <th>VES</th>\n",
       "      <td>8</td>\n",
       "    </tr>\n",
       "  </tbody>\n",
       "</table>\n",
       "</div>"
      ],
      "text/plain": [
       "     Classification\n",
       "INT              24\n",
       "MAT              16\n",
       "VES               8"
      ]
     },
     "execution_count": 21,
     "metadata": {},
     "output_type": "execute_result"
    }
   ],
   "source": [
    "temp['Classification'].value_counts().to_frame()"
   ]
  },
  {
   "cell_type": "markdown",
   "id": "1bb85f38-8807-45cd-9c46-f2cfa366f9b4",
   "metadata": {},
   "source": [
    "Above the participants chronotype table is shown. As we can see, most of participants are chronotype Intermediary, in other words, this means that most of the participants are more prone to work or have better cognitive performance during afternoon period."
   ]
  },
  {
   "cell_type": "markdown",
   "id": "4addb6bd-d259-4092-b61c-6769c0864570",
   "metadata": {},
   "source": [
    "## 6.2. Karolinska 6 months Questionnaire"
   ]
  },
  {
   "cell_type": "code",
   "execution_count": 22,
   "id": "a60cf3de-d0df-4ca6-9363-d9fb77c6e27d",
   "metadata": {},
   "outputs": [
    {
     "data": {
      "text/html": [
       "<div>\n",
       "<style scoped>\n",
       "    .dataframe tbody tr th:only-of-type {\n",
       "        vertical-align: middle;\n",
       "    }\n",
       "\n",
       "    .dataframe tbody tr th {\n",
       "        vertical-align: top;\n",
       "    }\n",
       "\n",
       "    .dataframe thead th {\n",
       "        text-align: right;\n",
       "    }\n",
       "</style>\n",
       "<table border=\"1\" class=\"dataframe\">\n",
       "  <thead>\n",
       "    <tr style=\"text-align: right;\">\n",
       "      <th></th>\n",
       "      <th>Disturbed_sleep</th>\n",
       "      <th>Awakening</th>\n",
       "      <th>Sleep_Fatig</th>\n",
       "    </tr>\n",
       "  </thead>\n",
       "  <tbody>\n",
       "    <tr>\n",
       "      <th>count</th>\n",
       "      <td>48.00</td>\n",
       "      <td>48.00</td>\n",
       "      <td>48.00</td>\n",
       "    </tr>\n",
       "    <tr>\n",
       "      <th>mean</th>\n",
       "      <td>11.15</td>\n",
       "      <td>8.31</td>\n",
       "      <td>15.77</td>\n",
       "    </tr>\n",
       "    <tr>\n",
       "      <th>std</th>\n",
       "      <td>3.07</td>\n",
       "      <td>2.20</td>\n",
       "      <td>3.42</td>\n",
       "    </tr>\n",
       "    <tr>\n",
       "      <th>min</th>\n",
       "      <td>4.00</td>\n",
       "      <td>3.00</td>\n",
       "      <td>8.00</td>\n",
       "    </tr>\n",
       "    <tr>\n",
       "      <th>25%</th>\n",
       "      <td>9.00</td>\n",
       "      <td>7.00</td>\n",
       "      <td>14.00</td>\n",
       "    </tr>\n",
       "    <tr>\n",
       "      <th>50%</th>\n",
       "      <td>11.00</td>\n",
       "      <td>8.00</td>\n",
       "      <td>15.50</td>\n",
       "    </tr>\n",
       "    <tr>\n",
       "      <th>75%</th>\n",
       "      <td>13.25</td>\n",
       "      <td>10.00</td>\n",
       "      <td>18.00</td>\n",
       "    </tr>\n",
       "    <tr>\n",
       "      <th>max</th>\n",
       "      <td>18.00</td>\n",
       "      <td>13.00</td>\n",
       "      <td>25.00</td>\n",
       "    </tr>\n",
       "  </tbody>\n",
       "</table>\n",
       "</div>"
      ],
      "text/plain": [
       "       Disturbed_sleep  Awakening  Sleep_Fatig\n",
       "count            48.00      48.00        48.00\n",
       "mean             11.15       8.31        15.77\n",
       "std               3.07       2.20         3.42\n",
       "min               4.00       3.00         8.00\n",
       "25%               9.00       7.00        14.00\n",
       "50%              11.00       8.00        15.50\n",
       "75%              13.25      10.00        18.00\n",
       "max              18.00      13.00        25.00"
      ]
     },
     "execution_count": 22,
     "metadata": {},
     "output_type": "execute_result"
    }
   ],
   "source": [
    "temp[['Disturbed_sleep','Awakening','Sleep_Fatig']].describe().round(2)"
   ]
  },
  {
   "cell_type": "markdown",
   "id": "cbe19524-faff-4e0d-8292-b33ca3db18ce",
   "metadata": {},
   "source": [
    "Above the result from KSQ questionnaire is shown, measuring the perceived quality of sleep in previous 6 months, as greater, bad is the qualities assigned. Both mean and median are near each other for all the quantities, meaning an approximate simetrical behaviour in terms of distribution. The average values for disturbed sleep, Awakenings and Sleep-Faigue are 11.15, 8.31, 15.77, respectively, either with low standard deviation."
   ]
  },
  {
   "cell_type": "code",
   "execution_count": 23,
   "id": "dbe37ea5-0bb1-4a4e-b4c2-6c5b680b23c8",
   "metadata": {},
   "outputs": [
    {
     "data": {
      "text/html": [
       "<div>\n",
       "<style scoped>\n",
       "    .dataframe tbody tr th:only-of-type {\n",
       "        vertical-align: middle;\n",
       "    }\n",
       "\n",
       "    .dataframe tbody tr th {\n",
       "        vertical-align: top;\n",
       "    }\n",
       "\n",
       "    .dataframe thead th {\n",
       "        text-align: right;\n",
       "    }\n",
       "</style>\n",
       "<table border=\"1\" class=\"dataframe\">\n",
       "  <thead>\n",
       "    <tr style=\"text-align: right;\">\n",
       "      <th></th>\n",
       "      <th>Disturbed_sleep</th>\n",
       "      <th>Awakening</th>\n",
       "      <th>Sleep_Fatig</th>\n",
       "    </tr>\n",
       "  </thead>\n",
       "  <tbody>\n",
       "    <tr>\n",
       "      <th>Disturbed_sleep</th>\n",
       "      <td>1.00</td>\n",
       "      <td>0.79</td>\n",
       "      <td>0.35</td>\n",
       "    </tr>\n",
       "    <tr>\n",
       "      <th>Awakening</th>\n",
       "      <td>0.79</td>\n",
       "      <td>1.00</td>\n",
       "      <td>0.37</td>\n",
       "    </tr>\n",
       "    <tr>\n",
       "      <th>Sleep_Fatig</th>\n",
       "      <td>0.35</td>\n",
       "      <td>0.37</td>\n",
       "      <td>1.00</td>\n",
       "    </tr>\n",
       "  </tbody>\n",
       "</table>\n",
       "</div>"
      ],
      "text/plain": [
       "                 Disturbed_sleep  Awakening  Sleep_Fatig\n",
       "Disturbed_sleep             1.00       0.79         0.35\n",
       "Awakening                   0.79       1.00         0.37\n",
       "Sleep_Fatig                 0.35       0.37         1.00"
      ]
     },
     "execution_count": 23,
     "metadata": {},
     "output_type": "execute_result"
    }
   ],
   "source": [
    "temp[['Disturbed_sleep','Awakening','Sleep_Fatig']].corr().round(2)"
   ]
  },
  {
   "cell_type": "markdown",
   "id": "fd27d740-9961-4d45-ab96-320e5d3fb29a",
   "metadata": {},
   "source": [
    "Pearson correlation analysis among these set of variables is shown above. We can see that Disturbed sleep and Awakening are strongly correlated and sleep fatig are weakly correlated with the other two variables. So, thinking in terms of regression anlysis, we can not use the two variables together without any treatment or combination."
   ]
  },
  {
   "cell_type": "markdown",
   "id": "e3453831-5b4f-4202-b694-43ca1c26293e",
   "metadata": {},
   "source": [
    "# 7. Conclusions "
   ]
  },
  {
   "cell_type": "markdown",
   "id": "ace40a7b-6193-4e64-a0a6-a67a7723cae8",
   "metadata": {},
   "source": [
    "## 7.1. Social and Professional Profiles"
   ]
  },
  {
   "cell_type": "markdown",
   "id": "87c25406-c961-4392-86f0-2e1e71422643",
   "metadata": {},
   "source": [
    "From Feature_Engineering.ipynb, we obtained a set of 25 variables extracted from google formularies applied in a sample of 48 civil aviation professionals for a given enterprise.\n",
    "\n",
    "The participants of the study have the following profile:\n",
    "\n",
    "* The avreage age is 40 years old;\n",
    "* divided into 41 men and 7 women;\n",
    "* 25 commanders and 24 co-pilots;\n",
    "* 39 of them have higher education levels;\n",
    "* 29 are married and 27 have at least one children;\n",
    "* They have in mean 16.5 thousand hours of flight;\n",
    "* and they take in average 1 hour from home to work;\n",
    "* Most of them (24) are chronotype intermediaty, i.e. have better performance at work during afternoons (16 matutins and 8 vespertins)."
   ]
  },
  {
   "cell_type": "markdown",
   "id": "ce935c53-e42b-484c-ae2d-0a078d237249",
   "metadata": {},
   "source": [
    "## 7.2. Workloads"
   ]
  },
  {
   "cell_type": "markdown",
   "id": "1f48d34e-44ec-4468-aecf-6c9aaab731ac",
   "metadata": {},
   "source": [
    "During the period of study, the participants filled the kss and sps irregularly, i.e., some participants filled every each workload, and others just in some workloads. A total of 1079 measurements for kss and sps scales were filled, totalizing in 432 workloads. Kss and sps measurements were taken in three moments of each workloads, start, middle and end, participants that filled in start not necessarily filled in the end or in the middle.\n",
    "\n",
    "* End of workloads is associated with severity of fatigue and excessiveness of sleepiness than the middle and start;\n",
    "* The severity/excessiveness of fatigue/sleepiness rises from start to end of workload;\n",
    "* Workloads comprehending Night period are strongly associated with severity/excessiveness of fatigue/sleepiness than early-start or other modalities;\n",
    "* Severity of fatigue is less for Early-Start routines than for other modalities;\n",
    "* Both the severity and excessiveness of fatigue and sleepiness respectivelly are associated with whether the previous routine was Early-Start or Night.\n",
    "* The relative frequency of both severe/excessive fatigue/sleepiness respectively occcurs during the Night period."
   ]
  },
  {
   "cell_type": "markdown",
   "id": "484b551b-1fc2-4982-9924-e8a660b84906",
   "metadata": {},
   "source": [
    "## 7.3. Durations"
   ]
  },
  {
   "cell_type": "markdown",
   "id": "9503fce7-9177-45a0-b795-b1c33d99e333",
   "metadata": {},
   "source": [
    "This kind of measurement were taken only one time along/before the workload, totalizing in 432 measurements, the number of workloads analysed. The main conclusions are:\n",
    "\n",
    "* In average the participants sleep 7 hours before the workload;\n",
    "* and stay in average 2:30 hours awake before the workload;\n",
    "* In average they have a workload period of 7 hours."
   ]
  },
  {
   "cell_type": "markdown",
   "id": "afa66e61-46ff-4105-b530-d60fd2ae2e51",
   "metadata": {},
   "source": [
    "## 7.4. Preparing data to be processed in regression analysis"
   ]
  },
  {
   "cell_type": "markdown",
   "id": "f41470ad-b5f8-41b7-8894-b948d2cba57f",
   "metadata": {},
   "source": [
    "### 7.4.1. Recategorizing sociodemographic variables"
   ]
  },
  {
   "cell_type": "code",
   "execution_count": 30,
   "id": "c4a2a4e3-f7a3-49fc-8e37-1577eb3ddaae",
   "metadata": {},
   "outputs": [],
   "source": [
    "# Education\n",
    "recat = {'UNIV_COMP':'univ', 'ESPEC':'univ', 'UNIV_INC':'non_univ', 'ENS_MED_COMP':'non_univ', 'PHD':'univ', 'ME':'univ'}\n",
    "df['education'] = df['Education'].copy().apply(lambda x: recat[x])\n",
    "\n",
    "# Marital_status\n",
    "recat = {'MARRIED':'married', 'STABLE_UNION':'married', 'SINGLE':'single', 'DIVORCED':'single', 'NON_STABLE':'single'}\n",
    "df['marital_status'] = df['Marital_status'].copy().apply(lambda x: recat[x])"
   ]
  },
  {
   "cell_type": "markdown",
   "id": "50001db5-c8b5-41c0-b961-faf3d828b7e1",
   "metadata": {},
   "source": [
    "### 7.4.2. Selecting variables"
   ]
  },
  {
   "cell_type": "code",
   "execution_count": 76,
   "id": "227eafe3-a217-4a0e-b75a-43fc287cd7b2",
   "metadata": {},
   "outputs": [
    {
     "data": {
      "text/html": [
       "<div>\n",
       "<style scoped>\n",
       "    .dataframe tbody tr th:only-of-type {\n",
       "        vertical-align: middle;\n",
       "    }\n",
       "\n",
       "    .dataframe tbody tr th {\n",
       "        vertical-align: top;\n",
       "    }\n",
       "\n",
       "    .dataframe thead th {\n",
       "        text-align: right;\n",
       "    }\n",
       "</style>\n",
       "<table border=\"1\" class=\"dataframe\">\n",
       "  <thead>\n",
       "    <tr style=\"text-align: right;\">\n",
       "      <th></th>\n",
       "      <th>Id</th>\n",
       "      <th>Record_time_stamp</th>\n",
       "      <th>kss</th>\n",
       "      <th>sps</th>\n",
       "      <th>quest_fill_hour</th>\n",
       "      <th>workload_moment</th>\n",
       "      <th>workload_type</th>\n",
       "      <th>workload_type_prev_es</th>\n",
       "      <th>workload_type_prev_nt</th>\n",
       "      <th>workload_length</th>\n",
       "      <th>...</th>\n",
       "      <th>Flight_hours</th>\n",
       "      <th>education</th>\n",
       "      <th>marital_status</th>\n",
       "      <th>Time_displacement</th>\n",
       "      <th>Age</th>\n",
       "      <th>Disturbed_sleep</th>\n",
       "      <th>Awakening</th>\n",
       "      <th>Sleep_Fatig</th>\n",
       "      <th>Classification</th>\n",
       "      <th>select</th>\n",
       "    </tr>\n",
       "  </thead>\n",
       "  <tbody>\n",
       "    <tr>\n",
       "      <th>0</th>\n",
       "      <td>P01</td>\n",
       "      <td>07/12/2021 12:21</td>\n",
       "      <td>5</td>\n",
       "      <td>4.0</td>\n",
       "      <td>AFT</td>\n",
       "      <td>start</td>\n",
       "      <td>others</td>\n",
       "      <td>0</td>\n",
       "      <td>0</td>\n",
       "      <td>8.883333</td>\n",
       "      <td>...</td>\n",
       "      <td>17000.0</td>\n",
       "      <td>univ</td>\n",
       "      <td>married</td>\n",
       "      <td>60</td>\n",
       "      <td>49</td>\n",
       "      <td>13</td>\n",
       "      <td>9</td>\n",
       "      <td>14</td>\n",
       "      <td>INT</td>\n",
       "      <td>1</td>\n",
       "    </tr>\n",
       "    <tr>\n",
       "      <th>1</th>\n",
       "      <td>P01</td>\n",
       "      <td>07/12/2021 19:57</td>\n",
       "      <td>5</td>\n",
       "      <td>5.0</td>\n",
       "      <td>EVE</td>\n",
       "      <td>middle</td>\n",
       "      <td>others</td>\n",
       "      <td>0</td>\n",
       "      <td>0</td>\n",
       "      <td>8.900000</td>\n",
       "      <td>...</td>\n",
       "      <td>17000.0</td>\n",
       "      <td>univ</td>\n",
       "      <td>married</td>\n",
       "      <td>60</td>\n",
       "      <td>49</td>\n",
       "      <td>13</td>\n",
       "      <td>9</td>\n",
       "      <td>14</td>\n",
       "      <td>INT</td>\n",
       "      <td>1</td>\n",
       "    </tr>\n",
       "    <tr>\n",
       "      <th>2</th>\n",
       "      <td>P01</td>\n",
       "      <td>08/12/2021 00:15</td>\n",
       "      <td>7</td>\n",
       "      <td>6.0</td>\n",
       "      <td>NI</td>\n",
       "      <td>end</td>\n",
       "      <td>others</td>\n",
       "      <td>0</td>\n",
       "      <td>0</td>\n",
       "      <td>8.916667</td>\n",
       "      <td>...</td>\n",
       "      <td>17000.0</td>\n",
       "      <td>univ</td>\n",
       "      <td>married</td>\n",
       "      <td>60</td>\n",
       "      <td>49</td>\n",
       "      <td>13</td>\n",
       "      <td>9</td>\n",
       "      <td>14</td>\n",
       "      <td>INT</td>\n",
       "      <td>1</td>\n",
       "    </tr>\n",
       "    <tr>\n",
       "      <th>3</th>\n",
       "      <td>P01</td>\n",
       "      <td>09/12/2021 05:20</td>\n",
       "      <td>7</td>\n",
       "      <td>5.0</td>\n",
       "      <td>NI</td>\n",
       "      <td>start</td>\n",
       "      <td>early-start</td>\n",
       "      <td>0</td>\n",
       "      <td>0</td>\n",
       "      <td>5.450000</td>\n",
       "      <td>...</td>\n",
       "      <td>17000.0</td>\n",
       "      <td>univ</td>\n",
       "      <td>married</td>\n",
       "      <td>60</td>\n",
       "      <td>49</td>\n",
       "      <td>13</td>\n",
       "      <td>9</td>\n",
       "      <td>14</td>\n",
       "      <td>INT</td>\n",
       "      <td>1</td>\n",
       "    </tr>\n",
       "    <tr>\n",
       "      <th>4</th>\n",
       "      <td>P01</td>\n",
       "      <td>09/12/2021 09:50</td>\n",
       "      <td>4</td>\n",
       "      <td>3.0</td>\n",
       "      <td>MOR</td>\n",
       "      <td>middle</td>\n",
       "      <td>early-start</td>\n",
       "      <td>0</td>\n",
       "      <td>0</td>\n",
       "      <td>5.466667</td>\n",
       "      <td>...</td>\n",
       "      <td>17000.0</td>\n",
       "      <td>univ</td>\n",
       "      <td>married</td>\n",
       "      <td>60</td>\n",
       "      <td>49</td>\n",
       "      <td>13</td>\n",
       "      <td>9</td>\n",
       "      <td>14</td>\n",
       "      <td>INT</td>\n",
       "      <td>1</td>\n",
       "    </tr>\n",
       "  </tbody>\n",
       "</table>\n",
       "<p>5 rows × 25 columns</p>\n",
       "</div>"
      ],
      "text/plain": [
       "    Id Record_time_stamp  kss  sps quest_fill_hour workload_moment  \\\n",
       "0  P01  07/12/2021 12:21    5  4.0             AFT           start   \n",
       "1  P01  07/12/2021 19:57    5  5.0             EVE          middle   \n",
       "2  P01  08/12/2021 00:15    7  6.0              NI             end   \n",
       "3  P01  09/12/2021 05:20    7  5.0              NI           start   \n",
       "4  P01  09/12/2021 09:50    4  3.0             MOR          middle   \n",
       "\n",
       "  workload_type  workload_type_prev_es  workload_type_prev_nt  \\\n",
       "0        others                      0                      0   \n",
       "1        others                      0                      0   \n",
       "2        others                      0                      0   \n",
       "3   early-start                      0                      0   \n",
       "4   early-start                      0                      0   \n",
       "\n",
       "   workload_length  ...  Flight_hours  education marital_status  \\\n",
       "0         8.883333  ...       17000.0       univ        married   \n",
       "1         8.900000  ...       17000.0       univ        married   \n",
       "2         8.916667  ...       17000.0       univ        married   \n",
       "3         5.450000  ...       17000.0       univ        married   \n",
       "4         5.466667  ...       17000.0       univ        married   \n",
       "\n",
       "  Time_displacement  Age  Disturbed_sleep Awakening Sleep_Fatig  \\\n",
       "0                60   49               13         9          14   \n",
       "1                60   49               13         9          14   \n",
       "2                60   49               13         9          14   \n",
       "3                60   49               13         9          14   \n",
       "4                60   49               13         9          14   \n",
       "\n",
       "   Classification  select  \n",
       "0             INT       1  \n",
       "1             INT       1  \n",
       "2             INT       1  \n",
       "3             INT       1  \n",
       "4             INT       1  \n",
       "\n",
       "[5 rows x 25 columns]"
      ]
     },
     "execution_count": 76,
     "metadata": {},
     "output_type": "execute_result"
    }
   ],
   "source": [
    "variables = ['Id','Record_time_stamp','kss','sps','quest_fill_hour', 'workload_moment', 'workload_type', \n",
    "             'workload_type_prev_es','workload_type_prev_nt', 'workload_length', 'sleep_duration', 'time_awake', \n",
    "             'Sex', 'Position', 'Num_Sons', 'Flight_hours', 'education', 'marital_status', 'Time_displacement','Age',\n",
    "             'Disturbed_sleep', 'Awakening', 'Sleep_Fatig','Classification' ]\n",
    "\n",
    "df_out = df[variables].merge(selected, how = 'right', on = 'Id')\n",
    "df_out.head(5)"
   ]
  },
  {
   "cell_type": "code",
   "execution_count": 77,
   "id": "3fa6060e-30ba-408e-aece-f5770f780622",
   "metadata": {},
   "outputs": [
    {
     "name": "stdout",
     "output_type": "stream",
     "text": [
      "---------------------------------------------------------\n",
      "Success! Data recorded in file: data/processed_to_regression.csv\n",
      "---------------------------------------------------------\n"
     ]
    }
   ],
   "source": [
    "ofile = os.path.join('data/processed_to_regression.csv')\n",
    "try:\n",
    "    df_out.to_csv(ofile, index=False)\n",
    "    print('---------------------------------------------------------')\n",
    "    print(f'Success! Data recorded in file: {ofile}')\n",
    "    print('---------------------------------------------------------')\n",
    "except:\n",
    "    print('---------------------------------------------------------')\n",
    "    print(f'Data not recorded in file: {ofile}, verify!')\n",
    "    print('---------------------------------------------------------')"
   ]
  },
  {
   "cell_type": "code",
   "execution_count": null,
   "id": "57b1847f-db88-4d78-9842-e99567a4897f",
   "metadata": {},
   "outputs": [],
   "source": []
  },
  {
   "cell_type": "code",
   "execution_count": null,
   "id": "a51b1135-bbd2-4080-a104-9f0dafc46300",
   "metadata": {},
   "outputs": [],
   "source": []
  },
  {
   "cell_type": "code",
   "execution_count": 25,
   "id": "318d716b-af54-4237-b814-7edac1b7bb45",
   "metadata": {},
   "outputs": [
    {
     "name": "stderr",
     "output_type": "stream",
     "text": [
      "C:\\ProgramData\\Anaconda3\\lib\\site-packages\\statsmodels\\base\\model.py:566: ConvergenceWarning: Maximum Likelihood optimization failed to converge. Check mle_retvals\n",
      "  warnings.warn(\"Maximum Likelihood optimization failed to \"\n",
      "C:\\ProgramData\\Anaconda3\\lib\\site-packages\\statsmodels\\regression\\mixed_linear_model.py:2200: ConvergenceWarning: Retrying MixedLM optimization with lbfgs\n",
      "  warnings.warn(\n"
     ]
    },
    {
     "name": "stdout",
     "output_type": "stream",
     "text": [
      "                               Mixed Linear Model Regression Results\n",
      "====================================================================================================\n",
      "Model:                            MixedLM               Dependent Variable:               kss       \n",
      "No. Observations:                 1079                  Method:                           REML      \n",
      "No. Groups:                       48                    Scale:                            2.4354    \n",
      "Min. group size:                  2                     Log-Likelihood:                   -2072.1140\n",
      "Max. group size:                  39                    Converged:                        Yes       \n",
      "Mean group size:                  22.5                                                              \n",
      "----------------------------------------------------------------------------------------------------\n",
      "                                                         Coef.  Std.Err.    z    P>|z| [0.025 0.975]\n",
      "----------------------------------------------------------------------------------------------------\n",
      "Intercept                                                 4.886    0.170  28.750 0.000  4.552  5.219\n",
      "quest_fill_hour[T.EM]                                     0.772    0.192   4.026 0.000  0.396  1.148\n",
      "quest_fill_hour[T.EVE]                                    0.527    0.143   3.684 0.000  0.247  0.808\n",
      "quest_fill_hour[T.MOR]                                    0.440    0.144   3.050 0.002  0.157  0.724\n",
      "quest_fill_hour[T.NI]                                     1.741    0.153  11.370 0.000  1.441  2.041\n",
      "workload_moment[T.middle]                                -1.252    0.131  -9.537 0.000 -1.510 -0.995\n",
      "workload_moment[T.start]                                 -2.126    0.148 -14.402 0.000 -2.415 -1.837\n",
      "Group Var                                                 0.780    0.165                            \n",
      "Group x workload_moment[T.middle] Cov                    -0.046    0.125                            \n",
      "workload_moment[T.middle] Var                             0.073    0.152                            \n",
      "Group x workload_moment[T.start] Cov                     -0.195    0.120                            \n",
      "workload_moment[T.middle] x workload_moment[T.start] Cov  0.155    0.112                            \n",
      "workload_moment[T.start] Var                              0.342    0.138                            \n",
      "====================================================================================================\n",
      "\n"
     ]
    }
   ],
   "source": [
    "from statsmodels.formula.api import ols\n",
    "from statsmodels.stats.anova import anova_lm\n",
    "from statsmodels.stats.anova import AnovaRM\n",
    "\n",
    "import statsmodels.api as sm\n",
    "import statsmodels.formula.api as smf\n",
    "\n",
    "md = smf.mixedlm(\"kss ~ quest_fill_hour + workload_moment\", working_df, groups=working_df[\"Id\"], re_formula = '~workload_moment')\n",
    "# md = smf.mixedlm(\"kss ~ workload_moment*quest_fill_hour\", working_df, groups=working_df[\"Id\"])\n",
    "mdf = md.fit()\n",
    "print(mdf.summary())"
   ]
  },
  {
   "cell_type": "code",
   "execution_count": 30,
   "id": "82a97e73-6816-476a-b733-fa9d4a38027f",
   "metadata": {},
   "outputs": [
    {
     "name": "stderr",
     "output_type": "stream",
     "text": [
      "C:\\ProgramData\\Anaconda3\\lib\\site-packages\\statsmodels\\base\\model.py:566: ConvergenceWarning: Maximum Likelihood optimization failed to converge. Check mle_retvals\n",
      "  warnings.warn(\"Maximum Likelihood optimization failed to \"\n",
      "C:\\ProgramData\\Anaconda3\\lib\\site-packages\\statsmodels\\regression\\mixed_linear_model.py:2200: ConvergenceWarning: Retrying MixedLM optimization with lbfgs\n",
      "  warnings.warn(\n"
     ]
    },
    {
     "name": "stdout",
     "output_type": "stream",
     "text": [
      "                               Mixed Linear Model Regression Results\n",
      "===================================================================================================\n",
      "Model:                           MixedLM               Dependent Variable:               kss       \n",
      "No. Observations:                1079                  Method:                           REML      \n",
      "No. Groups:                      48                    Scale:                            2.4267    \n",
      "Min. group size:                 2                     Log-Likelihood:                   -2110.3798\n",
      "Max. group size:                 39                    Converged:                        Yes       \n",
      "Mean group size:                 22.5                                                              \n",
      "---------------------------------------------------------------------------------------------------\n",
      "                                                         Coef.  Std.Err.   z    P>|z| [0.025 0.975]\n",
      "---------------------------------------------------------------------------------------------------\n",
      "Intercept                                                 3.906    0.334 11.711 0.000  3.252  4.560\n",
      "quest_fill_hour[T.EM]                                     0.651    0.196  3.316 0.001  0.266  1.036\n",
      "quest_fill_hour[T.EVE]                                    0.529    0.145  3.648 0.000  0.245  0.814\n",
      "quest_fill_hour[T.MOR]                                    0.371    0.148  2.514 0.012  0.082  0.661\n",
      "quest_fill_hour[T.NI]                                     1.685    0.158 10.682 0.000  1.375  1.994\n",
      "Group Var                                                 1.681    0.451                           \n",
      "Group x workload_moment[T.middle] Cov                    -1.198    0.334                           \n",
      "workload_moment[T.middle] Var                             1.522    0.316                           \n",
      "Group x workload_moment[T.start] Cov                     -2.129    0.522                           \n",
      "workload_moment[T.middle] x workload_moment[T.start] Cov  2.598    0.405                           \n",
      "workload_moment[T.start] Var                              4.577    0.673                           \n",
      "===================================================================================================\n",
      "\n"
     ]
    }
   ],
   "source": [
    "md = smf.mixedlm(\"kss ~ quest_fill_hour\", working_df, groups=working_df[\"Id\"], re_formula = '~workload_moment')\n",
    "# md = smf.mixedlm(\"kss ~ workload_moment*quest_fill_hour\", working_df, groups=working_df[\"Id\"])\n",
    "mdf = md.fit()\n",
    "print(mdf.summary())"
   ]
  },
  {
   "cell_type": "code",
   "execution_count": 81,
   "id": "c8abcbc0-9965-41ad-9cf1-b6bf92c2ee2a",
   "metadata": {},
   "outputs": [
    {
     "name": "stdout",
     "output_type": "stream",
     "text": [
      "                Mixed Linear Model Regression Results\n",
      "=====================================================================\n",
      "Model:                 MixedLM     Dependent Variable:     kss       \n",
      "No. Observations:      1079        Method:                 REML      \n",
      "No. Groups:            48          Scale:                  2.4966    \n",
      "Min. group size:       2           Log-Likelihood:         -2074.7298\n",
      "Max. group size:       39          Converged:              Yes       \n",
      "Mean group size:       22.5                                          \n",
      "---------------------------------------------------------------------\n",
      "                          Coef.  Std.Err.    z    P>|z| [0.025 0.975]\n",
      "---------------------------------------------------------------------\n",
      "Intercept                  4.867    0.164  29.668 0.000  4.546  5.189\n",
      "quest_fill_hour[T.EM]      0.791    0.190   4.175 0.000  0.420  1.163\n",
      "quest_fill_hour[T.EVE]     0.533    0.142   3.748 0.000  0.254  0.812\n",
      "quest_fill_hour[T.MOR]     0.459    0.143   3.206 0.001  0.178  0.739\n",
      "quest_fill_hour[T.NI]      1.750    0.150  11.674 0.000  1.457  2.044\n",
      "workload_moment[T.middle] -1.243    0.124 -10.018 0.000 -1.486 -1.000\n",
      "workload_moment[T.start]  -2.106    0.119 -17.738 0.000 -2.338 -1.873\n",
      "Group Var                  0.694    0.113                            \n",
      "=====================================================================\n",
      "\n"
     ]
    }
   ],
   "source": [
    "# working_df.loc[working_df['workload_moment'].isin(['middle','start']), 'workload_moment'] = 'Aother'\n",
    "\n",
    "md = smf.mixedlm(\"kss ~ quest_fill_hour + workload_moment\", working_df, groups=working_df[\"Id\"])\n",
    "mdf = md.fit()\n",
    "print(mdf.summary())"
   ]
  },
  {
   "cell_type": "code",
   "execution_count": 67,
   "id": "7e13305e-af59-4ba2-b5d4-b3181c788815",
   "metadata": {},
   "outputs": [
    {
     "name": "stdout",
     "output_type": "stream",
     "text": [
      "ok\n",
      "ERROR! Session/line number was not unique in database. History logging moved to new session 312\n"
     ]
    }
   ],
   "source": []
  }
 ],
 "metadata": {
  "kernelspec": {
   "display_name": "Python 3 (ipykernel)",
   "language": "python",
   "name": "python3"
  },
  "language_info": {
   "codemirror_mode": {
    "name": "ipython",
    "version": 3
   },
   "file_extension": ".py",
   "mimetype": "text/x-python",
   "name": "python",
   "nbconvert_exporter": "python",
   "pygments_lexer": "ipython3",
   "version": "3.9.7"
  }
 },
 "nbformat": 4,
 "nbformat_minor": 5
}
